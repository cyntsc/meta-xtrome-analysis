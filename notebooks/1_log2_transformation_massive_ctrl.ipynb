{
 "cells": [
  {
   "cell_type": "markdown",
   "metadata": {},
   "source": [
    "# 1 Workflow to integrate the Athal1 (control samples) quantification files\n",
    "\n",
    "#### Dataset1: Healthy - Arabidopsis (Col-0)\n",
    "\n",
    "Cynthia Soto<br>\n",
    "Fecha: 20 de Agosto 2020<br>\n",
    "Datatype representation: expression levels CDS (gene_name) <br>\n",
    "Data quantify with HTSeq (alignments done with STAR SA) <br>\n",
    "\n",
    "***Case:*** <br>\n",
    "The data quantifications produced with HTSeq are given in absolute values. Therefore, it is necessary to transform the data to some scale that is appropriate for further analysis. In this case, I will apply the Log2 transformation to the data after plus 1 to avoid arithmetic errors.\n",
    "\n",
    "***Workflow:***<br>\n",
    "1) Explore data & get the correct format (remove or add headers; remove not informative data, etc.)<br>\n",
    "2) Get basic statics & counts in zeros.<br>\n",
    "3) Transform absolute counts into Log2 counts. <br>\n",
    "4) Get basic statics onto Log2 values. <br>\n",
    "5) Create log2 files & statistics files in cvs format for further analysis. <br>\n"
   ]
  },
  {
   "cell_type": "code",
   "execution_count": 7,
   "metadata": {},
   "outputs": [],
   "source": [
    "import pandas as pd\n",
    "import numpy as np\n",
    "import os \n",
    "import glob"
   ]
  },
  {
   "cell_type": "code",
   "execution_count": 8,
   "metadata": {},
   "outputs": [
    {
     "name": "stdout",
     "output_type": "stream",
     "text": [
      "Directory changed\n",
      "/home/cyntsc/Proyectos/tesis-code/meta-xtrome-analysis/athal1_htseq-counts\n"
     ]
    }
   ],
   "source": [
    "try:\n",
    "    # Change the current working Directory to the quantification dir\n",
    "    #os.chdir(\"/home/cyntsc/Proyectos/athal1_htseq-counts/\")\n",
    "    os.chdir(\"/home/cyntsc/Proyectos/tesis-code/meta-xtrome-analysis/athal1_htseq-counts/\")\n",
    "    print(\"Directory changed\")\n",
    "except OSError:\n",
    "    print(\"Can't change the Current Working Directory\")\n",
    "s_path=os.getcwd()\n",
    "print(s_path)"
   ]
  },
  {
   "cell_type": "code",
   "execution_count": 9,
   "metadata": {},
   "outputs": [
    {
     "data": {
      "text/plain": [
       "['all_log2_3_ceros.csv',\n",
       " 'all_log2_6_ceros.csv',\n",
       " 'SRR6283145',\n",
       " 'all_genesIDs_3cero',\n",
       " 'SRR3383640_Log2.csv',\n",
       " 'SRR6283144',\n",
       " 'athal_gene_name.csv',\n",
       " 'SRR3383821_Log2.csv',\n",
       " 'all_log2_counter_cero.csv',\n",
       " 'all_log2_dropped5ceros.csv',\n",
       " 'SRR3383640',\n",
       " 'SRR3383782_Log2.csv',\n",
       " 'SRR6283145_Log2.csv',\n",
       " 'wgcna_dataset1_thaliana_sana',\n",
       " 'all_log2_dropped7ceros.csv',\n",
       " 'all_log2_dropped4ceros.csv',\n",
       " 'SRR3383641_Log2.csv',\n",
       " 'SRR3383783_Log2.csv',\n",
       " 'all_log2_7_ceros.csv',\n",
       " 'SRR3383783',\n",
       " 'all_genesIDs_4cero',\n",
       " 'all_log2_dropped6ceros.csv',\n",
       " 'SRR3383822_Log2.csv',\n",
       " 'SRR3383782',\n",
       " 'all_genesIDs_cero',\n",
       " 'all_log2_8_ceros.csv',\n",
       " 'SRR3383822',\n",
       " 'all_log2_dropped8ceros.csv',\n",
       " 'all_log2_5_ceros.csv',\n",
       " 'all_log2_4_ceros.csv',\n",
       " 'SRR6283144_Log2.csv',\n",
       " 'SRR3383641',\n",
       " 'all_genesIDs_7cero',\n",
       " 'all_genesIDs_5cero',\n",
       " 'all_genesIDs_6cero',\n",
       " 'all_log2_dropped3ceros.csv',\n",
       " 'SRR3383821']"
      ]
     },
     "execution_count": 9,
     "metadata": {},
     "output_type": "execute_result"
    }
   ],
   "source": [
    "#print(os.listdir(os.getcwd()) # list files in Dir\n",
    "os.listdir(os.getcwd())"
   ]
  },
  {
   "cell_type": "code",
   "execution_count": 10,
   "metadata": {},
   "outputs": [],
   "source": [
    "#for file in glob.glob(\"SRR*\"):\n",
    "#    print(file)"
   ]
  },
  {
   "cell_type": "markdown",
   "metadata": {},
   "source": [
    "### Here, are created two relevant data files:\n",
    "<ol>\n",
    "<li>The log2 transformated values: *_Log2.csv </li>\n",
    "<li>The basic stats about the data distributions: *_stats.csv</li>\n",
    "</ol>"
   ]
  },
  {
   "cell_type": "code",
   "execution_count": 11,
   "metadata": {},
   "outputs": [],
   "source": [
    "## TRANSFORM values from absolute to log2\n",
    "## Take in account to remove rows with statistic data produced by the quantification tool or meta-data that are not relevant in this point\n",
    "## It is assumed that files contains just \"Genes and Counts\"\n",
    "for file in glob.glob(\"SRR*\"):\n",
    "    #print(file)\n",
    "    df= pd.read_csv(file, sep='\\t', header=None)\n",
    "    # Add column-names\n",
    "    try:\n",
    "        df.columns = [\"Genes\",\"Counts\"]\n",
    "        #print(df.head(3))\n",
    "        #print(df.shape)\n",
    "        #print(df.tail(5))\n",
    "        df.drop(df.tail(5).index,inplace=True) # drop last n rows (refering statistics of HTSeq)\n",
    "        #print(df.tail(5))\n",
    "        ## Plus 1 to avoid arithmetical error in Log2 transformation (avoid error div/0)\n",
    "        df[\"Counts\"] += 1\n",
    "        ## Apply Log2 numpy function to absolute values and add a column\n",
    "        df['log2_value'] = np.log2(df['Counts'])\n",
    "        #print(df.head(3))\n",
    "        ## CREATE NEW file_Log2.csv\n",
    "        #df.to_csv(str(file)+'_Log2.csv', sep='\\t', index=True)\n",
    "        \n",
    "        ## check zero values across genes based on abs.val and log2.val to add to the basic stats df\n",
    "        genes_in_cero = df.isin([0]).sum()\n",
    "        #print(genes_in_cero)\n",
    "        ## CREATE NEW file with basic statistics *_stats.csv\n",
    "        df_stats=df.describe()\n",
    "        #print(df_stats.columns)\n",
    "        df_stats.loc['Zeros'] = [genes_in_cero['Counts'],genes_in_cero['log2_value']]\n",
    "        # adding a row\n",
    "        df_stats.loc['sample'] = [file, file]               # adding a row\n",
    "        #print(df_stats)       # print(df_stats.columns)\n",
    "        #df_stats.to_csv('../../../athal1_stats/'+str(file)+'_stats.csv', sep='\\t')\n",
    "    except:\n",
    "        pass # doing nothing on exception, not processed because it is already pre-processed\""
   ]
  },
  {
   "cell_type": "code",
   "execution_count": 12,
   "metadata": {},
   "outputs": [
    {
     "name": "stdout",
     "output_type": "stream",
     "text": [
      "/home/cyntsc/Proyectos/tesis-code/meta-xtrome-analysis/athal1_htseq-counts\n",
      "Directory changed\n"
     ]
    }
   ],
   "source": [
    "print(str(os.getcwd()))\n",
    "try:\n",
    "    # Change the current working Directory to the quantification dir\n",
    "    #os.chdir(\"/home/cyntsc/Proyectos/athal1_htseq-counts/\")\n",
    "    os.chdir(\"/home/cyntsc/Proyectos/athal1_stats/\")\n",
    "    print(\"Directory changed\")\n",
    "except OSError:\n",
    "    print(\"Can't change the Current Working Directory\")\n",
    "    s_path=os.getcwd()\n",
    "    print(s_path)"
   ]
  },
  {
   "cell_type": "markdown",
   "metadata": {},
   "source": [
    "### Here all stats files are integrated in one file to plot it\n",
    "Important note: when re-running this piece of code be sure to erase the **allsample_stats.csv** file from your work directory before running again"
   ]
  },
  {
   "cell_type": "code",
   "execution_count": 13,
   "metadata": {},
   "outputs": [
    {
     "name": "stdout",
     "output_type": "stream",
     "text": [
      "SRR6283145_stats.csv\n",
      "SRR3383783_stats.csv\n",
      "SRR3383641_stats.csv\n",
      "SRR3383782_stats.csv\n",
      "SRR3383640_stats.csv\n",
      "SRR3383821_stats.csv\n",
      "SRR6283144_stats.csv\n",
      "SRR3383822_stats.csv\n",
      "            0        1                   2                   3    4    5  \\\n",
      "1      Counts  27655.0   633.6507322364853  2953.7515375596795  1.0  1.0   \n",
      "2  log2_value  27655.0   5.307407306326486   4.182176471984372  0.0  0.0   \n",
      "1      Counts  27655.0   453.5218224552522   3224.049552321334  1.0  1.0   \n",
      "2  log2_value  27655.0   4.941991419748094  3.8915038468000707  0.0  0.0   \n",
      "1      Counts  27655.0   717.3532815042488    3764.29342521545  1.0  1.0   \n",
      "2  log2_value  27655.0  5.6200377131937085  4.2069014702594725  0.0  0.0   \n",
      "1      Counts  27655.0   955.2743807629723   7136.475185768917  1.0  2.0   \n",
      "2  log2_value  27655.0   5.701391209902577   4.242752919097512  0.0  1.0   \n",
      "1      Counts  27655.0    348.664328331224  1860.4692499293658  1.0  1.0   \n",
      "2  log2_value  27655.0   4.919338996809231   3.791072442387742  0.0  0.0   \n",
      "1      Counts  27655.0   482.7541493400832   2645.055346295502  1.0  1.0   \n",
      "2  log2_value  27655.0   5.118317463224261   3.943576312846421  0.0  0.0   \n",
      "1      Counts  27655.0   707.5412041222202  4073.4434326360984  1.0  1.0   \n",
      "2  log2_value  27655.0   5.269930743616318   4.197586969773496  0.0  0.0   \n",
      "1      Counts  27655.0  320.34670041583803  2041.0240612378823  1.0  1.0   \n",
      "2  log2_value  27655.0   4.671514512940085   3.705816778099094  0.0  0.0   \n",
      "\n",
      "                    6                  7                   8       9  \\\n",
      "1                73.0              482.0            141109.0     0.0   \n",
      "2   6.189824558880018  8.912889336229961  17.106450481091255  7688.0   \n",
      "1                52.0              304.0            315703.0     0.0   \n",
      "2   5.700439718141092  8.247927513443585  18.268208444509813  7627.0   \n",
      "1               106.0              587.0            315018.0     0.0   \n",
      "2   6.727920454563199  9.197216693110052  18.265074740410657  7039.0   \n",
      "1               107.0              608.0            660693.0     0.0   \n",
      "2  6.7414669864011465  9.247927513443585  19.333620533971455  6888.0   \n",
      "1                53.0              282.0            153438.0     0.0   \n",
      "2   5.727920454563199  8.139551352398794  17.227296295103052  7396.0   \n",
      "1                62.0              352.0            148427.0     0.0   \n",
      "2   5.954196310386875  8.459431618637296   17.17939402746687  7360.0   \n",
      "1                64.0              470.0            274645.0     0.0   \n",
      "2                 6.0     8.876516946565  18.067208501807997  7700.0   \n",
      "1                41.0              225.0            113772.0     0.0   \n",
      "2   5.357552004618084  7.813781191217037  16.795786019502003  7702.0   \n",
      "\n",
      "           10  \n",
      "1  SRR6283145  \n",
      "2  SRR6283145  \n",
      "1  SRR3383783  \n",
      "2  SRR3383783  \n",
      "1  SRR3383641  \n",
      "2  SRR3383641  \n",
      "1  SRR3383782  \n",
      "2  SRR3383782  \n",
      "1  SRR3383640  \n",
      "2  SRR3383640  \n",
      "1  SRR3383821  \n",
      "2  SRR3383821  \n",
      "1  SRR6283144  \n",
      "2  SRR6283144  \n",
      "1  SRR3383822  \n",
      "2  SRR3383822  \n"
     ]
    }
   ],
   "source": [
    "bfirst_file=True\n",
    "for file in glob.glob(\"*_stats.csv\"):\n",
    "    print(file)\n",
    "    df_tmp=pd.read_csv(file, sep='\\t', header=None, index_col=False)\n",
    "    #print(df_tmp)\n",
    "    #df_tmp.drop(df_tmp.index[:0], inplace=True)\n",
    "    # drop index 0 and 1 -- rows\n",
    "    #print(df_tmp)\n",
    "    df = df_tmp.T\n",
    "    df.drop(df.index[:1], inplace=True)\n",
    "    # drop index 0 (somelike headers) -- rows\n",
    "    if bfirst_file==True:\n",
    "        df_all=df\n",
    "        bfirst_file=False\n",
    "        #print(df_all)\n",
    "    else:\n",
    "        df_all=df_all.append(df)\n",
    "        #print(df_all)\n",
    "        pass\n",
    "    \n",
    "print(df_all)\n",
    "df_all.to_csv('allsample_stats.csv', sep='\\t', header=None, index=None)"
   ]
  },
  {
   "cell_type": "code",
   "execution_count": 14,
   "metadata": {},
   "outputs": [],
   "source": [
    "#set columns to apply filters by name\n",
    "df_all.columns = ['Metric','count','mean','std','min','25%','50%','75%','max','Zeros','sample']"
   ]
  },
  {
   "cell_type": "code",
   "execution_count": 16,
   "metadata": {},
   "outputs": [
    {
     "name": "stdout",
     "output_type": "stream",
     "text": [
      "       Metric    count                mean                 std  min  25%  \\\n",
      "2  log2_value  27655.0   5.307407306326486   4.182176471984372  0.0  0.0   \n",
      "2  log2_value  27655.0   4.941991419748094  3.8915038468000707  0.0  0.0   \n",
      "2  log2_value  27655.0  5.6200377131937085  4.2069014702594725  0.0  0.0   \n",
      "2  log2_value  27655.0   5.701391209902577   4.242752919097512  0.0  1.0   \n",
      "2  log2_value  27655.0   4.919338996809231   3.791072442387742  0.0  0.0   \n",
      "2  log2_value  27655.0   5.118317463224261   3.943576312846421  0.0  0.0   \n",
      "2  log2_value  27655.0   5.269930743616318   4.197586969773496  0.0  0.0   \n",
      "2  log2_value  27655.0   4.671514512940085   3.705816778099094  0.0  0.0   \n",
      "\n",
      "                  50%                75%                 max   Zeros  \\\n",
      "2   6.189824558880018  8.912889336229961  17.106450481091255  7688.0   \n",
      "2   5.700439718141092  8.247927513443585  18.268208444509813  7627.0   \n",
      "2   6.727920454563199  9.197216693110052  18.265074740410657  7039.0   \n",
      "2  6.7414669864011465  9.247927513443585  19.333620533971455  6888.0   \n",
      "2   5.727920454563199  8.139551352398794  17.227296295103052  7396.0   \n",
      "2   5.954196310386875  8.459431618637296   17.17939402746687  7360.0   \n",
      "2                 6.0     8.876516946565  18.067208501807997  7700.0   \n",
      "2   5.357552004618084  7.813781191217037  16.795786019502003  7702.0   \n",
      "\n",
      "       sample  \n",
      "2  SRR6283145  \n",
      "2  SRR3383783  \n",
      "2  SRR3383641  \n",
      "2  SRR3383782  \n",
      "2  SRR3383640  \n",
      "2  SRR3383821  \n",
      "2  SRR6283144  \n",
      "2  SRR3383822  \n"
     ]
    }
   ],
   "source": [
    "## Filter data for plotting the log2 statistics\n",
    "is_log2=df_all['Metric']=='log2_value'\n",
    "#print(is_log2)\n",
    "df_plot=df_all[is_log2] #.round(decimals=3)\n",
    "print(df_plot)"
   ]
  },
  {
   "cell_type": "markdown",
   "metadata": {},
   "source": [
    "**Data type conversion**"
   ]
  },
  {
   "cell_type": "code",
   "execution_count": 17,
   "metadata": {},
   "outputs": [
    {
     "name": "stdout",
     "output_type": "stream",
     "text": [
      "Metric     object\n",
      "count      object\n",
      "mean      float64\n",
      "std       float64\n",
      "min        object\n",
      "25%       float64\n",
      "50%       float64\n",
      "75%       float64\n",
      "max       float64\n",
      "Zeros     float64\n",
      "sample     object\n",
      "dtype: object\n"
     ]
    },
    {
     "name": "stderr",
     "output_type": "stream",
     "text": [
      "/home/cyntsc/Proyectos/tesis-code/jn_tesis_env/lib/python3.6/site-packages/pandas/core/frame.py:2963: SettingWithCopyWarning: \n",
      "A value is trying to be set on a copy of a slice from a DataFrame.\n",
      "Try using .loc[row_indexer,col_indexer] = value instead\n",
      "\n",
      "See the caveats in the documentation: https://pandas.pydata.org/pandas-docs/stable/user_guide/indexing.html#returning-a-view-versus-a-copy\n",
      "  self[k1] = value[k2]\n"
     ]
    },
    {
     "data": {
      "text/html": [
       "<div>\n",
       "<style scoped>\n",
       "    .dataframe tbody tr th:only-of-type {\n",
       "        vertical-align: middle;\n",
       "    }\n",
       "\n",
       "    .dataframe tbody tr th {\n",
       "        vertical-align: top;\n",
       "    }\n",
       "\n",
       "    .dataframe thead th {\n",
       "        text-align: right;\n",
       "    }\n",
       "</style>\n",
       "<table border=\"1\" class=\"dataframe\">\n",
       "  <thead>\n",
       "    <tr style=\"text-align: right;\">\n",
       "      <th></th>\n",
       "      <th>sample</th>\n",
       "      <th>mean</th>\n",
       "      <th>std</th>\n",
       "      <th>25%</th>\n",
       "      <th>50%</th>\n",
       "      <th>75%</th>\n",
       "      <th>max</th>\n",
       "      <th>Zeros</th>\n",
       "    </tr>\n",
       "  </thead>\n",
       "  <tbody>\n",
       "    <tr>\n",
       "      <th>2</th>\n",
       "      <td>SRR6283145</td>\n",
       "      <td>5.307</td>\n",
       "      <td>4.182</td>\n",
       "      <td>0.0</td>\n",
       "      <td>6.190</td>\n",
       "      <td>8.913</td>\n",
       "      <td>17.106</td>\n",
       "      <td>7688.0</td>\n",
       "    </tr>\n",
       "    <tr>\n",
       "      <th>2</th>\n",
       "      <td>SRR3383783</td>\n",
       "      <td>4.942</td>\n",
       "      <td>3.892</td>\n",
       "      <td>0.0</td>\n",
       "      <td>5.700</td>\n",
       "      <td>8.248</td>\n",
       "      <td>18.268</td>\n",
       "      <td>7627.0</td>\n",
       "    </tr>\n",
       "    <tr>\n",
       "      <th>2</th>\n",
       "      <td>SRR3383641</td>\n",
       "      <td>5.620</td>\n",
       "      <td>4.207</td>\n",
       "      <td>0.0</td>\n",
       "      <td>6.728</td>\n",
       "      <td>9.197</td>\n",
       "      <td>18.265</td>\n",
       "      <td>7039.0</td>\n",
       "    </tr>\n",
       "    <tr>\n",
       "      <th>2</th>\n",
       "      <td>SRR3383782</td>\n",
       "      <td>5.701</td>\n",
       "      <td>4.243</td>\n",
       "      <td>1.0</td>\n",
       "      <td>6.741</td>\n",
       "      <td>9.248</td>\n",
       "      <td>19.334</td>\n",
       "      <td>6888.0</td>\n",
       "    </tr>\n",
       "    <tr>\n",
       "      <th>2</th>\n",
       "      <td>SRR3383640</td>\n",
       "      <td>4.919</td>\n",
       "      <td>3.791</td>\n",
       "      <td>0.0</td>\n",
       "      <td>5.728</td>\n",
       "      <td>8.140</td>\n",
       "      <td>17.227</td>\n",
       "      <td>7396.0</td>\n",
       "    </tr>\n",
       "    <tr>\n",
       "      <th>2</th>\n",
       "      <td>SRR3383821</td>\n",
       "      <td>5.118</td>\n",
       "      <td>3.944</td>\n",
       "      <td>0.0</td>\n",
       "      <td>5.954</td>\n",
       "      <td>8.459</td>\n",
       "      <td>17.179</td>\n",
       "      <td>7360.0</td>\n",
       "    </tr>\n",
       "    <tr>\n",
       "      <th>2</th>\n",
       "      <td>SRR6283144</td>\n",
       "      <td>5.270</td>\n",
       "      <td>4.198</td>\n",
       "      <td>0.0</td>\n",
       "      <td>6.000</td>\n",
       "      <td>8.877</td>\n",
       "      <td>18.067</td>\n",
       "      <td>7700.0</td>\n",
       "    </tr>\n",
       "    <tr>\n",
       "      <th>2</th>\n",
       "      <td>SRR3383822</td>\n",
       "      <td>4.672</td>\n",
       "      <td>3.706</td>\n",
       "      <td>0.0</td>\n",
       "      <td>5.358</td>\n",
       "      <td>7.814</td>\n",
       "      <td>16.796</td>\n",
       "      <td>7702.0</td>\n",
       "    </tr>\n",
       "  </tbody>\n",
       "</table>\n",
       "</div>"
      ],
      "text/plain": [
       "       sample   mean    std  25%    50%    75%     max   Zeros\n",
       "2  SRR6283145  5.307  4.182  0.0  6.190  8.913  17.106  7688.0\n",
       "2  SRR3383783  4.942  3.892  0.0  5.700  8.248  18.268  7627.0\n",
       "2  SRR3383641  5.620  4.207  0.0  6.728  9.197  18.265  7039.0\n",
       "2  SRR3383782  5.701  4.243  1.0  6.741  9.248  19.334  6888.0\n",
       "2  SRR3383640  4.919  3.791  0.0  5.728  8.140  17.227  7396.0\n",
       "2  SRR3383821  5.118  3.944  0.0  5.954  8.459  17.179  7360.0\n",
       "2  SRR6283144  5.270  4.198  0.0  6.000  8.877  18.067  7700.0\n",
       "2  SRR3383822  4.672  3.706  0.0  5.358  7.814  16.796  7702.0"
      ]
     },
     "execution_count": 17,
     "metadata": {},
     "output_type": "execute_result"
    }
   ],
   "source": [
    "df_plot.dtypes\n",
    "#df_plot[\"mean\"] = df_plot['mean'].astype('float')\n",
    "#df_plot.dtypes\n",
    "# using apply method to get str to numeric dtype\n",
    "df_plot[['mean','std','25%','50%','75%','max','Zeros']] = df_plot[['mean','std','25%','50%','75%','max','Zeros']].apply(pd.to_numeric)\n",
    "print(df_plot.dtypes)\n",
    "df_plot=df_plot.filter(['sample','mean','std','25%','50%','75%','max','Zeros']).round(decimals=3)\n",
    "df_plot"
   ]
  },
  {
   "cell_type": "markdown",
   "metadata": {},
   "source": [
    "### Plot quantification metrics "
   ]
  },
  {
   "cell_type": "code",
   "execution_count": 18,
   "metadata": {},
   "outputs": [],
   "source": [
    "import matplotlib.pyplot as plt\n",
    "plt.style.available[:10]    \n",
    "# 'Solarize_Light2','_classic_test_patch', 'bmh', 'classic', 'dark_background', 'fast', 'fivethirtyeight', 'ggplot', 'grayscale',  'seaborn'\n",
    "plt.style.use('classic')"
   ]
  },
  {
   "cell_type": "code",
   "execution_count": 19,
   "metadata": {
    "scrolled": false
   },
   "outputs": [
    {
     "name": "stderr",
     "output_type": "stream",
     "text": [
      "/home/cyntsc/Proyectos/tesis-code/jn_tesis_env/lib/python3.6/site-packages/pandas/plotting/_matplotlib/core.py:1192: UserWarning: FixedFormatter should only be used together with FixedLocator\n",
      "  ax.set_xticklabels(xticklabels)\n"
     ]
    },
    {
     "data": {
      "image/png": "[encoded data removed]",
      "text/plain": [
       "<Figure size 640x480 with 1 Axes>"
      ]
     },
     "metadata": {},
     "output_type": "display_data"
    },
    {
     "data": {
      "text/plain": [
       "<Figure size 640x480 with 0 Axes>"
      ]
     },
     "metadata": {},
     "output_type": "display_data"
    }
   ],
   "source": [
    "df_plot.plot(x='sample', y=['mean','std','25%','50%','75%','max'], kind='line')   #kind='lines,box,area'\n",
    "plt.xlabel('#sample: (accession)',color='black')\n",
    "plt.xticks(rotation=45)\n",
    "plt.ylabel('Log2 values',color='black')\n",
    "plt.title('Dataset A.thaliana1 (control): quantification metrics', fontsize=14)\n",
    "plt.legend()\n",
    "plt.show()\n",
    "plt.savefig(\"athal1_basic_statics.png\")"
   ]
  },
  {
   "cell_type": "markdown",
   "metadata": {},
   "source": [
    "***To plot the lines in the chart (ceros across samples) first need to merge sample*** <br>\n",
    "Go to notebook 3_merge* file before run this code "
   ]
  },
  {
   "cell_type": "code",
   "execution_count": 26,
   "metadata": {},
   "outputs": [
    {
     "data": {
      "image/png": "[encoded data removed]",
      "text/plain": [
       "<Figure size 640x480 with 1 Axes>"
      ]
     },
     "metadata": {},
     "output_type": "display_data"
    },
    {
     "data": {
      "text/plain": [
       "<Figure size 640x480 with 0 Axes>"
      ]
     },
     "metadata": {},
     "output_type": "display_data"
    }
   ],
   "source": [
    "# More plots\n",
    "df_plot.plot(x='sample', y='Zeros', kind='bar', color='green')\n",
    "plt.xlabel('#sample: (accession)',color='black')\n",
    "plt.xticks(rotation=45)\n",
    "plt.ylabel('#genes with cero counts', color='black')\n",
    "plt.title('Dataset A.thaliana1 (control): genes with cero counts.', fontsize=14)\n",
    "plt.legend(loc=7)\n",
    "\n",
    "## add arbitrary lines to canvas\n",
    "plt.plot([0, 7], [7688, 7688], 'k-', lw=2, color='red',marker = 'o')\n",
    "plt.plot([0, 7], [5228, 5228], 'k-', lw=2, color='blue',marker = 'o')\n",
    "plt.text(0, 7400, \"ceros:7702\",fontsize=14)\n",
    "plt.text(0, 5400, \"ceros:5228\",fontsize=14)\n",
    "\n",
    "plt.show()\n",
    "plt.savefig(\"athal1_zeroLog2_counts.png\")"
   ]
  },
  {
   "cell_type": "code",
   "execution_count": null,
   "metadata": {},
   "outputs": [],
   "source": []
  }
 ],
 "metadata": {
  "kernelspec": {
   "display_name": "Python 3",
   "language": "python",
   "name": "python3"
  },
  "language_info": {
   "codemirror_mode": {
    "name": "ipython",
    "version": 3
   },
   "file_extension": ".py",
   "mimetype": "text/x-python",
   "name": "python",
   "nbconvert_exporter": "python",
   "pygments_lexer": "ipython3",
   "version": "3.6.9"
  }
 },
 "nbformat": 4,
 "nbformat_minor": 4
}
