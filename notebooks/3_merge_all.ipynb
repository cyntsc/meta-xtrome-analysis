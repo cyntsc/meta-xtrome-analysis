{
 "cells": [
  {
   "cell_type": "markdown",
   "metadata": {},
   "source": [
    "# 3 Data integration in a single matrix (Control+Infected)\n",
    "#### Dataset1+Dataset2 (Arabidopsis Col-0 + Arabidopsis Infected)\n",
    "\n",
    "Cynthia Soto <br>\n",
    "Fecha: 5 de Octubre 2020 <br>\n",
    "Datatype representation: normalized values in log2 scale (genome name reference) <br>\n",
    "Data quantify with HTSeq (alignments done with STAR SA)  <br>\n",
    "\n",
    "In this point: <br>\n",
    "Datasets are ready (transformed to a log2 scale). <br>\n",
    "Distributions are known. <br>\n",
    "Genes with ceros across all samples by dataset are also known.  <br>\n",
    "\n",
    "**Workflow:** <br>\n",
    "1) Merge dataset1 and dataset2 (20 xtromes) <br>\n",
    "2) Plot the distributions.  <br> \n",
    "3) Remove genes with ceros across all samples.  <br>\n",
    "4) Plot the new distributions.  <br>"
   ]
  },
  {
   "cell_type": "code",
   "execution_count": 1,
   "metadata": {},
   "outputs": [],
   "source": [
    "# Libraries required\n",
    "import os \n",
    "import glob\n",
    "import pandas as pd\n",
    "import matplotlib.pyplot as plt\n",
    "import numpy as np\n",
    "import seaborn as sns"
   ]
  },
  {
   "cell_type": "code",
   "execution_count": 2,
   "metadata": {},
   "outputs": [
    {
     "name": "stdout",
     "output_type": "stream",
     "text": [
      "Directory changed: /home/cyntsc/Proyectos/tesis-code/meta-xtrome-analysis\n"
     ]
    }
   ],
   "source": [
    "try:\n",
    "    # Change the current working Directory    \n",
    "    os.chdir(\"/home/cyntsc/Proyectos/tesis-code/meta-xtrome-analysis/\")\n",
    "    print(\"Directory changed:\", os.getcwd() )\n",
    "except OSError:\n",
    "    print(\"Can't change the Current Working Directory\")    \n",
    "s_path = str(os.getcwd())+'/*_Log2.csv'             "
   ]
  },
  {
   "cell_type": "markdown",
   "metadata": {},
   "source": [
    "### Datasets are going to be load in df\n",
    "<br>\n",
    "First, let's to validate ceros across samples by dataset<br>\n",
    "<br>\n",
    "**Files to merge:** <br>\n",
    "athal1_htseq-counts/all_samples_log2.csv<br>\n",
    "athal2_htseq-counts/all_samples_log2.csv"
   ]
  },
  {
   "cell_type": "code",
   "execution_count": 3,
   "metadata": {},
   "outputs": [
    {
     "name": "stdout",
     "output_type": "stream",
     "text": [
      "(27655, 10)\n",
      "Index(['Genes', 'SRR3383640', 'SRR3383821', 'SRR3383782', 'SRR6283145',\n",
      "       'SRR3383641', 'SRR3383783', 'SRR3383822', 'SRR6283144'],\n",
      "      dtype='object')\n"
     ]
    },
    {
     "data": {
      "text/html": [
       "<div>\n",
       "<style scoped>\n",
       "    .dataframe tbody tr th:only-of-type {\n",
       "        vertical-align: middle;\n",
       "    }\n",
       "\n",
       "    .dataframe tbody tr th {\n",
       "        vertical-align: top;\n",
       "    }\n",
       "\n",
       "    .dataframe thead th {\n",
       "        text-align: right;\n",
       "    }\n",
       "</style>\n",
       "<table border=\"1\" class=\"dataframe\">\n",
       "  <thead>\n",
       "    <tr style=\"text-align: right;\">\n",
       "      <th></th>\n",
       "      <th>Genes</th>\n",
       "      <th>SRR3383640</th>\n",
       "      <th>SRR3383821</th>\n",
       "      <th>SRR3383782</th>\n",
       "      <th>SRR6283145</th>\n",
       "      <th>SRR3383641</th>\n",
       "      <th>SRR3383783</th>\n",
       "      <th>SRR3383822</th>\n",
       "      <th>SRR6283144</th>\n",
       "    </tr>\n",
       "  </thead>\n",
       "  <tbody>\n",
       "    <tr>\n",
       "      <th>0</th>\n",
       "      <td>AT1G01010</td>\n",
       "      <td>6.523562</td>\n",
       "      <td>7.055282</td>\n",
       "      <td>6.845490</td>\n",
       "      <td>6.266787</td>\n",
       "      <td>7.592457</td>\n",
       "      <td>5.857981</td>\n",
       "      <td>6.066089</td>\n",
       "      <td>7.507795</td>\n",
       "    </tr>\n",
       "    <tr>\n",
       "      <th>1</th>\n",
       "      <td>AT1G01020</td>\n",
       "      <td>6.768184</td>\n",
       "      <td>7.189825</td>\n",
       "      <td>7.813781</td>\n",
       "      <td>7.459432</td>\n",
       "      <td>8.066089</td>\n",
       "      <td>6.882643</td>\n",
       "      <td>6.539159</td>\n",
       "      <td>7.357552</td>\n",
       "    </tr>\n",
       "    <tr>\n",
       "      <th>2</th>\n",
       "      <td>AT1G01030</td>\n",
       "      <td>3.807355</td>\n",
       "      <td>3.321928</td>\n",
       "      <td>5.169925</td>\n",
       "      <td>4.392317</td>\n",
       "      <td>4.523562</td>\n",
       "      <td>3.807355</td>\n",
       "      <td>4.087463</td>\n",
       "      <td>4.700440</td>\n",
       "    </tr>\n",
       "    <tr>\n",
       "      <th>3</th>\n",
       "      <td>AT1G01040</td>\n",
       "      <td>10.005625</td>\n",
       "      <td>9.992938</td>\n",
       "      <td>11.214926</td>\n",
       "      <td>11.311748</td>\n",
       "      <td>11.165535</td>\n",
       "      <td>10.371777</td>\n",
       "      <td>9.319672</td>\n",
       "      <td>11.283667</td>\n",
       "    </tr>\n",
       "    <tr>\n",
       "      <th>4</th>\n",
       "      <td>AT1G01050</td>\n",
       "      <td>9.733015</td>\n",
       "      <td>9.419960</td>\n",
       "      <td>11.379920</td>\n",
       "      <td>10.581201</td>\n",
       "      <td>10.854868</td>\n",
       "      <td>10.250298</td>\n",
       "      <td>8.668885</td>\n",
       "      <td>10.817783</td>\n",
       "    </tr>\n",
       "  </tbody>\n",
       "</table>\n",
       "</div>"
      ],
      "text/plain": [
       "       Genes  SRR3383640  SRR3383821  SRR3383782  SRR6283145  SRR3383641  \\\n",
       "0  AT1G01010    6.523562    7.055282    6.845490    6.266787    7.592457   \n",
       "1  AT1G01020    6.768184    7.189825    7.813781    7.459432    8.066089   \n",
       "2  AT1G01030    3.807355    3.321928    5.169925    4.392317    4.523562   \n",
       "3  AT1G01040   10.005625    9.992938   11.214926   11.311748   11.165535   \n",
       "4  AT1G01050    9.733015    9.419960   11.379920   10.581201   10.854868   \n",
       "\n",
       "   SRR3383783  SRR3383822  SRR6283144  \n",
       "0    5.857981    6.066089    7.507795  \n",
       "1    6.882643    6.539159    7.357552  \n",
       "2    3.807355    4.087463    4.700440  \n",
       "3   10.371777    9.319672   11.283667  \n",
       "4   10.250298    8.668885   10.817783  "
      ]
     },
     "execution_count": 3,
     "metadata": {},
     "output_type": "execute_result"
    }
   ],
   "source": [
    "# Import Data (example with 2 cvs files)\n",
    "df1=pd.read_csv(\"athal1_htseq-counts/all_samples_log2.csv\", sep='\\t')  #,nrows=100 , usecols=[1,3]\n",
    "print(df1.shape)\n",
    "## remove unnamed cols\n",
    "df1.drop(df1.columns[df1.columns.str.contains('Unnamed',case=False)],axis=1,inplace=True)\n",
    "print(df1.columns)\n",
    "df1.head(5)"
   ]
  },
  {
   "cell_type": "code",
   "execution_count": 4,
   "metadata": {},
   "outputs": [
    {
     "data": {
      "text/plain": [
       "Genes            0\n",
       "SRR3383640    7396\n",
       "SRR3383821    7360\n",
       "SRR3383782    6888\n",
       "SRR6283145    7688\n",
       "SRR3383641    7039\n",
       "SRR3383783    7627\n",
       "SRR3383822    7702\n",
       "SRR6283144    7700\n",
       "dtype: int64"
      ]
     },
     "execution_count": 4,
     "metadata": {},
     "output_type": "execute_result"
    }
   ],
   "source": [
    "#Check number of zeros by sample\n",
    "df1.isin([0]).sum()"
   ]
  },
  {
   "cell_type": "code",
   "execution_count": 5,
   "metadata": {},
   "outputs": [
    {
     "name": "stdout",
     "output_type": "stream",
     "text": [
      "(27655, 14)\n"
     ]
    },
    {
     "data": {
      "text/html": [
       "<div>\n",
       "<style scoped>\n",
       "    .dataframe tbody tr th:only-of-type {\n",
       "        vertical-align: middle;\n",
       "    }\n",
       "\n",
       "    .dataframe tbody tr th {\n",
       "        vertical-align: top;\n",
       "    }\n",
       "\n",
       "    .dataframe thead th {\n",
       "        text-align: right;\n",
       "    }\n",
       "</style>\n",
       "<table border=\"1\" class=\"dataframe\">\n",
       "  <thead>\n",
       "    <tr style=\"text-align: right;\">\n",
       "      <th></th>\n",
       "      <th>Genes</th>\n",
       "      <th>SRR364399</th>\n",
       "      <th>SRR6283148</th>\n",
       "      <th>SRR6283147</th>\n",
       "      <th>SRR3383696</th>\n",
       "      <th>SRR3383780</th>\n",
       "      <th>SRR10586397pe</th>\n",
       "      <th>SRR10586399pe</th>\n",
       "      <th>SRR3383779</th>\n",
       "      <th>SRR3383697</th>\n",
       "      <th>SRR364390</th>\n",
       "      <th>SRR364389</th>\n",
       "      <th>SRR364398</th>\n",
       "    </tr>\n",
       "  </thead>\n",
       "  <tbody>\n",
       "    <tr>\n",
       "      <th>0</th>\n",
       "      <td>AT1G01010</td>\n",
       "      <td>6.930737</td>\n",
       "      <td>3.000000</td>\n",
       "      <td>5.614710</td>\n",
       "      <td>6.539159</td>\n",
       "      <td>7.044394</td>\n",
       "      <td>8.577429</td>\n",
       "      <td>8.607330</td>\n",
       "      <td>6.044394</td>\n",
       "      <td>6.988685</td>\n",
       "      <td>6.965784</td>\n",
       "      <td>6.977280</td>\n",
       "      <td>6.942515</td>\n",
       "    </tr>\n",
       "    <tr>\n",
       "      <th>1</th>\n",
       "      <td>AT1G01020</td>\n",
       "      <td>6.727920</td>\n",
       "      <td>5.129283</td>\n",
       "      <td>5.357552</td>\n",
       "      <td>7.149747</td>\n",
       "      <td>7.400879</td>\n",
       "      <td>7.228819</td>\n",
       "      <td>7.139551</td>\n",
       "      <td>6.918863</td>\n",
       "      <td>7.375039</td>\n",
       "      <td>7.467606</td>\n",
       "      <td>7.330917</td>\n",
       "      <td>6.954196</td>\n",
       "    </tr>\n",
       "    <tr>\n",
       "      <th>2</th>\n",
       "      <td>AT1G01030</td>\n",
       "      <td>3.584963</td>\n",
       "      <td>4.459432</td>\n",
       "      <td>5.087463</td>\n",
       "      <td>2.807355</td>\n",
       "      <td>4.523562</td>\n",
       "      <td>5.727920</td>\n",
       "      <td>5.906891</td>\n",
       "      <td>4.321928</td>\n",
       "      <td>4.392317</td>\n",
       "      <td>3.169925</td>\n",
       "      <td>3.169925</td>\n",
       "      <td>3.459432</td>\n",
       "    </tr>\n",
       "    <tr>\n",
       "      <th>3</th>\n",
       "      <td>AT1G01040</td>\n",
       "      <td>9.262095</td>\n",
       "      <td>6.228819</td>\n",
       "      <td>5.857981</td>\n",
       "      <td>10.047124</td>\n",
       "      <td>10.251482</td>\n",
       "      <td>10.167418</td>\n",
       "      <td>10.200899</td>\n",
       "      <td>9.812177</td>\n",
       "      <td>10.382624</td>\n",
       "      <td>9.743151</td>\n",
       "      <td>9.842350</td>\n",
       "      <td>9.303781</td>\n",
       "    </tr>\n",
       "    <tr>\n",
       "      <th>4</th>\n",
       "      <td>AT1G01050</td>\n",
       "      <td>7.954196</td>\n",
       "      <td>4.700440</td>\n",
       "      <td>4.247928</td>\n",
       "      <td>10.284246</td>\n",
       "      <td>9.768184</td>\n",
       "      <td>9.967226</td>\n",
       "      <td>9.744834</td>\n",
       "      <td>9.481799</td>\n",
       "      <td>10.651949</td>\n",
       "      <td>8.689998</td>\n",
       "      <td>8.774787</td>\n",
       "      <td>8.016808</td>\n",
       "    </tr>\n",
       "  </tbody>\n",
       "</table>\n",
       "</div>"
      ],
      "text/plain": [
       "       Genes  SRR364399  SRR6283148  SRR6283147  SRR3383696  SRR3383780  \\\n",
       "0  AT1G01010   6.930737    3.000000    5.614710    6.539159    7.044394   \n",
       "1  AT1G01020   6.727920    5.129283    5.357552    7.149747    7.400879   \n",
       "2  AT1G01030   3.584963    4.459432    5.087463    2.807355    4.523562   \n",
       "3  AT1G01040   9.262095    6.228819    5.857981   10.047124   10.251482   \n",
       "4  AT1G01050   7.954196    4.700440    4.247928   10.284246    9.768184   \n",
       "\n",
       "   SRR10586397pe  SRR10586399pe  SRR3383779  SRR3383697  SRR364390  SRR364389  \\\n",
       "0       8.577429       8.607330    6.044394    6.988685   6.965784   6.977280   \n",
       "1       7.228819       7.139551    6.918863    7.375039   7.467606   7.330917   \n",
       "2       5.727920       5.906891    4.321928    4.392317   3.169925   3.169925   \n",
       "3      10.167418      10.200899    9.812177   10.382624   9.743151   9.842350   \n",
       "4       9.967226       9.744834    9.481799   10.651949   8.689998   8.774787   \n",
       "\n",
       "   SRR364398  \n",
       "0   6.942515  \n",
       "1   6.954196  \n",
       "2   3.459432  \n",
       "3   9.303781  \n",
       "4   8.016808  "
      ]
     },
     "execution_count": 5,
     "metadata": {},
     "output_type": "execute_result"
    }
   ],
   "source": [
    "## Import Data \n",
    "df2=pd.read_csv(\"athal2_htseq-counts/all_samples_log2.csv\", sep='\\t')\n",
    "print(df2.shape)\n",
    "## Removes unnamed cols\n",
    "df2.drop(df2.columns[df2.columns.str.contains('Unnamed',case=False)],axis=1,inplace=True)\n",
    "df2.head(5)"
   ]
  },
  {
   "cell_type": "markdown",
   "metadata": {},
   "source": [
    "Use numpy.where(condition, x, y) with condition as a boolean expression comparing two columns. For each row of the two columns, the corresponding element of the resulting NumPy array is x if condition is True, and y otherwise."
   ]
  },
  {
   "cell_type": "code",
   "execution_count": 6,
   "metadata": {},
   "outputs": [
    {
     "name": "stdout",
     "output_type": "stream",
     "text": [
      "[ True  True  True ...  True  True  True]\n"
     ]
    }
   ],
   "source": [
    "## Look if different gene_names exist in the files (df)\n",
    "comparison_column = np.where(df1[\"Genes\"] == df2[\"Genes\"], True, False)\n",
    "print (comparison_column)\n",
    "## If True all gene_names are equal, otherwise result is False"
   ]
  },
  {
   "cell_type": "code",
   "execution_count": 7,
   "metadata": {},
   "outputs": [
    {
     "data": {
      "text/plain": [
       "False"
      ]
     },
     "execution_count": 7,
     "metadata": {},
     "output_type": "execute_result"
    }
   ],
   "source": [
    "## Look for 'False' bool in the comparison, if found means something is different. \n",
    "## A \"False\" means all are true (equal)\n",
    "False in comparison_column"
   ]
  },
  {
   "cell_type": "code",
   "execution_count": 8,
   "metadata": {},
   "outputs": [
    {
     "data": {
      "text/html": [
       "<div>\n",
       "<style scoped>\n",
       "    .dataframe tbody tr th:only-of-type {\n",
       "        vertical-align: middle;\n",
       "    }\n",
       "\n",
       "    .dataframe tbody tr th {\n",
       "        vertical-align: top;\n",
       "    }\n",
       "\n",
       "    .dataframe thead th {\n",
       "        text-align: right;\n",
       "    }\n",
       "</style>\n",
       "<table border=\"1\" class=\"dataframe\">\n",
       "  <thead>\n",
       "    <tr style=\"text-align: right;\">\n",
       "      <th></th>\n",
       "      <th>Genes</th>\n",
       "      <th>SRR3383640</th>\n",
       "      <th>SRR3383821</th>\n",
       "      <th>SRR3383782</th>\n",
       "      <th>SRR6283145</th>\n",
       "      <th>SRR3383641</th>\n",
       "      <th>SRR3383783</th>\n",
       "      <th>SRR3383822</th>\n",
       "      <th>SRR6283144</th>\n",
       "      <th>SRR364399</th>\n",
       "      <th>...</th>\n",
       "      <th>SRR6283147</th>\n",
       "      <th>SRR3383696</th>\n",
       "      <th>SRR3383780</th>\n",
       "      <th>SRR10586397pe</th>\n",
       "      <th>SRR10586399pe</th>\n",
       "      <th>SRR3383779</th>\n",
       "      <th>SRR3383697</th>\n",
       "      <th>SRR364390</th>\n",
       "      <th>SRR364389</th>\n",
       "      <th>SRR364398</th>\n",
       "    </tr>\n",
       "  </thead>\n",
       "  <tbody>\n",
       "    <tr>\n",
       "      <th>0</th>\n",
       "      <td>AT1G01010</td>\n",
       "      <td>6.523562</td>\n",
       "      <td>7.055282</td>\n",
       "      <td>6.845490</td>\n",
       "      <td>6.266787</td>\n",
       "      <td>7.592457</td>\n",
       "      <td>5.857981</td>\n",
       "      <td>6.066089</td>\n",
       "      <td>7.507795</td>\n",
       "      <td>6.930737</td>\n",
       "      <td>...</td>\n",
       "      <td>5.614710</td>\n",
       "      <td>6.539159</td>\n",
       "      <td>7.044394</td>\n",
       "      <td>8.577429</td>\n",
       "      <td>8.607330</td>\n",
       "      <td>6.044394</td>\n",
       "      <td>6.988685</td>\n",
       "      <td>6.965784</td>\n",
       "      <td>6.977280</td>\n",
       "      <td>6.942515</td>\n",
       "    </tr>\n",
       "    <tr>\n",
       "      <th>1</th>\n",
       "      <td>AT1G01020</td>\n",
       "      <td>6.768184</td>\n",
       "      <td>7.189825</td>\n",
       "      <td>7.813781</td>\n",
       "      <td>7.459432</td>\n",
       "      <td>8.066089</td>\n",
       "      <td>6.882643</td>\n",
       "      <td>6.539159</td>\n",
       "      <td>7.357552</td>\n",
       "      <td>6.727920</td>\n",
       "      <td>...</td>\n",
       "      <td>5.357552</td>\n",
       "      <td>7.149747</td>\n",
       "      <td>7.400879</td>\n",
       "      <td>7.228819</td>\n",
       "      <td>7.139551</td>\n",
       "      <td>6.918863</td>\n",
       "      <td>7.375039</td>\n",
       "      <td>7.467606</td>\n",
       "      <td>7.330917</td>\n",
       "      <td>6.954196</td>\n",
       "    </tr>\n",
       "    <tr>\n",
       "      <th>2</th>\n",
       "      <td>AT1G01030</td>\n",
       "      <td>3.807355</td>\n",
       "      <td>3.321928</td>\n",
       "      <td>5.169925</td>\n",
       "      <td>4.392317</td>\n",
       "      <td>4.523562</td>\n",
       "      <td>3.807355</td>\n",
       "      <td>4.087463</td>\n",
       "      <td>4.700440</td>\n",
       "      <td>3.584963</td>\n",
       "      <td>...</td>\n",
       "      <td>5.087463</td>\n",
       "      <td>2.807355</td>\n",
       "      <td>4.523562</td>\n",
       "      <td>5.727920</td>\n",
       "      <td>5.906891</td>\n",
       "      <td>4.321928</td>\n",
       "      <td>4.392317</td>\n",
       "      <td>3.169925</td>\n",
       "      <td>3.169925</td>\n",
       "      <td>3.459432</td>\n",
       "    </tr>\n",
       "    <tr>\n",
       "      <th>3</th>\n",
       "      <td>AT1G01040</td>\n",
       "      <td>10.005625</td>\n",
       "      <td>9.992938</td>\n",
       "      <td>11.214926</td>\n",
       "      <td>11.311748</td>\n",
       "      <td>11.165535</td>\n",
       "      <td>10.371777</td>\n",
       "      <td>9.319672</td>\n",
       "      <td>11.283667</td>\n",
       "      <td>9.262095</td>\n",
       "      <td>...</td>\n",
       "      <td>5.857981</td>\n",
       "      <td>10.047124</td>\n",
       "      <td>10.251482</td>\n",
       "      <td>10.167418</td>\n",
       "      <td>10.200899</td>\n",
       "      <td>9.812177</td>\n",
       "      <td>10.382624</td>\n",
       "      <td>9.743151</td>\n",
       "      <td>9.842350</td>\n",
       "      <td>9.303781</td>\n",
       "    </tr>\n",
       "    <tr>\n",
       "      <th>4</th>\n",
       "      <td>AT1G01050</td>\n",
       "      <td>9.733015</td>\n",
       "      <td>9.419960</td>\n",
       "      <td>11.379920</td>\n",
       "      <td>10.581201</td>\n",
       "      <td>10.854868</td>\n",
       "      <td>10.250298</td>\n",
       "      <td>8.668885</td>\n",
       "      <td>10.817783</td>\n",
       "      <td>7.954196</td>\n",
       "      <td>...</td>\n",
       "      <td>4.247928</td>\n",
       "      <td>10.284246</td>\n",
       "      <td>9.768184</td>\n",
       "      <td>9.967226</td>\n",
       "      <td>9.744834</td>\n",
       "      <td>9.481799</td>\n",
       "      <td>10.651949</td>\n",
       "      <td>8.689998</td>\n",
       "      <td>8.774787</td>\n",
       "      <td>8.016808</td>\n",
       "    </tr>\n",
       "    <tr>\n",
       "      <th>...</th>\n",
       "      <td>...</td>\n",
       "      <td>...</td>\n",
       "      <td>...</td>\n",
       "      <td>...</td>\n",
       "      <td>...</td>\n",
       "      <td>...</td>\n",
       "      <td>...</td>\n",
       "      <td>...</td>\n",
       "      <td>...</td>\n",
       "      <td>...</td>\n",
       "      <td>...</td>\n",
       "      <td>...</td>\n",
       "      <td>...</td>\n",
       "      <td>...</td>\n",
       "      <td>...</td>\n",
       "      <td>...</td>\n",
       "      <td>...</td>\n",
       "      <td>...</td>\n",
       "      <td>...</td>\n",
       "      <td>...</td>\n",
       "      <td>...</td>\n",
       "    </tr>\n",
       "    <tr>\n",
       "      <th>27650</th>\n",
       "      <td>ATMG01350</td>\n",
       "      <td>1.000000</td>\n",
       "      <td>1.584963</td>\n",
       "      <td>0.000000</td>\n",
       "      <td>3.000000</td>\n",
       "      <td>1.584963</td>\n",
       "      <td>1.000000</td>\n",
       "      <td>0.000000</td>\n",
       "      <td>3.169925</td>\n",
       "      <td>4.000000</td>\n",
       "      <td>...</td>\n",
       "      <td>0.000000</td>\n",
       "      <td>1.000000</td>\n",
       "      <td>0.000000</td>\n",
       "      <td>1.000000</td>\n",
       "      <td>1.000000</td>\n",
       "      <td>2.000000</td>\n",
       "      <td>1.584963</td>\n",
       "      <td>1.584963</td>\n",
       "      <td>2.807355</td>\n",
       "      <td>3.459432</td>\n",
       "    </tr>\n",
       "    <tr>\n",
       "      <th>27651</th>\n",
       "      <td>ATMG01360</td>\n",
       "      <td>4.392317</td>\n",
       "      <td>4.807355</td>\n",
       "      <td>5.700440</td>\n",
       "      <td>6.554589</td>\n",
       "      <td>6.247928</td>\n",
       "      <td>4.807355</td>\n",
       "      <td>4.523562</td>\n",
       "      <td>6.392317</td>\n",
       "      <td>8.778077</td>\n",
       "      <td>...</td>\n",
       "      <td>5.584963</td>\n",
       "      <td>5.247928</td>\n",
       "      <td>5.087463</td>\n",
       "      <td>4.321928</td>\n",
       "      <td>4.000000</td>\n",
       "      <td>4.643856</td>\n",
       "      <td>5.044394</td>\n",
       "      <td>7.238405</td>\n",
       "      <td>7.507795</td>\n",
       "      <td>8.661778</td>\n",
       "    </tr>\n",
       "    <tr>\n",
       "      <th>27652</th>\n",
       "      <td>ATMG01370</td>\n",
       "      <td>4.643856</td>\n",
       "      <td>5.129283</td>\n",
       "      <td>5.321928</td>\n",
       "      <td>5.832890</td>\n",
       "      <td>6.228819</td>\n",
       "      <td>4.169925</td>\n",
       "      <td>4.321928</td>\n",
       "      <td>4.321928</td>\n",
       "      <td>7.714246</td>\n",
       "      <td>...</td>\n",
       "      <td>2.000000</td>\n",
       "      <td>4.857981</td>\n",
       "      <td>5.044394</td>\n",
       "      <td>4.954196</td>\n",
       "      <td>4.754888</td>\n",
       "      <td>4.087463</td>\n",
       "      <td>4.954196</td>\n",
       "      <td>7.285402</td>\n",
       "      <td>7.118941</td>\n",
       "      <td>7.700440</td>\n",
       "    </tr>\n",
       "    <tr>\n",
       "      <th>27653</th>\n",
       "      <td>ATMG01400</td>\n",
       "      <td>0.000000</td>\n",
       "      <td>1.000000</td>\n",
       "      <td>0.000000</td>\n",
       "      <td>0.000000</td>\n",
       "      <td>1.000000</td>\n",
       "      <td>0.000000</td>\n",
       "      <td>0.000000</td>\n",
       "      <td>0.000000</td>\n",
       "      <td>2.807355</td>\n",
       "      <td>...</td>\n",
       "      <td>0.000000</td>\n",
       "      <td>0.000000</td>\n",
       "      <td>0.000000</td>\n",
       "      <td>0.000000</td>\n",
       "      <td>0.000000</td>\n",
       "      <td>0.000000</td>\n",
       "      <td>0.000000</td>\n",
       "      <td>1.000000</td>\n",
       "      <td>1.000000</td>\n",
       "      <td>2.000000</td>\n",
       "    </tr>\n",
       "    <tr>\n",
       "      <th>27654</th>\n",
       "      <td>ATMG01410</td>\n",
       "      <td>1.584963</td>\n",
       "      <td>2.584963</td>\n",
       "      <td>2.000000</td>\n",
       "      <td>1.000000</td>\n",
       "      <td>2.807355</td>\n",
       "      <td>2.000000</td>\n",
       "      <td>1.000000</td>\n",
       "      <td>2.000000</td>\n",
       "      <td>4.247928</td>\n",
       "      <td>...</td>\n",
       "      <td>1.000000</td>\n",
       "      <td>2.807355</td>\n",
       "      <td>2.584963</td>\n",
       "      <td>1.000000</td>\n",
       "      <td>0.000000</td>\n",
       "      <td>1.000000</td>\n",
       "      <td>1.584963</td>\n",
       "      <td>4.247928</td>\n",
       "      <td>4.247928</td>\n",
       "      <td>4.754888</td>\n",
       "    </tr>\n",
       "  </tbody>\n",
       "</table>\n",
       "<p>27655 rows × 21 columns</p>\n",
       "</div>"
      ],
      "text/plain": [
       "           Genes  SRR3383640  SRR3383821  SRR3383782  SRR6283145  SRR3383641  \\\n",
       "0      AT1G01010    6.523562    7.055282    6.845490    6.266787    7.592457   \n",
       "1      AT1G01020    6.768184    7.189825    7.813781    7.459432    8.066089   \n",
       "2      AT1G01030    3.807355    3.321928    5.169925    4.392317    4.523562   \n",
       "3      AT1G01040   10.005625    9.992938   11.214926   11.311748   11.165535   \n",
       "4      AT1G01050    9.733015    9.419960   11.379920   10.581201   10.854868   \n",
       "...          ...         ...         ...         ...         ...         ...   \n",
       "27650  ATMG01350    1.000000    1.584963    0.000000    3.000000    1.584963   \n",
       "27651  ATMG01360    4.392317    4.807355    5.700440    6.554589    6.247928   \n",
       "27652  ATMG01370    4.643856    5.129283    5.321928    5.832890    6.228819   \n",
       "27653  ATMG01400    0.000000    1.000000    0.000000    0.000000    1.000000   \n",
       "27654  ATMG01410    1.584963    2.584963    2.000000    1.000000    2.807355   \n",
       "\n",
       "       SRR3383783  SRR3383822  SRR6283144  SRR364399  ...  SRR6283147  \\\n",
       "0        5.857981    6.066089    7.507795   6.930737  ...    5.614710   \n",
       "1        6.882643    6.539159    7.357552   6.727920  ...    5.357552   \n",
       "2        3.807355    4.087463    4.700440   3.584963  ...    5.087463   \n",
       "3       10.371777    9.319672   11.283667   9.262095  ...    5.857981   \n",
       "4       10.250298    8.668885   10.817783   7.954196  ...    4.247928   \n",
       "...           ...         ...         ...        ...  ...         ...   \n",
       "27650    1.000000    0.000000    3.169925   4.000000  ...    0.000000   \n",
       "27651    4.807355    4.523562    6.392317   8.778077  ...    5.584963   \n",
       "27652    4.169925    4.321928    4.321928   7.714246  ...    2.000000   \n",
       "27653    0.000000    0.000000    0.000000   2.807355  ...    0.000000   \n",
       "27654    2.000000    1.000000    2.000000   4.247928  ...    1.000000   \n",
       "\n",
       "       SRR3383696  SRR3383780  SRR10586397pe  SRR10586399pe  SRR3383779  \\\n",
       "0        6.539159    7.044394       8.577429       8.607330    6.044394   \n",
       "1        7.149747    7.400879       7.228819       7.139551    6.918863   \n",
       "2        2.807355    4.523562       5.727920       5.906891    4.321928   \n",
       "3       10.047124   10.251482      10.167418      10.200899    9.812177   \n",
       "4       10.284246    9.768184       9.967226       9.744834    9.481799   \n",
       "...           ...         ...            ...            ...         ...   \n",
       "27650    1.000000    0.000000       1.000000       1.000000    2.000000   \n",
       "27651    5.247928    5.087463       4.321928       4.000000    4.643856   \n",
       "27652    4.857981    5.044394       4.954196       4.754888    4.087463   \n",
       "27653    0.000000    0.000000       0.000000       0.000000    0.000000   \n",
       "27654    2.807355    2.584963       1.000000       0.000000    1.000000   \n",
       "\n",
       "       SRR3383697  SRR364390  SRR364389  SRR364398  \n",
       "0        6.988685   6.965784   6.977280   6.942515  \n",
       "1        7.375039   7.467606   7.330917   6.954196  \n",
       "2        4.392317   3.169925   3.169925   3.459432  \n",
       "3       10.382624   9.743151   9.842350   9.303781  \n",
       "4       10.651949   8.689998   8.774787   8.016808  \n",
       "...           ...        ...        ...        ...  \n",
       "27650    1.584963   1.584963   2.807355   3.459432  \n",
       "27651    5.044394   7.238405   7.507795   8.661778  \n",
       "27652    4.954196   7.285402   7.118941   7.700440  \n",
       "27653    0.000000   1.000000   1.000000   2.000000  \n",
       "27654    1.584963   4.247928   4.247928   4.754888  \n",
       "\n",
       "[27655 rows x 21 columns]"
      ]
     },
     "execution_count": 8,
     "metadata": {},
     "output_type": "execute_result"
    }
   ],
   "source": [
    "df1=df1.merge(df2,on=['Genes'],how='left')\n",
    "df1"
   ]
  },
  {
   "cell_type": "code",
   "execution_count": 9,
   "metadata": {},
   "outputs": [],
   "source": [
    "# Save the stats\n",
    "df_stat=df1.describe()\n",
    "df_stat.T.to_csv('all_log2_stats.csv', sep='\\t', index=True)"
   ]
  },
  {
   "cell_type": "markdown",
   "metadata": {},
   "source": [
    "## Some statistic onto the new matrix\n",
    "\n",
    "1) GeneID with cero counts across all the samples are track it<br>\n",
    "2) Then, GeneIDs that match the query are removed from the matrix (df1) to compose a new dataset. <br>"
   ]
  },
  {
   "cell_type": "markdown",
   "metadata": {},
   "source": [
    "**Features with ceros are tracked & removed**"
   ]
  },
  {
   "cell_type": "code",
   "execution_count": 53,
   "metadata": {},
   "outputs": [
    {
     "name": "stdout",
     "output_type": "stream",
     "text": [
      "int64\n",
      "Genes                0\n",
      "SRR3383640        7396\n",
      "SRR3383821        7360\n",
      "SRR3383782        6888\n",
      "SRR6283145        7688\n",
      "SRR3383641        7039\n",
      "SRR3383783        7627\n",
      "SRR3383822        7702\n",
      "SRR6283144        7700\n",
      "SRR364399         7090\n",
      "SRR6283148       10866\n",
      "SRR6283147       10600\n",
      "SRR3383696        7518\n",
      "SRR3383780        7549\n",
      "SRR10586397pe     5627\n",
      "SRR10586399pe     5703\n",
      "SRR3383779        7719\n",
      "SRR3383697        7375\n",
      "SRR364390         7229\n",
      "SRR364389         7164\n",
      "SRR364398         7117\n",
      "dtype: int64\n",
      "[7396, 7360, 6888, 7688, 7039, 7627, 7702, 7700, 7090, 10866, 10600, 7518, 7549, 5627, 5703, 7719, 7375, 7229, 7164, 7117]\n"
     ]
    },
    {
     "data": {
      "text/plain": [
       "Text(0, 0.5, '# of samples')"
      ]
     },
     "execution_count": 53,
     "metadata": {},
     "output_type": "execute_result"
    },
    {
     "data": {
      "image/png": "[encoded data removed]",
      "text/plain": [
       "<Figure size 432x288 with 1 Axes>"
      ]
     },
     "metadata": {
      "needs_background": "light"
     },
     "output_type": "display_data"
    }
   ],
   "source": [
    "#Check number of zeros by sample\n",
    "zeros=df1.isin([0]).sum()\n",
    "print(zeros.dtype)\n",
    "print(zeros)\n",
    "\n",
    "lst_ceros=zeros.values\n",
    "lst_ceros=list(lst_ceros)\n",
    "lst_ceros.remove(0)\n",
    "print(lst_ceros)\n",
    "\n",
    "plt.hist(lst_ceros)  #df1.isin([0]).sum()\n",
    "plt.title(\"Genes in ceros by sample\")\n",
    "plt.xlabel(\"# of genes in ceros\")\n",
    "plt.ylabel(\"# of samples\")\n",
    "#plt.legend('samples')"
   ]
  },
  {
   "cell_type": "code",
   "execution_count": 54,
   "metadata": {},
   "outputs": [
    {
     "name": "stdout",
     "output_type": "stream",
     "text": [
      "int64\n",
      "/home/cyntsc/Proyectos/tesis-code/meta-xtrome-analysis\n"
     ]
    }
   ],
   "source": [
    "## Add meta-data labels (pending-jump)\n",
    "\n",
    "#Check number of zeros by sample\n",
    "ceros_counter= df1.isin([0]).sum()\n",
    "print(ceros_counter.dtype)\n",
    "ceros_counter\n",
    "ceros_counter['SRR3383640']\n",
    "ceros_counter=ceros_counter[1:]\n",
    "ceros_counter\n",
    "\n",
    "print(str(os.getcwd()))\n",
    "lst_header=[\"sample\",\"fungus\",\"hpi\",\"ID_sample\",\"good\"] \n",
    "file='~/Proyectos/athal2_stats/metadata.csv'\n",
    "df_meta=pd.read_csv(file, sep='\\,', engine='python', usecols=[0,4]) \n",
    "#print(df_meta)"
   ]
  },
  {
   "cell_type": "code",
   "execution_count": 55,
   "metadata": {},
   "outputs": [
    {
     "name": "stdout",
     "output_type": "stream",
     "text": [
      "0         0\n",
      "1         0\n",
      "2         0\n",
      "3         0\n",
      "4         0\n",
      "         ..\n",
      "27650     5\n",
      "27651     0\n",
      "27652     0\n",
      "27653    14\n",
      "27654     1\n",
      "Length: 27655, dtype: int64\n"
     ]
    }
   ],
   "source": [
    "s_zeros=(df1 == 0).astype(int).sum(axis=1)\n",
    "print(s_zeros)\n",
    "#type(s_zeros)    ### build a serie-pandas\n",
    "## Desglozando la formula\n",
    "#(df1 == 0)\n",
    "#(df1 == 0).astype(int)\n",
    "#(df1 == 0).sum(axis=1)\n",
    "## Added a column to df1 with the counter of zeros\n",
    "df1['zero-counter'] = s_zeros\n",
    "df1\n",
    "## Send the integrated matrix to all_log2_counter_cero.csv \n",
    "df1.to_csv('all_d1d2_counter_cero.csv', sep='\\t', index=True)"
   ]
  },
  {
   "cell_type": "markdown",
   "metadata": {},
   "source": [
    "**Now all_d1d2_counter_cero.csv contains D1 + D2 with counter of ceros plus in the last column** <br>\n",
    "And, **all_log2_21_ceros.csv** contains the geneIDs with ceros (code below)\n",
    "                                                                                                    "
   ]
  },
  {
   "cell_type": "code",
   "execution_count": 56,
   "metadata": {},
   "outputs": [
    {
     "name": "stdout",
     "output_type": "stream",
     "text": [
      "(3329, 22)\n",
      "         Genes  SRR3383640  SRR3383821  SRR3383782  SRR6283145  SRR3383641  \\\n",
      "33   AT1G01335         0.0         0.0         0.0         0.0         0.0   \n",
      "42   AT1G01410         0.0         0.0         0.0         0.0         0.0   \n",
      "110  AT1G02067         0.0         0.0         0.0         0.0         0.0   \n",
      "126  AT1G02210         0.0         0.0         0.0         0.0         0.0   \n",
      "161  AT1G02540         0.0         0.0         0.0         0.0         0.0   \n",
      "162  AT1G02550         0.0         0.0         0.0         0.0         0.0   \n",
      "165  AT1G02575         0.0         0.0         0.0         0.0         0.0   \n",
      "\n",
      "     SRR3383783  SRR3383822  SRR6283144  SRR364399  ...  SRR3383696  \\\n",
      "33          0.0         0.0         0.0        0.0  ...         0.0   \n",
      "42          0.0         0.0         0.0        0.0  ...         0.0   \n",
      "110         0.0         0.0         0.0        0.0  ...         0.0   \n",
      "126         0.0         0.0         0.0        0.0  ...         0.0   \n",
      "161         0.0         0.0         0.0        0.0  ...         0.0   \n",
      "162         0.0         0.0         0.0        0.0  ...         0.0   \n",
      "165         0.0         0.0         0.0        0.0  ...         0.0   \n",
      "\n",
      "     SRR3383780  SRR10586397pe  SRR10586399pe  SRR3383779  SRR3383697  \\\n",
      "33          0.0            0.0            0.0         0.0         0.0   \n",
      "42          0.0            0.0            0.0         0.0         0.0   \n",
      "110         0.0            0.0            0.0         0.0         0.0   \n",
      "126         0.0            0.0            0.0         0.0         0.0   \n",
      "161         0.0            0.0            0.0         0.0         0.0   \n",
      "162         0.0            0.0            0.0         0.0         0.0   \n",
      "165         0.0            0.0            0.0         0.0         0.0   \n",
      "\n",
      "     SRR364390  SRR364389  SRR364398  zero-counter  \n",
      "33         0.0        0.0        0.0            20  \n",
      "42         0.0        0.0        0.0            20  \n",
      "110        0.0        0.0        0.0            20  \n",
      "126        0.0        0.0        0.0            20  \n",
      "161        0.0        0.0        0.0            20  \n",
      "162        0.0        0.0        0.0            20  \n",
      "165        0.0        0.0        0.0            20  \n",
      "\n",
      "[7 rows x 22 columns]\n"
     ]
    }
   ],
   "source": [
    "## Filter: looking rows with x number of ceros\n",
    "is_zero = (df1['zero-counter']==20)     \n",
    "df1_20 = df1[is_zero]\n",
    "print(df1_20.shape)\n",
    "print(df1_20.head(7))\n",
    "## Send the integrated matrix to all_log2_counter_cero.csv \n",
    "df1_20.to_csv('all_log2_20_ceros.csv', sep='\\t', index=True)"
   ]
  },
  {
   "cell_type": "code",
   "execution_count": 57,
   "metadata": {},
   "outputs": [
    {
     "data": {
      "text/plain": [
       "Genes               0\n",
       "SRR3383640       3329\n",
       "SRR3383821       3329\n",
       "SRR3383782       3329\n",
       "SRR6283145       3329\n",
       "SRR3383641       3329\n",
       "SRR3383783       3329\n",
       "SRR3383822       3329\n",
       "SRR6283144       3329\n",
       "SRR364399        3329\n",
       "SRR6283148       3329\n",
       "SRR6283147       3329\n",
       "SRR3383696       3329\n",
       "SRR3383780       3329\n",
       "SRR10586397pe    3329\n",
       "SRR10586399pe    3329\n",
       "SRR3383779       3329\n",
       "SRR3383697       3329\n",
       "SRR364390        3329\n",
       "SRR364389        3329\n",
       "SRR364398        3329\n",
       "zero-counter        0\n",
       "dtype: int64"
      ]
     },
     "execution_count": 57,
     "metadata": {},
     "output_type": "execute_result"
    }
   ],
   "source": [
    "df1_20.isin([0]).sum()"
   ]
  },
  {
   "cell_type": "markdown",
   "metadata": {},
   "source": [
    "## Does a soft trimming of data\n",
    "\n",
    "**First, I drop identified genes with ceros across all the samples** <br>\n",
    "1) All data are cleaned and normalized to log2<br>\n",
    "2) First soft trimming: remove gene-IDs counting cero across all samples<br>\n",
    "<br>\n",
    "x = Si - 1 <br>\n",
    "<br>\n",
    "Donde:<br>\n",
    "Si = es el numero de cero conteos traves del todas las muestras para un gen determinado<br>\n",
    "Ejm: si el tamaño del conjunto es de 10 muestras, entonces 10 es el número máximo de ceros que puede tener un gen, asumiendo que no hubo valores de expresion para ese gen en ninguna de las muestra. <br>\n",
    "x =   es Si  -1\n"
   ]
  },
  {
   "cell_type": "code",
   "execution_count": 58,
   "metadata": {},
   "outputs": [],
   "source": [
    "## Save the gene IDs with ceros in a file \n",
    "genes_cero_ToList = list(df1_20['Genes'])\n",
    "\n",
    "with open(\"all_genesIDs_cero\", \"w\") as outfile:\n",
    "    outfile.write(\"\\n\".join(str(item) for item in genes_cero_ToList))"
   ]
  },
  {
   "cell_type": "code",
   "execution_count": 59,
   "metadata": {},
   "outputs": [
    {
     "data": {
      "text/plain": [
       "3329"
      ]
     },
     "execution_count": 59,
     "metadata": {},
     "output_type": "execute_result"
    }
   ],
   "source": [
    "## genes to be removed\n",
    "genes_cero_ToList\n",
    "len(genes_cero_ToList)"
   ]
  },
  {
   "cell_type": "code",
   "execution_count": 60,
   "metadata": {},
   "outputs": [
    {
     "name": "stdout",
     "output_type": "stream",
     "text": [
      "Int64Index([   33,    42,   110,   126,   161,   162,   165,   167,   179,\n",
      "              206,\n",
      "            ...\n",
      "            27623, 27624, 27630, 27631, 27633, 27636, 27638, 27642, 27645,\n",
      "            27647],\n",
      "           dtype='int64', length=3329)\n"
     ]
    }
   ],
   "source": [
    "## Get the index number of the gene rows to delete in the df. In this case 3329 idx.\n",
    "lst_genes_to_drop=(df1_20.index)\n",
    "print(lst_genes_to_drop)"
   ]
  },
  {
   "cell_type": "code",
   "execution_count": 61,
   "metadata": {},
   "outputs": [
    {
     "data": {
      "text/plain": [
       "Genes            AT1G01335\n",
       "SRR3383640               0\n",
       "SRR3383821               0\n",
       "SRR3383782               0\n",
       "SRR6283145               0\n",
       "SRR3383641               0\n",
       "SRR3383783               0\n",
       "SRR3383822               0\n",
       "SRR6283144               0\n",
       "SRR364399                0\n",
       "SRR6283148               0\n",
       "SRR6283147               0\n",
       "SRR3383696               0\n",
       "SRR3383780               0\n",
       "SRR10586397pe            0\n",
       "SRR10586399pe            0\n",
       "SRR3383779               0\n",
       "SRR3383697               0\n",
       "SRR364390                0\n",
       "SRR364389                0\n",
       "SRR364398                0\n",
       "zero-counter            20\n",
       "Name: 33, dtype: object"
      ]
     },
     "execution_count": 61,
     "metadata": {},
     "output_type": "execute_result"
    }
   ],
   "source": [
    "#print(df1.head)\n",
    "## some examples \n",
    "#df1.iloc[27653]     ## see idx=33 full of zeros (33 \tAT1G01335)\n",
    "df1.iloc[33]"
   ]
  },
  {
   "cell_type": "code",
   "execution_count": 62,
   "metadata": {},
   "outputs": [
    {
     "name": "stdout",
     "output_type": "stream",
     "text": [
      "(27655, 22)\n"
     ]
    }
   ],
   "source": [
    "##  Here, I loop under the lst_genes_to_drop to remove them from the df\n",
    "print(df1.shape)\n",
    "for i in lst_genes_to_drop: \n",
    "    #print(i) \n",
    "    try:\n",
    "        df1 = df1.drop([i])\n",
    "    except:\n",
    "        pass # doing nothing on exception, not processed because it is already dropped"
   ]
  },
  {
   "cell_type": "code",
   "execution_count": 63,
   "metadata": {},
   "outputs": [
    {
     "name": "stdout",
     "output_type": "stream",
     "text": [
      "(24326, 22)\n"
     ]
    },
    {
     "data": {
      "text/plain": [
       "<bound method NDFrame.head of            Genes  SRR3383640  SRR3383821  SRR3383782  SRR6283145  SRR3383641  \\\n",
       "0      AT1G01010    6.523562    7.055282    6.845490    6.266787    7.592457   \n",
       "1      AT1G01020    6.768184    7.189825    7.813781    7.459432    8.066089   \n",
       "2      AT1G01030    3.807355    3.321928    5.169925    4.392317    4.523562   \n",
       "3      AT1G01040   10.005625    9.992938   11.214926   11.311748   11.165535   \n",
       "4      AT1G01050    9.733015    9.419960   11.379920   10.581201   10.854868   \n",
       "...          ...         ...         ...         ...         ...         ...   \n",
       "27650  ATMG01350    1.000000    1.584963    0.000000    3.000000    1.584963   \n",
       "27651  ATMG01360    4.392317    4.807355    5.700440    6.554589    6.247928   \n",
       "27652  ATMG01370    4.643856    5.129283    5.321928    5.832890    6.228819   \n",
       "27653  ATMG01400    0.000000    1.000000    0.000000    0.000000    1.000000   \n",
       "27654  ATMG01410    1.584963    2.584963    2.000000    1.000000    2.807355   \n",
       "\n",
       "       SRR3383783  SRR3383822  SRR6283144  SRR364399  ...  SRR3383696  \\\n",
       "0        5.857981    6.066089    7.507795   6.930737  ...    6.539159   \n",
       "1        6.882643    6.539159    7.357552   6.727920  ...    7.149747   \n",
       "2        3.807355    4.087463    4.700440   3.584963  ...    2.807355   \n",
       "3       10.371777    9.319672   11.283667   9.262095  ...   10.047124   \n",
       "4       10.250298    8.668885   10.817783   7.954196  ...   10.284246   \n",
       "...           ...         ...         ...        ...  ...         ...   \n",
       "27650    1.000000    0.000000    3.169925   4.000000  ...    1.000000   \n",
       "27651    4.807355    4.523562    6.392317   8.778077  ...    5.247928   \n",
       "27652    4.169925    4.321928    4.321928   7.714246  ...    4.857981   \n",
       "27653    0.000000    0.000000    0.000000   2.807355  ...    0.000000   \n",
       "27654    2.000000    1.000000    2.000000   4.247928  ...    2.807355   \n",
       "\n",
       "       SRR3383780  SRR10586397pe  SRR10586399pe  SRR3383779  SRR3383697  \\\n",
       "0        7.044394       8.577429       8.607330    6.044394    6.988685   \n",
       "1        7.400879       7.228819       7.139551    6.918863    7.375039   \n",
       "2        4.523562       5.727920       5.906891    4.321928    4.392317   \n",
       "3       10.251482      10.167418      10.200899    9.812177   10.382624   \n",
       "4        9.768184       9.967226       9.744834    9.481799   10.651949   \n",
       "...           ...            ...            ...         ...         ...   \n",
       "27650    0.000000       1.000000       1.000000    2.000000    1.584963   \n",
       "27651    5.087463       4.321928       4.000000    4.643856    5.044394   \n",
       "27652    5.044394       4.954196       4.754888    4.087463    4.954196   \n",
       "27653    0.000000       0.000000       0.000000    0.000000    0.000000   \n",
       "27654    2.584963       1.000000       0.000000    1.000000    1.584963   \n",
       "\n",
       "       SRR364390  SRR364389  SRR364398  zero-counter  \n",
       "0       6.965784   6.977280   6.942515             0  \n",
       "1       7.467606   7.330917   6.954196             0  \n",
       "2       3.169925   3.169925   3.459432             0  \n",
       "3       9.743151   9.842350   9.303781             0  \n",
       "4       8.689998   8.774787   8.016808             0  \n",
       "...          ...        ...        ...           ...  \n",
       "27650   1.584963   2.807355   3.459432             5  \n",
       "27651   7.238405   7.507795   8.661778             0  \n",
       "27652   7.285402   7.118941   7.700440             0  \n",
       "27653   1.000000   1.000000   2.000000            14  \n",
       "27654   4.247928   4.247928   4.754888             1  \n",
       "\n",
       "[24326 rows x 22 columns]>"
      ]
     },
     "execution_count": 63,
     "metadata": {},
     "output_type": "execute_result"
    }
   ],
   "source": [
    "print(df1.shape)\n",
    "df1.head"
   ]
  },
  {
   "cell_type": "markdown",
   "metadata": {},
   "source": [
    "***Jump if the all_log2_dropped20ceros.csv file was previously created*** <br>\n",
    "This file contains the original matrix with out genes on ceros across files. "
   ]
  },
  {
   "cell_type": "code",
   "execution_count": 64,
   "metadata": {},
   "outputs": [],
   "source": [
    "#df1.to_csv('all_log2_dropped20ceros.csv', sep='\\t', index=True)"
   ]
  },
  {
   "cell_type": "markdown",
   "metadata": {},
   "source": [
    "## Now explore the new distributions without ceros across all samples\n",
    "### Plot all the sample in one plot (histogram and KDE)"
   ]
  },
  {
   "cell_type": "code",
   "execution_count": 65,
   "metadata": {},
   "outputs": [
    {
     "name": "stdout",
     "output_type": "stream",
     "text": [
      "   SRR3383640  SRR3383821  SRR3383782  SRR6283145  SRR3383641  SRR3383783  \\\n",
      "0    6.523562    7.055282    6.845490    6.266787    7.592457    5.857981   \n",
      "1    6.768184    7.189825    7.813781    7.459432    8.066089    6.882643   \n",
      "2    3.807355    3.321928    5.169925    4.392317    4.523562    3.807355   \n",
      "3   10.005625    9.992938   11.214926   11.311748   11.165535   10.371777   \n",
      "4    9.733015    9.419960   11.379920   10.581201   10.854868   10.250298   \n",
      "\n",
      "   SRR3383822  SRR6283144  SRR364399  SRR6283148  SRR6283147  SRR3383696  \\\n",
      "0    6.066089    7.507795   6.930737    3.000000    5.614710    6.539159   \n",
      "1    6.539159    7.357552   6.727920    5.129283    5.357552    7.149747   \n",
      "2    4.087463    4.700440   3.584963    4.459432    5.087463    2.807355   \n",
      "3    9.319672   11.283667   9.262095    6.228819    5.857981   10.047124   \n",
      "4    8.668885   10.817783   7.954196    4.700440    4.247928   10.284246   \n",
      "\n",
      "   SRR3383780  SRR10586397pe  SRR10586399pe  SRR3383779  SRR3383697  \\\n",
      "0    7.044394       8.577429       8.607330    6.044394    6.988685   \n",
      "1    7.400879       7.228819       7.139551    6.918863    7.375039   \n",
      "2    4.523562       5.727920       5.906891    4.321928    4.392317   \n",
      "3   10.251482      10.167418      10.200899    9.812177   10.382624   \n",
      "4    9.768184       9.967226       9.744834    9.481799   10.651949   \n",
      "\n",
      "   SRR364390  SRR364389  SRR364398  \n",
      "0   6.965784   6.977280   6.942515  \n",
      "1   7.467606   7.330917   6.954196  \n",
      "2   3.169925   3.169925   3.459432  \n",
      "3   9.743151   9.842350   9.303781  \n",
      "4   8.689998   8.774787   8.016808  \n"
     ]
    }
   ],
   "source": [
    "# Load the data matrix (20 samples)\n",
    "df_nozeros=pd.read_csv(\"all_log2_dropped20ceros.csv\", sep='\\t')\n",
    "## remove unnamed cols\n",
    "df_nozeros.drop(df_nozeros.columns[df_nozeros.columns.str.contains('Unnamed',case=False)],axis=1,inplace=True)\n",
    "\n",
    "# Get headers ...\n",
    "df_nozeros.drop([\"zero-counter\", \"Genes\"], axis = 1, inplace = True) \n",
    "print(df_nozeros.head())"
   ]
  },
  {
   "cell_type": "code",
   "execution_count": 66,
   "metadata": {},
   "outputs": [
    {
     "name": "stdout",
     "output_type": "stream",
     "text": [
      "Index(['SRR3383640', 'SRR3383821', 'SRR3383782', 'SRR6283145', 'SRR3383641',\n",
      "       'SRR3383783', 'SRR3383822', 'SRR6283144', 'SRR364399', 'SRR6283148',\n",
      "       'SRR6283147', 'SRR3383696', 'SRR3383780', 'SRR10586397pe',\n",
      "       'SRR10586399pe', 'SRR3383779', 'SRR3383697', 'SRR364390', 'SRR364389',\n",
      "       'SRR364398'],\n",
      "      dtype='object')\n"
     ]
    }
   ],
   "source": [
    "## Get sample list sample names\n",
    "sample_lst=df_nozeros.columns\n",
    "print(sample_lst)"
   ]
  },
  {
   "cell_type": "markdown",
   "metadata": {},
   "source": [
    "Plot both the histogram and densities in the same plot with the seaborn package (imported as sns) which allows you to do that via the distplot(). \n",
    "Since seaborn is built on top of matplotlib, you can use the sns and plt one after the other."
   ]
  },
  {
   "cell_type": "markdown",
   "metadata": {},
   "source": [
    "### Retrieve meta-data (sample-names, ID, etc) for label the leyends in order to give more sense to the plot\n",
    "**file='athal2_metadata.csv'**"
   ]
  },
  {
   "cell_type": "code",
   "execution_count": 67,
   "metadata": {},
   "outputs": [
    {
     "name": "stdout",
     "output_type": "stream",
     "text": [
      "/home/cyntsc/Proyectos/tesis-code/meta-xtrome-analysis\n",
      "           sample       ID\n",
      "0   SRR10586397pe     Bc24\n",
      "1   SRR10586399pe     Bc24\n",
      "2      SRR3383696     Bc12\n",
      "3      SRR3383697     Bc12\n",
      "4      SRR3383779     Bc18\n",
      "5      SRR3383780     Bc18\n",
      "6       SRR364389     Ch22\n",
      "7       SRR364390     Ch22\n",
      "8       SRR364398     Ch40\n",
      "9       SRR364399     Ch40\n",
      "10     SRR6283147     Ss30\n",
      "11     SRR6283148     Ss30\n",
      "12     SRR3383640  healthy\n",
      "13     SRR3383641  healthy\n",
      "14     SRR3383782  healthy\n",
      "15     SRR3383783  healthy\n",
      "16     SRR3383821  healthy\n",
      "17     SRR3383822  healthy\n",
      "18     SRR6283144  healthy\n",
      "19     SRR6283145  healthy\n"
     ]
    },
    {
     "data": {
      "text/plain": [
       "'healthy'"
      ]
     },
     "execution_count": 67,
     "metadata": {},
     "output_type": "execute_result"
    }
   ],
   "source": [
    "print(str(os.getcwd()))\n",
    "lst_header=[\"sample\",\"fungus\",\"hpi\",\"ID\"] \n",
    "file='~/Proyectos/athal2_stats/metadata.csv'\n",
    "df_meta=pd.read_csv(file, sep='\\,', engine='python', usecols=[0,4]) \n",
    "\n",
    "#print(df_meta.index)\n",
    "print(df_meta)\n",
    "## filter the ID sample\n",
    "is_sample =  df_meta['sample']=='SRR3383821'   # SRR6283144, SRR3383640, SRR3383782, SRR3383821\n",
    "sample = df_meta[is_sample]\n",
    "ID_sample = sample['ID'].values[0]\n",
    "ID_sample"
   ]
  },
  {
   "cell_type": "code",
   "execution_count": 139,
   "metadata": {},
   "outputs": [
    {
     "data": {
      "image/png": "[encoded data removed]",
      "text/plain": [
       "<Figure size 800x560 with 1 Axes>"
      ]
     },
     "metadata": {},
     "output_type": "display_data"
    }
   ],
   "source": [
    "# Values are log2 normalized \n",
    "\n",
    "plt.style.use('seaborn-whitegrid')\n",
    "kwargs=dict(hist_kws={\"alpha\":0.6, \"lw\": 2})\n",
    "\n",
    "plt.figure(figsize=(10,7), dpi= 80)\n",
    "for file in sample_lst:\n",
    "    #print(file)  \n",
    "    ## GET THE ID SAMPLE NAME\n",
    "    is_sample =  df_meta['sample']==file\n",
    "    #print(is_sample)\n",
    "    sample = df_meta[is_sample]\n",
    "    #print(sample)\n",
    "    ID_sample = sample['ID'].values[0]\n",
    "    #print(ID_sample)\n",
    " \n",
    "    sample_data = df_nozeros[file].tolist()\n",
    "    #print(sample_data)\n",
    "    sns.distplot(sample_data, label=ID_sample+' hpi', **kwargs)   #color=\"dodgerblue\", \n",
    "\n",
    "plt.title('Histogram with Fitted Density (KDE) of log2 values',fontsize=12);\n",
    "plt.xlabel('log2 values',fontsize=12);\n",
    "plt.suptitle(\"A.Thaliana Control+Infected Samples (Genes removed across all samples=3329)\", fontsize=14)\n",
    "## add arbitrary lines to canvas\n",
    "plt.plot([0, 15], [.15, .15], 'k-', lw=2, color='blue',marker = 'o')\n",
    "plt.plot([0, 15], [.72, .72], 'k-', lw=2, color='red',marker = '*')\n",
    "plt.text(10, 0.65, \"Size:88%\",fontsize=22)\n",
    "plt.annotate(\"\", xy=(0,.25), xytext=(18,.42), arrowprops=dict(arrowstyle='<->',linestyle='--'))\n",
    "plt.legend(fontsize=12);\n",
    "#plt.savefig(\"../athal1_stats/all_fitted density_drop20zeros.png\");"
   ]
  },
  {
   "cell_type": "markdown",
   "metadata": {},
   "source": [
    "Once outliers have been identified, these should be analyzed separately and removed from the array if necessary. <br>\n",
    "In this case these samples are: Ss30 <br>\n",
    "First, let's to plot the samples with outliers."
   ]
  },
  {
   "cell_type": "code",
   "execution_count": 93,
   "metadata": {},
   "outputs": [
    {
     "data": {
      "image/png": "[encoded data removed]",
      "text/plain": [
       "<Figure size 800x560 with 1 Axes>"
      ]
     },
     "metadata": {},
     "output_type": "display_data"
    }
   ],
   "source": [
    "# Values are log2 normalized \n",
    "\n",
    "plt.style.use('seaborn-whitegrid')\n",
    "kwargs=dict(hist_kws={\"alpha\":0.6, \"lw\": 2})\n",
    "\n",
    "plt.figure(figsize=(10,7), dpi= 80)\n",
    "sample_lst2=['SRR6283147','SRR6283148']\n",
    "for file in sample_lst2:\n",
    "    #print(file)  \n",
    "    ## GET THE ID SAMPLE NAME\n",
    "    is_sample =  df_meta['sample']==file\n",
    "    #print(is_sample)\n",
    "    sample = df_meta[is_sample]\n",
    "    #print(sample)\n",
    "    ID_sample = sample['ID'].values[0]\n",
    "    #print(ID_sample)\n",
    " \n",
    "    sample_data = df_nozeros[file].tolist()\n",
    "    #print(sample_data)\n",
    "    sns.distplot(sample_data, label=ID_sample+' hpi', **kwargs)   #color=\"dodgerblue\", \n",
    "\n",
    "plt.title('Histogram with Fitted Density (KDE) of log2 values',fontsize=12);\n",
    "plt.xlabel('log2 values',fontsize=12);\n",
    "plt.suptitle(\"A.Thaliana Infected. Samples Ss30\", fontsize=14)\n",
    "## add arbitrary lines to canvas\n",
    "#plt.plot([0, 15], [.15, .15], 'k-', lw=2, color='blue',marker = 'o')\n",
    "#plt.plot([0, 15], [.72, .72], 'k-', lw=2, color='red',marker = '*')\n",
    "#plt.text(10, 0.6, \"Size:88%\",fontsize=24)\n",
    "plt.legend(fontsize=24);\n",
    "#plt.savefig(\"../athal1_stats/SRR_fitted density_drop20zeros.png\");"
   ]
  },
  {
   "cell_type": "markdown",
   "metadata": {},
   "source": [
    "If they behave very differently from the entire data set, delete them to avoid noise.<br>\n",
    "In this case, I remove them from the array. "
   ]
  },
  {
   "cell_type": "code",
   "execution_count": 68,
   "metadata": {},
   "outputs": [
    {
     "name": "stdout",
     "output_type": "stream",
     "text": [
      "(24326, 19)\n"
     ]
    }
   ],
   "source": [
    "# Load the data matrix (20 samples)\n",
    "df_nozeros=pd.read_csv(\"all_log2_dropped20ceros.csv\", sep='\\t')\n",
    "## remove unnamed cols\n",
    "df_nozeros.drop(df_nozeros.columns[df_nozeros.columns.str.contains('Unnamed',case=False)],axis=1,inplace=True)\n",
    "\n",
    "# Remove samples of the original matrix\n",
    "df_nozeros.drop(['zero-counter','SRR6283147','SRR6283148'], axis = 1, inplace = True) \n",
    "print(df_nozeros.shape)\n",
    "df_nozeros\n",
    "df1.to_csv('all_log2_dropped20ceros_SRR.csv', sep='\\t', index=True)"
   ]
  },
  {
   "cell_type": "markdown",
   "metadata": {},
   "source": [
    "Now, I remove these samples from the sample list to plot again. <br>\n",
    "Samples removed are Ss30, which did not pass nor the alignment QA Score neither the quantification threshold set."
   ]
  },
  {
   "cell_type": "code",
   "execution_count": 69,
   "metadata": {},
   "outputs": [
    {
     "name": "stdout",
     "output_type": "stream",
     "text": [
      "18\n"
     ]
    },
    {
     "data": {
      "text/plain": [
       "['SRR3383640',\n",
       " 'SRR3383821',\n",
       " 'SRR3383782',\n",
       " 'SRR6283145',\n",
       " 'SRR3383641',\n",
       " 'SRR3383783',\n",
       " 'SRR3383822',\n",
       " 'SRR6283144',\n",
       " 'SRR364399',\n",
       " 'SRR3383696',\n",
       " 'SRR3383780',\n",
       " 'SRR10586397pe',\n",
       " 'SRR10586399pe',\n",
       " 'SRR3383779',\n",
       " 'SRR3383697',\n",
       " 'SRR364390',\n",
       " 'SRR364389',\n",
       " 'SRR364398']"
      ]
     },
     "execution_count": 69,
     "metadata": {},
     "output_type": "execute_result"
    }
   ],
   "source": [
    "#print(sample_lst.dtype)\n",
    "len(sample_lst)\n",
    "new_lst = list(sample_lst) \n",
    "new_lst\n",
    "new_lst.remove('SRR6283148')\n",
    "new_lst.remove('SRR6283147')\n",
    "print(len(new_lst))\n",
    "new_lst"
   ]
  },
  {
   "cell_type": "code",
   "execution_count": 186,
   "metadata": {},
   "outputs": [
    {
     "data": {
      "image/png": "[encoded data removed]",
      "text/plain": [
       "<Figure size 800x560 with 1 Axes>"
      ]
     },
     "metadata": {},
     "output_type": "display_data"
    }
   ],
   "source": [
    "\n",
    "plt.figure(figsize=(10,7), dpi= 80)\n",
    "for file in new_lst:  #sample_lst\n",
    "    #print(file)  \n",
    "    ## GET THE ID SAMPLE NAME\n",
    "    is_sample =  df_meta['sample']==file\n",
    "    #print(is_sample)\n",
    "    sample = df_meta[is_sample]\n",
    "    #print(sample)\n",
    "    ID_sample = sample['ID'].values[0]\n",
    "    #print(ID_sample)\n",
    " \n",
    "    sample_data = df_nozeros[file].tolist()\n",
    "    #print(sample_data)\n",
    "    sns.distplot(sample_data, label=ID_sample+' hpi', **kwargs)   #color=\"dodgerblue\", \n",
    "\n",
    "plt.title('Histogram with Fitted Density (KDE) of log2 values',fontsize=12);\n",
    "plt.xlabel('log2 values',fontsize=12);\n",
    "plt.suptitle(\"A.Thaliana Control+Infected Samples\", fontsize=14)\n",
    "## add arbitrary lines to canvas\n",
    "plt.plot([0, 15], [.15, .15], 'k-', lw=2, color='blue',marker = 'o')\n",
    "plt.plot([0, 15], [.43, .43], 'k-', lw=2, color='red',marker = '*')\n",
    "plt.text(10, 0.4, \"Size:88%\",fontsize=22)\n",
    "plt.legend(fontsize=12);\n",
    "#plt.savefig(\"../athal1_stats/all_fitted density_dropSRR.png\");"
   ]
  }
 ],
 "metadata": {
  "kernelspec": {
   "display_name": "Python 3",
   "language": "python",
   "name": "python3"
  },
  "language_info": {
   "codemirror_mode": {
    "name": "ipython",
    "version": 3
   },
   "file_extension": ".py",
   "mimetype": "text/x-python",
   "name": "python",
   "nbconvert_exporter": "python",
   "pygments_lexer": "ipython3",
   "version": "3.6.9"
  }
 },
 "nbformat": 4,
 "nbformat_minor": 4
}
