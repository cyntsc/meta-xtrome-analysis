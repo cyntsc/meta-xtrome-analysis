{
 "cells": [
  {
   "cell_type": "markdown",
   "metadata": {},
   "source": [
    "# 2 Remove Outliers in Datasets 1 \n",
    "\n",
    "## \"\"\"Build plots to explore for outliers: (from a single file)\"\"\"\n",
    "\n",
    "#### Dataset1: Plantas sanas de Arabidopsis\n",
    "#### Cynthia Soto\n",
    "#### Fecha: 24 de Julio 2020\n",
    "#### Type of data: expression levels (absolute and TPM)\n",
    "#### Data estimated with: Salmon SA mode \n",
    "\n",
    "Outliers can be removed from the data using statistical methods of IQR, Z-Score and Data Smoothing\n",
    "1. For calculating IQR of a dataset first calculate it’s 1st Quartile(Q1) and 3rd Quartile(Q3) i.e. 25th and 75 percentile of the data and then subtract Q1 from Q3.\n",
    "2. Z-Score tells how far a point is from the mean of dataset in terms of standard deviation.An absolute value of z score which is above 3 is termed as an outlier.\n",
    "3. Data smoothing is a process to remove the spikes and peaks from the data. Moving Average, Rolling Mean and Exponential smoothing are some of the process to smooth the data. Pandas Exponential smoothing function (EWM) can be used to calculate the value at different alpha level.\n",
    "\n"
   ]
  },
  {
   "cell_type": "code",
   "execution_count": 1,
   "metadata": {},
   "outputs": [],
   "source": [
    "# Libraries required\n",
    "import os \n",
    "import pandas as pd\n",
    "import matplotlib.pyplot as plt\n",
    "%matplotlib inline\n",
    "#%matplotlib widget\n",
    "\n",
    "import numpy as np\n",
    "import seaborn as sns\n",
    "# importing Statistics module \n",
    "import statistics \n",
    "from scipy.stats import iqr\n",
    "from scipy import stats"
   ]
  },
  {
   "cell_type": "code",
   "execution_count": 2,
   "metadata": {},
   "outputs": [
    {
     "name": "stdout",
     "output_type": "stream",
     "text": [
      "Directory changed: /home/cyntsc/Proyectos/athal1_htseq-counts\n"
     ]
    }
   ],
   "source": [
    "try:\n",
    "    # Change the current working Directory    \n",
    "    os.chdir(\"/home/cyntsc/Proyectos/athal1_htseq-counts/\")\n",
    "    print(\"Directory changed:\", os.getcwd() )\n",
    "except OSError:\n",
    "    print(\"Can't change the Current Working Directory\")    \n",
    "       \n",
    "#print(os.listdir(os.getcwd())        "
   ]
  },
  {
   "cell_type": "markdown",
   "metadata": {},
   "source": [
    "## Knowing your data basic statistics and plotting some important distributions\n"
   ]
  },
  {
   "cell_type": "code",
   "execution_count": 3,
   "metadata": {},
   "outputs": [
    {
     "data": {
      "text/html": [
       "<div>\n",
       "<style scoped>\n",
       "    .dataframe tbody tr th:only-of-type {\n",
       "        vertical-align: middle;\n",
       "    }\n",
       "\n",
       "    .dataframe tbody tr th {\n",
       "        vertical-align: top;\n",
       "    }\n",
       "\n",
       "    .dataframe thead th {\n",
       "        text-align: right;\n",
       "    }\n",
       "</style>\n",
       "<table border=\"1\" class=\"dataframe\">\n",
       "  <thead>\n",
       "    <tr style=\"text-align: right;\">\n",
       "      <th></th>\n",
       "      <th>Unnamed: 0</th>\n",
       "      <th>Counts</th>\n",
       "      <th>log2_value</th>\n",
       "    </tr>\n",
       "  </thead>\n",
       "  <tbody>\n",
       "    <tr>\n",
       "      <th>count</th>\n",
       "      <td>27655.000000</td>\n",
       "      <td>27655.000000</td>\n",
       "      <td>27655.000000</td>\n",
       "    </tr>\n",
       "    <tr>\n",
       "      <th>mean</th>\n",
       "      <td>13827.000000</td>\n",
       "      <td>348.664328</td>\n",
       "      <td>4.919339</td>\n",
       "    </tr>\n",
       "    <tr>\n",
       "      <th>std</th>\n",
       "      <td>7983.455183</td>\n",
       "      <td>1860.469250</td>\n",
       "      <td>3.791072</td>\n",
       "    </tr>\n",
       "    <tr>\n",
       "      <th>min</th>\n",
       "      <td>0.000000</td>\n",
       "      <td>1.000000</td>\n",
       "      <td>0.000000</td>\n",
       "    </tr>\n",
       "    <tr>\n",
       "      <th>25%</th>\n",
       "      <td>6913.500000</td>\n",
       "      <td>1.000000</td>\n",
       "      <td>0.000000</td>\n",
       "    </tr>\n",
       "    <tr>\n",
       "      <th>50%</th>\n",
       "      <td>13827.000000</td>\n",
       "      <td>53.000000</td>\n",
       "      <td>5.727920</td>\n",
       "    </tr>\n",
       "    <tr>\n",
       "      <th>75%</th>\n",
       "      <td>20740.500000</td>\n",
       "      <td>282.000000</td>\n",
       "      <td>8.139551</td>\n",
       "    </tr>\n",
       "    <tr>\n",
       "      <th>max</th>\n",
       "      <td>27654.000000</td>\n",
       "      <td>153438.000000</td>\n",
       "      <td>17.227296</td>\n",
       "    </tr>\n",
       "  </tbody>\n",
       "</table>\n",
       "</div>"
      ],
      "text/plain": [
       "         Unnamed: 0         Counts    log2_value\n",
       "count  27655.000000   27655.000000  27655.000000\n",
       "mean   13827.000000     348.664328      4.919339\n",
       "std     7983.455183    1860.469250      3.791072\n",
       "min        0.000000       1.000000      0.000000\n",
       "25%     6913.500000       1.000000      0.000000\n",
       "50%    13827.000000      53.000000      5.727920\n",
       "75%    20740.500000     282.000000      8.139551\n",
       "max    27654.000000  153438.000000     17.227296"
      ]
     },
     "execution_count": 3,
     "metadata": {},
     "output_type": "execute_result"
    }
   ],
   "source": [
    "# Import Data \n",
    "df= pd.read_csv(\"SRR3383640_Log2.csv\", sep='\\t')\n",
    "\n",
    "##Get max/min value of the numeric cols\n",
    "df.select_dtypes(include=[np.number]).max()\n",
    "df.select_dtypes(include=[np.number]).min()\n",
    "##Get basic statics\n",
    "df.describe()\n",
    "\n",
    "## Be sure data are not object type"
   ]
  },
  {
   "cell_type": "code",
   "execution_count": 4,
   "metadata": {},
   "outputs": [
    {
     "data": {
      "text/plain": [
       "Unnamed: 0       1\n",
       "Genes            0\n",
       "Counts           0\n",
       "log2_value    7396\n",
       "dtype: int64"
      ]
     },
     "execution_count": 4,
     "metadata": {},
     "output_type": "execute_result"
    }
   ],
   "source": [
    "# Count genes with zeros\n",
    "df.isin([0]).sum()"
   ]
  },
  {
   "cell_type": "code",
   "execution_count": 5,
   "metadata": {},
   "outputs": [
    {
     "data": {
      "text/html": [
       "<div>\n",
       "<style scoped>\n",
       "    .dataframe tbody tr th:only-of-type {\n",
       "        vertical-align: middle;\n",
       "    }\n",
       "\n",
       "    .dataframe tbody tr th {\n",
       "        vertical-align: top;\n",
       "    }\n",
       "\n",
       "    .dataframe thead th {\n",
       "        text-align: right;\n",
       "    }\n",
       "</style>\n",
       "<table border=\"1\" class=\"dataframe\">\n",
       "  <thead>\n",
       "    <tr style=\"text-align: right;\">\n",
       "      <th></th>\n",
       "      <th>Unnamed: 0</th>\n",
       "      <th>Genes</th>\n",
       "      <th>Counts</th>\n",
       "      <th>log2_value</th>\n",
       "    </tr>\n",
       "  </thead>\n",
       "  <tbody>\n",
       "    <tr>\n",
       "      <th>14</th>\n",
       "      <td>14</td>\n",
       "      <td>AT1G01150</td>\n",
       "      <td>1</td>\n",
       "      <td>0.0</td>\n",
       "    </tr>\n",
       "    <tr>\n",
       "      <th>27</th>\n",
       "      <td>27</td>\n",
       "      <td>AT1G01280</td>\n",
       "      <td>1</td>\n",
       "      <td>0.0</td>\n",
       "    </tr>\n",
       "    <tr>\n",
       "      <th>30</th>\n",
       "      <td>30</td>\n",
       "      <td>AT1G01305</td>\n",
       "      <td>1</td>\n",
       "      <td>0.0</td>\n",
       "    </tr>\n",
       "    <tr>\n",
       "      <th>31</th>\n",
       "      <td>31</td>\n",
       "      <td>AT1G01310</td>\n",
       "      <td>1</td>\n",
       "      <td>0.0</td>\n",
       "    </tr>\n",
       "    <tr>\n",
       "      <th>33</th>\n",
       "      <td>33</td>\n",
       "      <td>AT1G01335</td>\n",
       "      <td>1</td>\n",
       "      <td>0.0</td>\n",
       "    </tr>\n",
       "  </tbody>\n",
       "</table>\n",
       "</div>"
      ],
      "text/plain": [
       "    Unnamed: 0      Genes  Counts  log2_value\n",
       "14          14  AT1G01150       1         0.0\n",
       "27          27  AT1G01280       1         0.0\n",
       "30          30  AT1G01305       1         0.0\n",
       "31          31  AT1G01310       1         0.0\n",
       "33          33  AT1G01335       1         0.0"
      ]
     },
     "execution_count": 5,
     "metadata": {},
     "output_type": "execute_result"
    }
   ],
   "source": [
    "# the statement is passing a Series of True/ False objects to the DataFrame, returning all rows with True\n",
    "df[df['log2_value'] == 0].head()"
   ]
  },
  {
   "cell_type": "code",
   "execution_count": 6,
   "metadata": {},
   "outputs": [
    {
     "data": {
      "text/html": [
       "<div>\n",
       "<style scoped>\n",
       "    .dataframe tbody tr th:only-of-type {\n",
       "        vertical-align: middle;\n",
       "    }\n",
       "\n",
       "    .dataframe tbody tr th {\n",
       "        vertical-align: top;\n",
       "    }\n",
       "\n",
       "    .dataframe thead th {\n",
       "        text-align: right;\n",
       "    }\n",
       "</style>\n",
       "<table border=\"1\" class=\"dataframe\">\n",
       "  <thead>\n",
       "    <tr style=\"text-align: right;\">\n",
       "      <th></th>\n",
       "      <th>Unnamed: 0</th>\n",
       "      <th>Genes</th>\n",
       "      <th>Counts</th>\n",
       "      <th>log2_value</th>\n",
       "    </tr>\n",
       "  </thead>\n",
       "  <tbody>\n",
       "    <tr>\n",
       "      <th>0</th>\n",
       "      <td>0</td>\n",
       "      <td>AT1G01010</td>\n",
       "      <td>92</td>\n",
       "      <td>6.523562</td>\n",
       "    </tr>\n",
       "    <tr>\n",
       "      <th>1</th>\n",
       "      <td>1</td>\n",
       "      <td>AT1G01020</td>\n",
       "      <td>109</td>\n",
       "      <td>6.768184</td>\n",
       "    </tr>\n",
       "    <tr>\n",
       "      <th>2</th>\n",
       "      <td>2</td>\n",
       "      <td>AT1G01030</td>\n",
       "      <td>14</td>\n",
       "      <td>3.807355</td>\n",
       "    </tr>\n",
       "    <tr>\n",
       "      <th>3</th>\n",
       "      <td>3</td>\n",
       "      <td>AT1G01040</td>\n",
       "      <td>1028</td>\n",
       "      <td>10.005625</td>\n",
       "    </tr>\n",
       "    <tr>\n",
       "      <th>4</th>\n",
       "      <td>4</td>\n",
       "      <td>AT1G01050</td>\n",
       "      <td>851</td>\n",
       "      <td>9.733015</td>\n",
       "    </tr>\n",
       "    <tr>\n",
       "      <th>...</th>\n",
       "      <td>...</td>\n",
       "      <td>...</td>\n",
       "      <td>...</td>\n",
       "      <td>...</td>\n",
       "    </tr>\n",
       "    <tr>\n",
       "      <th>27650</th>\n",
       "      <td>27650</td>\n",
       "      <td>ATMG01350</td>\n",
       "      <td>2</td>\n",
       "      <td>1.000000</td>\n",
       "    </tr>\n",
       "    <tr>\n",
       "      <th>27651</th>\n",
       "      <td>27651</td>\n",
       "      <td>ATMG01360</td>\n",
       "      <td>21</td>\n",
       "      <td>4.392317</td>\n",
       "    </tr>\n",
       "    <tr>\n",
       "      <th>27652</th>\n",
       "      <td>27652</td>\n",
       "      <td>ATMG01370</td>\n",
       "      <td>25</td>\n",
       "      <td>4.643856</td>\n",
       "    </tr>\n",
       "    <tr>\n",
       "      <th>27653</th>\n",
       "      <td>27653</td>\n",
       "      <td>ATMG01400</td>\n",
       "      <td>1</td>\n",
       "      <td>0.000000</td>\n",
       "    </tr>\n",
       "    <tr>\n",
       "      <th>27654</th>\n",
       "      <td>27654</td>\n",
       "      <td>ATMG01410</td>\n",
       "      <td>3</td>\n",
       "      <td>1.584963</td>\n",
       "    </tr>\n",
       "  </tbody>\n",
       "</table>\n",
       "<p>27655 rows × 4 columns</p>\n",
       "</div>"
      ],
      "text/plain": [
       "       Unnamed: 0      Genes  Counts  log2_value\n",
       "0               0  AT1G01010      92    6.523562\n",
       "1               1  AT1G01020     109    6.768184\n",
       "2               2  AT1G01030      14    3.807355\n",
       "3               3  AT1G01040    1028   10.005625\n",
       "4               4  AT1G01050     851    9.733015\n",
       "...           ...        ...     ...         ...\n",
       "27650       27650  ATMG01350       2    1.000000\n",
       "27651       27651  ATMG01360      21    4.392317\n",
       "27652       27652  ATMG01370      25    4.643856\n",
       "27653       27653  ATMG01400       1    0.000000\n",
       "27654       27654  ATMG01410       3    1.584963\n",
       "\n",
       "[27655 rows x 4 columns]"
      ]
     },
     "execution_count": 6,
     "metadata": {},
     "output_type": "execute_result"
    }
   ],
   "source": [
    "# Should the zeros be removed at this point?\n",
    "df"
   ]
  },
  {
   "cell_type": "code",
   "execution_count": 7,
   "metadata": {
    "scrolled": true
   },
   "outputs": [
    {
     "data": {
      "image/png": "[encoded data removed]",
      "text/plain": [
       "<Figure size 432x288 with 1 Axes>"
      ]
     },
     "metadata": {
      "needs_background": "light"
     },
     "output_type": "display_data"
    }
   ],
   "source": [
    "# Exploring: Scatterplot of absolute counts vs. Log2 transformation\n",
    "\n",
    "# Figure 1 to tesis-data-analysis\n",
    "\n",
    "plt.grid(color='grey', linestyle='-', linewidth=0.5)\n",
    "plt.scatter('log2_value','Counts', data=df, linestyle='-',color='b', linewidth=0.5)\n",
    "plt.xlabel('log2_value')\n",
    "plt.ylabel('Counts')\n",
    "plt.title('Scatterplot of absolute counts vs. Log2 transformation')\n",
    "plt.suptitle('Athal1_Ctr: SRR3383640', fontsize=16)\n",
    "plt.legend()\n",
    "#plt.savefig(\"../athal1_stats/SRR3383640_scattered_abs_log2.png\")\n",
    "plt.show()"
   ]
  },
  {
   "cell_type": "markdown",
   "metadata": {},
   "source": [
    "We'll now use the amazing Seaborn module to do some EDA. I strongly encourage you to look at their gallery to see some awesome examples. This module is great to make some interesting and publishable graphs for your future papers.\n",
    "\n",
    "We'll explore our data set using different color palettes.\n"
   ]
  },
  {
   "cell_type": "code",
   "execution_count": 8,
   "metadata": {},
   "outputs": [
    {
     "data": {
      "text/plain": [
       "Text(0.5, 1.0, 'Scatterplot: Log2 versus Absolute-Counts')"
      ]
     },
     "execution_count": 8,
     "metadata": {},
     "output_type": "execute_result"
    },
    {
     "data": {
      "image/png": "[encoded data removed]",
      "text/plain": [
       "<Figure size 432x288 with 1 Axes>"
      ]
     },
     "metadata": {
      "needs_background": "light"
     },
     "output_type": "display_data"
    }
   ],
   "source": [
    "ax = sns.boxplot(x= df['log2_value'], y = df['Counts'], palette = \"husl\")\n",
    "ax.set_title('Scatterplot: Log2 versus Absolute-Counts', fontsize= 18)\n",
    "#ax.set_yscale('log')"
   ]
  },
  {
   "cell_type": "markdown",
   "metadata": {},
   "source": [
    "Violin plots make a kernel density estimation(KDE) of the distribution. If you want a deeper intuition about what a KDE means please refer to the great Jake Van der Plas' Data Science Handbook. KDE plots are a nice way to visualize continuous distributions. The Seaborn library has some nice implementations in both the sns.distplot and sns.kdeplot functions. Here is a nice walkthrough of the different options to visualize distributions in Seaborn.\n",
    "\n",
    "To get a better sense of the data when using violin plots, I personally prefer to set the inner parameter to quartile, as it shows the locations of the quartiles (25th, 75th percentile and the median) in the data, and gives a sense of how the data is distributed. Moreover, I like that all of the violins have the same width, so they are readily comparable to each other, thus I set the scale parameter to width\n"
   ]
  },
  {
   "cell_type": "code",
   "execution_count": 9,
   "metadata": {},
   "outputs": [
    {
     "data": {
      "image/png": "[encoded data removed]",
      "text/plain": [
       "<Figure size 432x288 with 1 Axes>"
      ]
     },
     "metadata": {
      "needs_background": "light"
     },
     "output_type": "display_data"
    }
   ],
   "source": [
    "ax = sns.violinplot(x= df['Counts'], y = df['log2_value'], inner = 'quartile', scale= 'width', palette = \"husl\")\n",
    "ax.set_title('Scatterplot: Log2 versus Absolute-Counts', fontsize= 18);"
   ]
  },
  {
   "cell_type": "markdown",
   "metadata": {},
   "source": [
    "Violinplots are nice, but to get a real sense of the raw data, is best to use a stripplot or swarmplot to visualize the individual points in a dataset. As a general rule of thumb, always plot all your data points"
   ]
  },
  {
   "cell_type": "code",
   "execution_count": 8,
   "metadata": {},
   "outputs": [
    {
     "data": {
      "image/png": "[encoded data removed]",
      "text/plain": [
       "<Figure size 432x288 with 1 Axes>"
      ]
     },
     "metadata": {
      "needs_background": "light"
     },
     "output_type": "display_data"
    }
   ],
   "source": [
    "\n",
    "# Figure 2 to tesis-data-analysis\n",
    "\n",
    "ax = sns.stripplot(x= df['Counts'], y = df['log2_value'], palette = \"husl\")\n",
    "ax.set_title('Athal1_Ctr: SRR3383640', fontsize= 16)\n",
    "# save figure to png file\n",
    "fig = ax.get_figure()\n",
    "#fig.savefig(\"../athal1_stats/SRR3383640_scattered_violinplot.png\")"
   ]
  },
  {
   "cell_type": "markdown",
   "metadata": {},
   "source": [
    "Now, letś go to plot a normal distribution for Log2 values"
   ]
  },
  {
   "cell_type": "code",
   "execution_count": null,
   "metadata": {},
   "outputs": [],
   "source": []
  },
  {
   "cell_type": "code",
   "execution_count": 25,
   "metadata": {},
   "outputs": [],
   "source": [
    "#Send log2 values to a vector (list) to plot a normal distribution \n",
    "col_log2_list = df['log2_value'].tolist()\n",
    "#col_log2_list"
   ]
  },
  {
   "cell_type": "code",
   "execution_count": 193,
   "metadata": {},
   "outputs": [],
   "source": [
    "## If want to be sure about the operation\n",
    "#print(\"Standard Deviation of sample is % s \" \n",
    "#      % (statistics.stdev(col_log2_list))) "
   ]
  },
  {
   "cell_type": "code",
   "execution_count": 26,
   "metadata": {},
   "outputs": [
    {
     "data": {
      "image/png": "[encoded data removed]",
      "text/plain": [
       "<Figure size 432x288 with 1 Axes>"
      ]
     },
     "metadata": {
      "needs_background": "light"
     },
     "output_type": "display_data"
    }
   ],
   "source": [
    "# Normal Distribution plot for Log2 values \n",
    "# norm_histbool, optional\n",
    "# If True, the histogram height shows a density rather than a count. \n",
    "# This is implied if a KDE or fitted density is plotted\n",
    "\n",
    "#set color codes\n",
    "sns.set_color_codes()\n",
    "# Get relevant information from panda series\n",
    "col_log2_list = pd.Series(col_log2_list, name=\"Log2 Normalization\")\n",
    "\n",
    "sns.distplot(col_log2_list, color=\"y\")\n",
    "sns.distplot(col_log2_list, rug=True, hist=False, kde_kws={\"color\": \"k\", \"lw\": 2, \"label\": \"Fitted density (KDE) SRR3383640\"});\n",
    "# rug=True, hist=False: Plot the distribution with a kernel density estimate and rug plot\n",
    "\n",
    "plt.savefig(\"../athal1_stats/SRR3383640_Fitted density.png\")\n",
    "#Note seaborn has not savefig function"
   ]
  },
  {
   "cell_type": "code",
   "execution_count": 27,
   "metadata": {},
   "outputs": [
    {
     "data": {
      "text/plain": [
       "<AxesSubplot:xlabel='Log2 Normalization'>"
      ]
     },
     "execution_count": 27,
     "metadata": {},
     "output_type": "execute_result"
    },
    {
     "data": {
      "image/png": "[encoded data removed]",
      "text/plain": [
       "<Figure size 432x288 with 1 Axes>"
      ]
     },
     "metadata": {
      "needs_background": "light"
     },
     "output_type": "display_data"
    }
   ],
   "source": [
    "## Plot the distribution with a histogram and maximum likelihood Gaussian distribution fit:\n",
    "from scipy.stats import norm\n",
    "sns.distplot(col_log2_list, fit=norm, kde=False, color=\"y\")"
   ]
  },
  {
   "cell_type": "code",
   "execution_count": 200,
   "metadata": {},
   "outputs": [
    {
     "data": {
      "text/plain": [
       "Genes          object\n",
       "Counts          int64\n",
       "log2_value    float64\n",
       "dtype: object"
      ]
     },
     "execution_count": 200,
     "metadata": {},
     "output_type": "execute_result"
    }
   ],
   "source": [
    "df.dtypes\n"
   ]
  },
  {
   "cell_type": "markdown",
   "metadata": {},
   "source": [
    "In descriptive statistics, a boxplot (also known as a box-and-whisker diagram or plot) is a convenient way of graphically depicting groups of numerical data through their five-number summaries (the smallest observation, lower quartile (Q1), median (Q2), upper quartile (Q3), and largest observation). A boxplot may also indicate which observations, if any, might be considered outliers. The boxplot was invented in 1977 by the American statistician John Tukey."
   ]
  },
  {
   "cell_type": "code",
   "execution_count": 215,
   "metadata": {},
   "outputs": [
    {
     "data": {
      "text/plain": [
       "Text(0.5, 1.0, 'Boxplot of Absolute Counts')"
      ]
     },
     "execution_count": 215,
     "metadata": {},
     "output_type": "execute_result"
    },
    {
     "data": {
      "image/png": "[encoded data removed]",
      "text/plain": [
       "<Figure size 432x288 with 1 Axes>"
      ]
     },
     "metadata": {
      "needs_background": "light"
     },
     "output_type": "display_data"
    }
   ],
   "source": [
    "# Box-Whisher Plot with means \n",
    "\n",
    "ax = df.boxplot(column=['Counts'],showfliers=False)   ###, showmeans=True\n",
    "# get rid of the automatic title\n",
    "plt.suptitle(\"Athal-Dataset1: SRR3383640\")\n",
    "ax.set_xlabel(\"\")\n",
    "ax.set_title(\"Box-and-whisker plot: absolute-counts\")\n"
   ]
  },
  {
   "cell_type": "code",
   "execution_count": 214,
   "metadata": {},
   "outputs": [
    {
     "data": {
      "text/plain": [
       "Text(0.5, 1.0, 'Boxplot of Log2 values')"
      ]
     },
     "execution_count": 214,
     "metadata": {},
     "output_type": "execute_result"
    },
    {
     "data": {
      "image/png": "[encoded data removed]",
      "text/plain": [
       "<Figure size 432x288 with 1 Axes>"
      ]
     },
     "metadata": {
      "needs_background": "light"
     },
     "output_type": "display_data"
    }
   ],
   "source": [
    "# Box-Whisher Plot with means \n",
    "\n",
    "ax = df.boxplot(column=['log2_value'],showfliers=False, showmeans=True)\n",
    "# get rid of the automatic title\n",
    "plt.suptitle(\"Athal-Dataset1: SRR3383640\")\n",
    "ax.set_xlabel(\"\")\n",
    "ax.set_title(\"Boxplot of Log2 values\")"
   ]
  },
  {
   "cell_type": "markdown",
   "metadata": {},
   "source": [
    "## Method 1: IQR\n",
    "For calculating IQR of a dataset first calculate it’s 1st Quartile(Q1) and 3rd Quartile(Q3) i.e. 25th and 75 percentile of the data and then subtract Q1 from Q3."
   ]
  },
  {
   "cell_type": "markdown",
   "metadata": {},
   "source": [
    "### Cleaning data\n",
    "\n",
    "Data preparation process can involve three steps: data selection, data preprocessing and data transformation.\n",
    "Expected types values\n",
    "    TPM:float\n",
    "    NumReads: float\n",
    "No missing data\n",
    "\n",
    "I use two robust methods to remove outliers from the data and Data Smoothing techniques using Exponential Weighted Moving Average\n",
    "\n",
    "a) IQR - Interquartile Range\n",
    "b) Z-Score method for Outlier Removal"
   ]
  },
  {
   "cell_type": "markdown",
   "metadata": {},
   "source": [
    "### Data Smoothing:\n",
    "\n",
    "IQR is part of Descriptive statistics and also called as midspead, middle 50%\n",
    "IQR is first Quartile minus the Third Quartile (Q3-Q1)"
   ]
  },
  {
   "cell_type": "code",
   "execution_count": 50,
   "metadata": {},
   "outputs": [
    {
     "data": {
      "text/plain": [
       "98.010189"
      ]
     },
     "execution_count": 50,
     "metadata": {},
     "output_type": "execute_result"
    }
   ],
   "source": [
    "# Get the interquartile grade (IQR = Q3 - Q1)\n",
    "iqr(lst_TPM, axis=0) "
   ]
  },
  {
   "cell_type": "code",
   "execution_count": 61,
   "metadata": {},
   "outputs": [
    {
     "name": "stdout",
     "output_type": "stream",
     "text": [
      "First quantile in TPM column:54.056874\n",
      "First third in TPM column:152.067063\n",
      "IQR in TPM column:98.010189\n",
      "10th.quantile in TPM column:41.590169\n",
      "90th.quantile in TPM column:312.417606\n"
     ]
    }
   ],
   "source": [
    "Q1 = np.quantile(lst_TPM,0.25)\n",
    "Q3 = np.quantile(lst_TPM,0.75)\n",
    "IQR = Q3 - Q1\n",
    "print (\"First quantile in TPM column:\"+str(Q1))\n",
    "print (\"First third in TPM column:\"+str(Q3))\n",
    "print (\"IQR in TPM column:\"+str(IQR))\n",
    "q10 = np.quantile(lst_TPM,0.10)\n",
    "q90 = np.quantile(lst_TPM,0.90)\n",
    "print (\"10th.quantile in TPM column:\"+str(q10))\n",
    "print (\"90th.quantile in TPM column:\"+str(q90))"
   ]
  },
  {
   "cell_type": "markdown",
   "metadata": {},
   "source": [
    "## Method 2: Z Score\n",
    "Z score is an important measurement or score that tells how many Standard deviation above or below a number is from the mean of the dataset\n",
    "\n",
    "Any positive Z score means the no. of standard deviation above the mean and a negative score means no. of standard deviation below the mean"
   ]
  },
  {
   "cell_type": "code",
   "execution_count": 69,
   "metadata": {},
   "outputs": [
    {
     "data": {
      "text/html": [
       "<div>\n",
       "<style scoped>\n",
       "    .dataframe tbody tr th:only-of-type {\n",
       "        vertical-align: middle;\n",
       "    }\n",
       "\n",
       "    .dataframe tbody tr th {\n",
       "        vertical-align: top;\n",
       "    }\n",
       "\n",
       "    .dataframe thead th {\n",
       "        text-align: right;\n",
       "    }\n",
       "</style>\n",
       "<table border=\"1\" class=\"dataframe\">\n",
       "  <thead>\n",
       "    <tr style=\"text-align: right;\">\n",
       "      <th></th>\n",
       "      <th>Name</th>\n",
       "      <th>Length</th>\n",
       "      <th>EffectiveLength</th>\n",
       "      <th>TPM</th>\n",
       "      <th>NumReads</th>\n",
       "      <th>z_score</th>\n",
       "    </tr>\n",
       "  </thead>\n",
       "  <tbody>\n",
       "    <tr>\n",
       "      <th>0</th>\n",
       "      <td>TRINITY_DN688_c0_g1_i1</td>\n",
       "      <td>351</td>\n",
       "      <td>102.003</td>\n",
       "      <td>78.489229</td>\n",
       "      <td>28.0</td>\n",
       "      <td>-0.123207</td>\n",
       "    </tr>\n",
       "    <tr>\n",
       "      <th>1</th>\n",
       "      <td>TRINITY_DN600_c0_g1_i1</td>\n",
       "      <td>326</td>\n",
       "      <td>77.092</td>\n",
       "      <td>74.179055</td>\n",
       "      <td>20.0</td>\n",
       "      <td>-0.125477</td>\n",
       "    </tr>\n",
       "    <tr>\n",
       "      <th>2</th>\n",
       "      <td>TRINITY_DN685_c0_g1_i1</td>\n",
       "      <td>441</td>\n",
       "      <td>192.000</td>\n",
       "      <td>56.590790</td>\n",
       "      <td>38.0</td>\n",
       "      <td>-0.134741</td>\n",
       "    </tr>\n",
       "    <tr>\n",
       "      <th>3</th>\n",
       "      <td>TRINITY_DN655_c0_g1_i1</td>\n",
       "      <td>1116</td>\n",
       "      <td>867.000</td>\n",
       "      <td>27.702795</td>\n",
       "      <td>84.0</td>\n",
       "      <td>-0.149957</td>\n",
       "    </tr>\n",
       "    <tr>\n",
       "      <th>4</th>\n",
       "      <td>TRINITY_DN640_c0_g1_i1</td>\n",
       "      <td>652</td>\n",
       "      <td>403.000</td>\n",
       "      <td>50.375190</td>\n",
       "      <td>71.0</td>\n",
       "      <td>-0.138015</td>\n",
       "    </tr>\n",
       "    <tr>\n",
       "      <th>...</th>\n",
       "      <td>...</td>\n",
       "      <td>...</td>\n",
       "      <td>...</td>\n",
       "      <td>...</td>\n",
       "      <td>...</td>\n",
       "      <td>...</td>\n",
       "    </tr>\n",
       "    <tr>\n",
       "      <th>3196</th>\n",
       "      <td>TRINITY_DN2350_c0_g1_i1</td>\n",
       "      <td>573</td>\n",
       "      <td>324.000</td>\n",
       "      <td>36.182806</td>\n",
       "      <td>41.0</td>\n",
       "      <td>-0.145491</td>\n",
       "    </tr>\n",
       "    <tr>\n",
       "      <th>3197</th>\n",
       "      <td>TRINITY_DN2360_c0_g1_i1</td>\n",
       "      <td>277</td>\n",
       "      <td>34.302</td>\n",
       "      <td>133.371784</td>\n",
       "      <td>16.0</td>\n",
       "      <td>-0.094299</td>\n",
       "    </tr>\n",
       "    <tr>\n",
       "      <th>3198</th>\n",
       "      <td>TRINITY_DN2309_c0_g1_i1</td>\n",
       "      <td>498</td>\n",
       "      <td>249.000</td>\n",
       "      <td>51.674533</td>\n",
       "      <td>45.0</td>\n",
       "      <td>-0.137331</td>\n",
       "    </tr>\n",
       "    <tr>\n",
       "      <th>3199</th>\n",
       "      <td>TRINITY_DN2366_c0_g1_i1</td>\n",
       "      <td>307</td>\n",
       "      <td>58.716</td>\n",
       "      <td>642.807957</td>\n",
       "      <td>132.0</td>\n",
       "      <td>0.174031</td>\n",
       "    </tr>\n",
       "    <tr>\n",
       "      <th>3200</th>\n",
       "      <td>TRINITY_DN2300_c0_g1_i1</td>\n",
       "      <td>536</td>\n",
       "      <td>287.000</td>\n",
       "      <td>213.203961</td>\n",
       "      <td>214.0</td>\n",
       "      <td>-0.052250</td>\n",
       "    </tr>\n",
       "  </tbody>\n",
       "</table>\n",
       "<p>3201 rows × 6 columns</p>\n",
       "</div>"
      ],
      "text/plain": [
       "                         Name  Length  EffectiveLength         TPM  NumReads  \\\n",
       "0      TRINITY_DN688_c0_g1_i1     351          102.003   78.489229      28.0   \n",
       "1      TRINITY_DN600_c0_g1_i1     326           77.092   74.179055      20.0   \n",
       "2      TRINITY_DN685_c0_g1_i1     441          192.000   56.590790      38.0   \n",
       "3      TRINITY_DN655_c0_g1_i1    1116          867.000   27.702795      84.0   \n",
       "4      TRINITY_DN640_c0_g1_i1     652          403.000   50.375190      71.0   \n",
       "...                       ...     ...              ...         ...       ...   \n",
       "3196  TRINITY_DN2350_c0_g1_i1     573          324.000   36.182806      41.0   \n",
       "3197  TRINITY_DN2360_c0_g1_i1     277           34.302  133.371784      16.0   \n",
       "3198  TRINITY_DN2309_c0_g1_i1     498          249.000   51.674533      45.0   \n",
       "3199  TRINITY_DN2366_c0_g1_i1     307           58.716  642.807957     132.0   \n",
       "3200  TRINITY_DN2300_c0_g1_i1     536          287.000  213.203961     214.0   \n",
       "\n",
       "       z_score  \n",
       "0    -0.123207  \n",
       "1    -0.125477  \n",
       "2    -0.134741  \n",
       "3    -0.149957  \n",
       "4    -0.138015  \n",
       "...        ...  \n",
       "3196 -0.145491  \n",
       "3197 -0.094299  \n",
       "3198 -0.137331  \n",
       "3199  0.174031  \n",
       "3200 -0.052250  \n",
       "\n",
       "[3201 rows x 6 columns]"
      ]
     },
     "execution_count": 69,
     "metadata": {},
     "output_type": "execute_result"
    }
   ],
   "source": [
    "df['z_score']=stats.zscore(df['TPM'])\n",
    "df"
   ]
  },
  {
   "cell_type": "markdown",
   "metadata": {},
   "source": [
    "### Empirical rule any absolute value of z-score above 3 is considered as an Outlier. This is quite debatable and may not hold true for every dataset in this world.\n",
    "That is also in-line with the six sigma and statistical process control limits as well. So we have discarded any values which is above 3 values of Standard deviation to remove outliers"
   ]
  },
  {
   "cell_type": "code",
   "execution_count": 71,
   "metadata": {},
   "outputs": [
    {
     "data": {
      "text/html": [
       "<div>\n",
       "<style scoped>\n",
       "    .dataframe tbody tr th:only-of-type {\n",
       "        vertical-align: middle;\n",
       "    }\n",
       "\n",
       "    .dataframe tbody tr th {\n",
       "        vertical-align: top;\n",
       "    }\n",
       "\n",
       "    .dataframe thead th {\n",
       "        text-align: right;\n",
       "    }\n",
       "</style>\n",
       "<table border=\"1\" class=\"dataframe\">\n",
       "  <thead>\n",
       "    <tr style=\"text-align: right;\">\n",
       "      <th></th>\n",
       "      <th>Length</th>\n",
       "      <th>EffectiveLength</th>\n",
       "      <th>TPM</th>\n",
       "      <th>NumReads</th>\n",
       "      <th>z_score</th>\n",
       "    </tr>\n",
       "  </thead>\n",
       "  <tbody>\n",
       "    <tr>\n",
       "      <th>count</th>\n",
       "      <td>3201.000000</td>\n",
       "      <td>3201.000000</td>\n",
       "      <td>3201.000000</td>\n",
       "      <td>3201.000000</td>\n",
       "      <td>3.201000e+03</td>\n",
       "    </tr>\n",
       "    <tr>\n",
       "      <th>mean</th>\n",
       "      <td>500.084349</td>\n",
       "      <td>253.335170</td>\n",
       "      <td>312.402374</td>\n",
       "      <td>155.402999</td>\n",
       "      <td>1.775802e-17</td>\n",
       "    </tr>\n",
       "    <tr>\n",
       "      <th>std</th>\n",
       "      <td>307.164462</td>\n",
       "      <td>305.474797</td>\n",
       "      <td>1898.835931</td>\n",
       "      <td>482.621994</td>\n",
       "      <td>1.000156e+00</td>\n",
       "    </tr>\n",
       "    <tr>\n",
       "      <th>min</th>\n",
       "      <td>251.000000</td>\n",
       "      <td>21.005000</td>\n",
       "      <td>0.000000</td>\n",
       "      <td>0.000000</td>\n",
       "      <td>-1.645488e-01</td>\n",
       "    </tr>\n",
       "    <tr>\n",
       "      <th>25%</th>\n",
       "      <td>302.000000</td>\n",
       "      <td>54.120000</td>\n",
       "      <td>54.056874</td>\n",
       "      <td>20.000000</td>\n",
       "      <td>-1.360759e-01</td>\n",
       "    </tr>\n",
       "    <tr>\n",
       "      <th>50%</th>\n",
       "      <td>388.000000</td>\n",
       "      <td>139.000000</td>\n",
       "      <td>86.728262</td>\n",
       "      <td>37.000000</td>\n",
       "      <td>-1.188672e-01</td>\n",
       "    </tr>\n",
       "    <tr>\n",
       "      <th>75%</th>\n",
       "      <td>576.000000</td>\n",
       "      <td>327.000000</td>\n",
       "      <td>152.067063</td>\n",
       "      <td>95.000000</td>\n",
       "      <td>-8.445193e-02</td>\n",
       "    </tr>\n",
       "    <tr>\n",
       "      <th>max</th>\n",
       "      <td>3169.000000</td>\n",
       "      <td>2920.000000</td>\n",
       "      <td>48773.745983</td>\n",
       "      <td>8725.527000</td>\n",
       "      <td>2.552559e+01</td>\n",
       "    </tr>\n",
       "  </tbody>\n",
       "</table>\n",
       "</div>"
      ],
      "text/plain": [
       "            Length  EffectiveLength           TPM     NumReads       z_score\n",
       "count  3201.000000      3201.000000   3201.000000  3201.000000  3.201000e+03\n",
       "mean    500.084349       253.335170    312.402374   155.402999  1.775802e-17\n",
       "std     307.164462       305.474797   1898.835931   482.621994  1.000156e+00\n",
       "min     251.000000        21.005000      0.000000     0.000000 -1.645488e-01\n",
       "25%     302.000000        54.120000     54.056874    20.000000 -1.360759e-01\n",
       "50%     388.000000       139.000000     86.728262    37.000000 -1.188672e-01\n",
       "75%     576.000000       327.000000    152.067063    95.000000 -8.445193e-02\n",
       "max    3169.000000      2920.000000  48773.745983  8725.527000  2.552559e+01"
      ]
     },
     "execution_count": 71,
     "metadata": {},
     "output_type": "execute_result"
    }
   ],
   "source": [
    "#Get max value of the numeric cols\n",
    "df.select_dtypes(include=[np.number]).max()\n",
    "df.select_dtypes(include=[np.number]).min()\n",
    "#Get basic statics\n",
    "df.describe()"
   ]
  },
  {
   "cell_type": "code",
   "execution_count": 82,
   "metadata": {},
   "outputs": [
    {
     "data": {
      "text/plain": [
       "(3180, 6)"
      ]
     },
     "execution_count": 82,
     "metadata": {},
     "output_type": "execute_result"
    }
   ],
   "source": [
    "df_filtered= df.loc[df['z_score'].abs()<=3]\n",
    "df_filtered.shape\n"
   ]
  },
  {
   "cell_type": "code",
   "execution_count": 83,
   "metadata": {},
   "outputs": [
    {
     "data": {
      "image/png": "[encoded data removed]",
      "text/plain": [
       "<Figure size 432x288 with 1 Axes>"
      ]
     },
     "metadata": {
      "needs_background": "light"
     },
     "output_type": "display_data"
    }
   ],
   "source": [
    "lst_TPM2 = df2 = df_filtered['TPM']\n",
    "sns.distplot(lst_TPM2);"
   ]
  },
  {
   "cell_type": "code",
   "execution_count": 84,
   "metadata": {},
   "outputs": [
    {
     "data": {
      "text/html": [
       "<div>\n",
       "<style scoped>\n",
       "    .dataframe tbody tr th:only-of-type {\n",
       "        vertical-align: middle;\n",
       "    }\n",
       "\n",
       "    .dataframe tbody tr th {\n",
       "        vertical-align: top;\n",
       "    }\n",
       "\n",
       "    .dataframe thead th {\n",
       "        text-align: right;\n",
       "    }\n",
       "</style>\n",
       "<table border=\"1\" class=\"dataframe\">\n",
       "  <thead>\n",
       "    <tr style=\"text-align: right;\">\n",
       "      <th></th>\n",
       "      <th>Name</th>\n",
       "      <th>Length</th>\n",
       "      <th>EffectiveLength</th>\n",
       "      <th>TPM</th>\n",
       "      <th>NumReads</th>\n",
       "      <th>z_score</th>\n",
       "    </tr>\n",
       "  </thead>\n",
       "  <tbody>\n",
       "    <tr>\n",
       "      <th>0</th>\n",
       "      <td>TRINITY_DN688_c0_g1_i1</td>\n",
       "      <td>351</td>\n",
       "      <td>102.003</td>\n",
       "      <td>78.489229</td>\n",
       "      <td>28.0</td>\n",
       "      <td>-0.123207</td>\n",
       "    </tr>\n",
       "    <tr>\n",
       "      <th>1</th>\n",
       "      <td>TRINITY_DN600_c0_g1_i1</td>\n",
       "      <td>326</td>\n",
       "      <td>77.092</td>\n",
       "      <td>74.179055</td>\n",
       "      <td>20.0</td>\n",
       "      <td>-0.125477</td>\n",
       "    </tr>\n",
       "    <tr>\n",
       "      <th>2</th>\n",
       "      <td>TRINITY_DN685_c0_g1_i1</td>\n",
       "      <td>441</td>\n",
       "      <td>192.000</td>\n",
       "      <td>56.590790</td>\n",
       "      <td>38.0</td>\n",
       "      <td>-0.134741</td>\n",
       "    </tr>\n",
       "    <tr>\n",
       "      <th>3</th>\n",
       "      <td>TRINITY_DN655_c0_g1_i1</td>\n",
       "      <td>1116</td>\n",
       "      <td>867.000</td>\n",
       "      <td>27.702795</td>\n",
       "      <td>84.0</td>\n",
       "      <td>-0.149957</td>\n",
       "    </tr>\n",
       "    <tr>\n",
       "      <th>4</th>\n",
       "      <td>TRINITY_DN640_c0_g1_i1</td>\n",
       "      <td>652</td>\n",
       "      <td>403.000</td>\n",
       "      <td>50.375190</td>\n",
       "      <td>71.0</td>\n",
       "      <td>-0.138015</td>\n",
       "    </tr>\n",
       "    <tr>\n",
       "      <th>...</th>\n",
       "      <td>...</td>\n",
       "      <td>...</td>\n",
       "      <td>...</td>\n",
       "      <td>...</td>\n",
       "      <td>...</td>\n",
       "      <td>...</td>\n",
       "    </tr>\n",
       "    <tr>\n",
       "      <th>3196</th>\n",
       "      <td>TRINITY_DN2350_c0_g1_i1</td>\n",
       "      <td>573</td>\n",
       "      <td>324.000</td>\n",
       "      <td>36.182806</td>\n",
       "      <td>41.0</td>\n",
       "      <td>-0.145491</td>\n",
       "    </tr>\n",
       "    <tr>\n",
       "      <th>3197</th>\n",
       "      <td>TRINITY_DN2360_c0_g1_i1</td>\n",
       "      <td>277</td>\n",
       "      <td>34.302</td>\n",
       "      <td>133.371784</td>\n",
       "      <td>16.0</td>\n",
       "      <td>-0.094299</td>\n",
       "    </tr>\n",
       "    <tr>\n",
       "      <th>3198</th>\n",
       "      <td>TRINITY_DN2309_c0_g1_i1</td>\n",
       "      <td>498</td>\n",
       "      <td>249.000</td>\n",
       "      <td>51.674533</td>\n",
       "      <td>45.0</td>\n",
       "      <td>-0.137331</td>\n",
       "    </tr>\n",
       "    <tr>\n",
       "      <th>3199</th>\n",
       "      <td>TRINITY_DN2366_c0_g1_i1</td>\n",
       "      <td>307</td>\n",
       "      <td>58.716</td>\n",
       "      <td>642.807957</td>\n",
       "      <td>132.0</td>\n",
       "      <td>0.174031</td>\n",
       "    </tr>\n",
       "    <tr>\n",
       "      <th>3200</th>\n",
       "      <td>TRINITY_DN2300_c0_g1_i1</td>\n",
       "      <td>536</td>\n",
       "      <td>287.000</td>\n",
       "      <td>213.203961</td>\n",
       "      <td>214.0</td>\n",
       "      <td>-0.052250</td>\n",
       "    </tr>\n",
       "  </tbody>\n",
       "</table>\n",
       "<p>3180 rows × 6 columns</p>\n",
       "</div>"
      ],
      "text/plain": [
       "                         Name  Length  EffectiveLength         TPM  NumReads  \\\n",
       "0      TRINITY_DN688_c0_g1_i1     351          102.003   78.489229      28.0   \n",
       "1      TRINITY_DN600_c0_g1_i1     326           77.092   74.179055      20.0   \n",
       "2      TRINITY_DN685_c0_g1_i1     441          192.000   56.590790      38.0   \n",
       "3      TRINITY_DN655_c0_g1_i1    1116          867.000   27.702795      84.0   \n",
       "4      TRINITY_DN640_c0_g1_i1     652          403.000   50.375190      71.0   \n",
       "...                       ...     ...              ...         ...       ...   \n",
       "3196  TRINITY_DN2350_c0_g1_i1     573          324.000   36.182806      41.0   \n",
       "3197  TRINITY_DN2360_c0_g1_i1     277           34.302  133.371784      16.0   \n",
       "3198  TRINITY_DN2309_c0_g1_i1     498          249.000   51.674533      45.0   \n",
       "3199  TRINITY_DN2366_c0_g1_i1     307           58.716  642.807957     132.0   \n",
       "3200  TRINITY_DN2300_c0_g1_i1     536          287.000  213.203961     214.0   \n",
       "\n",
       "       z_score  \n",
       "0    -0.123207  \n",
       "1    -0.125477  \n",
       "2    -0.134741  \n",
       "3    -0.149957  \n",
       "4    -0.138015  \n",
       "...        ...  \n",
       "3196 -0.145491  \n",
       "3197 -0.094299  \n",
       "3198 -0.137331  \n",
       "3199  0.174031  \n",
       "3200 -0.052250  \n",
       "\n",
       "[3180 rows x 6 columns]"
      ]
     },
     "execution_count": 84,
     "metadata": {},
     "output_type": "execute_result"
    }
   ],
   "source": [
    "df_filtered"
   ]
  },
  {
   "cell_type": "code",
   "execution_count": 95,
   "metadata": {},
   "outputs": [
    {
     "data": {
      "image/png": "[encoded data removed]",
      "text/plain": [
       "<Figure size 432x288 with 1 Axes>"
      ]
     },
     "metadata": {
      "needs_background": "light"
     },
     "output_type": "display_data"
    }
   ],
   "source": [
    "# Scatted plot absolute counts versus normalized count\n",
    "plt.scatter('TPM','NumReads', data=df_filtered)\n",
    "plt.xlabel('TPM')\n",
    "plt.ylabel('NumReads')\n",
    "plt.title('Scatter plot of expression values: raw')\n",
    "plt.show()"
   ]
  },
  {
   "cell_type": "code",
   "execution_count": 88,
   "metadata": {},
   "outputs": [
    {
     "name": "stdout",
     "output_type": "stream",
     "text": [
      "First quantile in TPM column:53.929691000000005\n",
      "First third in TPM column:150.01085899999998\n",
      "IQR in TPM column:96.08116799999998\n",
      "10th.quantile in TPM column:41.5571579\n",
      "90th.quantile in TPM column:296.61221639999997\n"
     ]
    }
   ],
   "source": [
    "Q1 = np.quantile(lst_TPM2,0.25)\n",
    "Q3 = np.quantile(lst_TPM2,0.75)\n",
    "IQR = Q3 - Q1\n",
    "print (\"First quantile in TPM column:\"+str(Q1))\n",
    "print (\"First third in TPM column:\"+str(Q3))\n",
    "print (\"IQR in TPM column:\"+str(IQR))\n",
    "q10 = np.quantile(lst_TPM2,0.10)\n",
    "q90 = np.quantile(lst_TPM2,0.90)\n",
    "print (\"10th.quantile in TPM column:\"+str(q10))\n",
    "print (\"90th.quantile in TPM column:\"+str(q90))"
   ]
  },
  {
   "cell_type": "code",
   "execution_count": 89,
   "metadata": {},
   "outputs": [
    {
     "data": {
      "text/html": [
       "<div>\n",
       "<style scoped>\n",
       "    .dataframe tbody tr th:only-of-type {\n",
       "        vertical-align: middle;\n",
       "    }\n",
       "\n",
       "    .dataframe tbody tr th {\n",
       "        vertical-align: top;\n",
       "    }\n",
       "\n",
       "    .dataframe thead th {\n",
       "        text-align: right;\n",
       "    }\n",
       "</style>\n",
       "<table border=\"1\" class=\"dataframe\">\n",
       "  <thead>\n",
       "    <tr style=\"text-align: right;\">\n",
       "      <th></th>\n",
       "      <th>Length</th>\n",
       "      <th>EffectiveLength</th>\n",
       "      <th>TPM</th>\n",
       "      <th>NumReads</th>\n",
       "      <th>z_score</th>\n",
       "    </tr>\n",
       "  </thead>\n",
       "  <tbody>\n",
       "    <tr>\n",
       "      <th>count</th>\n",
       "      <td>3180.000000</td>\n",
       "      <td>3180.000000</td>\n",
       "      <td>3180.000000</td>\n",
       "      <td>3180.000000</td>\n",
       "      <td>3180.000000</td>\n",
       "    </tr>\n",
       "    <tr>\n",
       "      <th>mean</th>\n",
       "      <td>501.270126</td>\n",
       "      <td>254.510504</td>\n",
       "      <td>194.892500</td>\n",
       "      <td>131.053613</td>\n",
       "      <td>-0.061895</td>\n",
       "    </tr>\n",
       "    <tr>\n",
       "      <th>std</th>\n",
       "      <td>307.800724</td>\n",
       "      <td>306.113662</td>\n",
       "      <td>467.603745</td>\n",
       "      <td>323.281334</td>\n",
       "      <td>0.246297</td>\n",
       "    </tr>\n",
       "    <tr>\n",
       "      <th>min</th>\n",
       "      <td>251.000000</td>\n",
       "      <td>21.005000</td>\n",
       "      <td>0.000000</td>\n",
       "      <td>0.000000</td>\n",
       "      <td>-0.164549</td>\n",
       "    </tr>\n",
       "    <tr>\n",
       "      <th>25%</th>\n",
       "      <td>303.000000</td>\n",
       "      <td>55.027000</td>\n",
       "      <td>53.929691</td>\n",
       "      <td>20.000000</td>\n",
       "      <td>-0.136143</td>\n",
       "    </tr>\n",
       "    <tr>\n",
       "      <th>50%</th>\n",
       "      <td>388.500000</td>\n",
       "      <td>139.500000</td>\n",
       "      <td>86.338651</td>\n",
       "      <td>36.000000</td>\n",
       "      <td>-0.119072</td>\n",
       "    </tr>\n",
       "    <tr>\n",
       "      <th>75%</th>\n",
       "      <td>577.000000</td>\n",
       "      <td>328.000000</td>\n",
       "      <td>150.010859</td>\n",
       "      <td>92.250000</td>\n",
       "      <td>-0.085535</td>\n",
       "    </tr>\n",
       "    <tr>\n",
       "      <th>max</th>\n",
       "      <td>3169.000000</td>\n",
       "      <td>2920.000000</td>\n",
       "      <td>5638.732013</td>\n",
       "      <td>5923.000000</td>\n",
       "      <td>2.805488</td>\n",
       "    </tr>\n",
       "  </tbody>\n",
       "</table>\n",
       "</div>"
      ],
      "text/plain": [
       "            Length  EffectiveLength          TPM     NumReads      z_score\n",
       "count  3180.000000      3180.000000  3180.000000  3180.000000  3180.000000\n",
       "mean    501.270126       254.510504   194.892500   131.053613    -0.061895\n",
       "std     307.800724       306.113662   467.603745   323.281334     0.246297\n",
       "min     251.000000        21.005000     0.000000     0.000000    -0.164549\n",
       "25%     303.000000        55.027000    53.929691    20.000000    -0.136143\n",
       "50%     388.500000       139.500000    86.338651    36.000000    -0.119072\n",
       "75%     577.000000       328.000000   150.010859    92.250000    -0.085535\n",
       "max    3169.000000      2920.000000  5638.732013  5923.000000     2.805488"
      ]
     },
     "execution_count": 89,
     "metadata": {},
     "output_type": "execute_result"
    }
   ],
   "source": [
    "#Get max value of the numeric cols\n",
    "df_filtered.select_dtypes(include=[np.number]).max()\n",
    "df_filtered.select_dtypes(include=[np.number]).min()\n",
    "#Get basic statics\n",
    "df_filtered.describe()"
   ]
  },
  {
   "cell_type": "markdown",
   "metadata": {},
   "source": [
    "## Method 3: Data Smoothing with Exponential smoothing(EWMA)\n",
    "\n",
    "Smoothing of data is done for a variety of reasons and one of them is eliminating the spikes and outliers. If there is some outliers which are really high or a absolute low then smoothing helps to summarize the data and remove the noise from the data.\n",
    "\n",
    "Use various techniques like rolling mean, moving averages and Exponential smoothing(EWMA)\n",
    "\n",
    "The Exponential Smoothing(EWMA) unlike moving average which doesn’t treat all the data points equally while smoothing. Most of the time in a Time series data we want to treat the most recent data with more weight than the previous data."
   ]
  },
  {
   "cell_type": "markdown",
   "metadata": {},
   "source": [
    "For example: if your current value if 12 and previous value is 8 and smoothing level is 0.6 then the smoothed value is given by 12*0.6 + (1-0.6)*8\n",
    "\n",
    "### Finding Exponential Smoothing values using Pandas"
   ]
  },
  {
   "cell_type": "code",
   "execution_count": 100,
   "metadata": {},
   "outputs": [
    {
     "data": {
      "text/plain": [
       "(3201, 6)"
      ]
     },
     "execution_count": 100,
     "metadata": {},
     "output_type": "execute_result"
    }
   ],
   "source": [
    "df.shape"
   ]
  },
  {
   "cell_type": "code",
   "execution_count": 101,
   "metadata": {},
   "outputs": [
    {
     "data": {
      "text/html": [
       "<div>\n",
       "<style scoped>\n",
       "    .dataframe tbody tr th:only-of-type {\n",
       "        vertical-align: middle;\n",
       "    }\n",
       "\n",
       "    .dataframe tbody tr th {\n",
       "        vertical-align: top;\n",
       "    }\n",
       "\n",
       "    .dataframe thead th {\n",
       "        text-align: right;\n",
       "    }\n",
       "</style>\n",
       "<table border=\"1\" class=\"dataframe\">\n",
       "  <thead>\n",
       "    <tr style=\"text-align: right;\">\n",
       "      <th></th>\n",
       "      <th>Name</th>\n",
       "      <th>Length</th>\n",
       "      <th>EffectiveLength</th>\n",
       "      <th>TPM</th>\n",
       "      <th>NumReads</th>\n",
       "      <th>z_score</th>\n",
       "      <th>ewm_alpha_1</th>\n",
       "      <th>ewm_alpha_3</th>\n",
       "      <th>ewm_alpha_6</th>\n",
       "    </tr>\n",
       "  </thead>\n",
       "  <tbody>\n",
       "    <tr>\n",
       "      <th>0</th>\n",
       "      <td>TRINITY_DN688_c0_g1_i1</td>\n",
       "      <td>351</td>\n",
       "      <td>102.003</td>\n",
       "      <td>78.489229</td>\n",
       "      <td>28.0</td>\n",
       "      <td>-0.123207</td>\n",
       "      <td>78.489229</td>\n",
       "      <td>78.489229</td>\n",
       "      <td>78.489229</td>\n",
       "    </tr>\n",
       "    <tr>\n",
       "      <th>1</th>\n",
       "      <td>TRINITY_DN600_c0_g1_i1</td>\n",
       "      <td>326</td>\n",
       "      <td>77.092</td>\n",
       "      <td>74.179055</td>\n",
       "      <td>20.0</td>\n",
       "      <td>-0.125477</td>\n",
       "      <td>76.220716</td>\n",
       "      <td>75.953833</td>\n",
       "      <td>75.410533</td>\n",
       "    </tr>\n",
       "    <tr>\n",
       "      <th>2</th>\n",
       "      <td>TRINITY_DN685_c0_g1_i1</td>\n",
       "      <td>441</td>\n",
       "      <td>192.000</td>\n",
       "      <td>56.590790</td>\n",
       "      <td>38.0</td>\n",
       "      <td>-0.134741</td>\n",
       "      <td>68.977201</td>\n",
       "      <td>67.112261</td>\n",
       "      <td>63.346595</td>\n",
       "    </tr>\n",
       "    <tr>\n",
       "      <th>3</th>\n",
       "      <td>TRINITY_DN655_c0_g1_i1</td>\n",
       "      <td>1116</td>\n",
       "      <td>867.000</td>\n",
       "      <td>27.702795</td>\n",
       "      <td>84.0</td>\n",
       "      <td>-0.149957</td>\n",
       "      <td>56.975338</td>\n",
       "      <td>51.553845</td>\n",
       "      <td>41.398442</td>\n",
       "    </tr>\n",
       "    <tr>\n",
       "      <th>4</th>\n",
       "      <td>TRINITY_DN640_c0_g1_i1</td>\n",
       "      <td>652</td>\n",
       "      <td>403.000</td>\n",
       "      <td>50.375190</td>\n",
       "      <td>71.0</td>\n",
       "      <td>-0.138015</td>\n",
       "      <td>55.363620</td>\n",
       "      <td>51.128814</td>\n",
       "      <td>46.840215</td>\n",
       "    </tr>\n",
       "    <tr>\n",
       "      <th>...</th>\n",
       "      <td>...</td>\n",
       "      <td>...</td>\n",
       "      <td>...</td>\n",
       "      <td>...</td>\n",
       "      <td>...</td>\n",
       "      <td>...</td>\n",
       "      <td>...</td>\n",
       "      <td>...</td>\n",
       "      <td>...</td>\n",
       "    </tr>\n",
       "    <tr>\n",
       "      <th>3196</th>\n",
       "      <td>TRINITY_DN2350_c0_g1_i1</td>\n",
       "      <td>573</td>\n",
       "      <td>324.000</td>\n",
       "      <td>36.182806</td>\n",
       "      <td>41.0</td>\n",
       "      <td>-0.145491</td>\n",
       "      <td>176.168418</td>\n",
       "      <td>122.386010</td>\n",
       "      <td>103.026309</td>\n",
       "    </tr>\n",
       "    <tr>\n",
       "      <th>3197</th>\n",
       "      <td>TRINITY_DN2360_c0_g1_i1</td>\n",
       "      <td>277</td>\n",
       "      <td>34.302</td>\n",
       "      <td>133.371784</td>\n",
       "      <td>16.0</td>\n",
       "      <td>-0.094299</td>\n",
       "      <td>171.888755</td>\n",
       "      <td>125.681742</td>\n",
       "      <td>121.233594</td>\n",
       "    </tr>\n",
       "    <tr>\n",
       "      <th>3198</th>\n",
       "      <td>TRINITY_DN2309_c0_g1_i1</td>\n",
       "      <td>498</td>\n",
       "      <td>249.000</td>\n",
       "      <td>51.674533</td>\n",
       "      <td>45.0</td>\n",
       "      <td>-0.137331</td>\n",
       "      <td>159.867333</td>\n",
       "      <td>103.479579</td>\n",
       "      <td>79.498157</td>\n",
       "    </tr>\n",
       "    <tr>\n",
       "      <th>3199</th>\n",
       "      <td>TRINITY_DN2366_c0_g1_i1</td>\n",
       "      <td>307</td>\n",
       "      <td>58.716</td>\n",
       "      <td>642.807957</td>\n",
       "      <td>132.0</td>\n",
       "      <td>0.174031</td>\n",
       "      <td>208.161395</td>\n",
       "      <td>265.278093</td>\n",
       "      <td>417.484037</td>\n",
       "    </tr>\n",
       "    <tr>\n",
       "      <th>3200</th>\n",
       "      <td>TRINITY_DN2300_c0_g1_i1</td>\n",
       "      <td>536</td>\n",
       "      <td>287.000</td>\n",
       "      <td>213.203961</td>\n",
       "      <td>214.0</td>\n",
       "      <td>-0.052250</td>\n",
       "      <td>208.665652</td>\n",
       "      <td>249.655853</td>\n",
       "      <td>294.915991</td>\n",
       "    </tr>\n",
       "  </tbody>\n",
       "</table>\n",
       "<p>3201 rows × 9 columns</p>\n",
       "</div>"
      ],
      "text/plain": [
       "                         Name  Length  EffectiveLength         TPM  NumReads  \\\n",
       "0      TRINITY_DN688_c0_g1_i1     351          102.003   78.489229      28.0   \n",
       "1      TRINITY_DN600_c0_g1_i1     326           77.092   74.179055      20.0   \n",
       "2      TRINITY_DN685_c0_g1_i1     441          192.000   56.590790      38.0   \n",
       "3      TRINITY_DN655_c0_g1_i1    1116          867.000   27.702795      84.0   \n",
       "4      TRINITY_DN640_c0_g1_i1     652          403.000   50.375190      71.0   \n",
       "...                       ...     ...              ...         ...       ...   \n",
       "3196  TRINITY_DN2350_c0_g1_i1     573          324.000   36.182806      41.0   \n",
       "3197  TRINITY_DN2360_c0_g1_i1     277           34.302  133.371784      16.0   \n",
       "3198  TRINITY_DN2309_c0_g1_i1     498          249.000   51.674533      45.0   \n",
       "3199  TRINITY_DN2366_c0_g1_i1     307           58.716  642.807957     132.0   \n",
       "3200  TRINITY_DN2300_c0_g1_i1     536          287.000  213.203961     214.0   \n",
       "\n",
       "       z_score  ewm_alpha_1  ewm_alpha_3  ewm_alpha_6  \n",
       "0    -0.123207    78.489229    78.489229    78.489229  \n",
       "1    -0.125477    76.220716    75.953833    75.410533  \n",
       "2    -0.134741    68.977201    67.112261    63.346595  \n",
       "3    -0.149957    56.975338    51.553845    41.398442  \n",
       "4    -0.138015    55.363620    51.128814    46.840215  \n",
       "...        ...          ...          ...          ...  \n",
       "3196 -0.145491   176.168418   122.386010   103.026309  \n",
       "3197 -0.094299   171.888755   125.681742   121.233594  \n",
       "3198 -0.137331   159.867333   103.479579    79.498157  \n",
       "3199  0.174031   208.161395   265.278093   417.484037  \n",
       "3200 -0.052250   208.665652   249.655853   294.915991  \n",
       "\n",
       "[3201 rows x 9 columns]"
      ]
     },
     "execution_count": 101,
     "metadata": {},
     "output_type": "execute_result"
    }
   ],
   "source": [
    "df['ewm_alpha_1']=df['TPM'].ewm(alpha=0.1).mean()\n",
    "df['ewm_alpha_3']=df['TPM'].ewm(alpha=0.3).mean()\n",
    "df['ewm_alpha_6']=df['TPM'].ewm(alpha=0.6).mean()\n",
    "df"
   ]
  },
  {
   "cell_type": "code",
   "execution_count": null,
   "metadata": {},
   "outputs": [],
   "source": []
  }
 ],
 "metadata": {
  "kernelspec": {
   "display_name": "Python 3",
   "language": "python",
   "name": "python3"
  },
  "language_info": {
   "codemirror_mode": {
    "name": "ipython",
    "version": 3
   },
   "file_extension": ".py",
   "mimetype": "text/x-python",
   "name": "python",
   "nbconvert_exporter": "python",
   "pygments_lexer": "ipython3",
   "version": "3.6.9"
  }
 },
 "nbformat": 4,
 "nbformat_minor": 4
}
