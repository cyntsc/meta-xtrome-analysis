{
 "cells": [
  {
   "cell_type": "markdown",
   "metadata": {},
   "source": [
    "# 1 Data Preparation to Integrate the Arthal1 (Healthy) RNA Sequence Count Data Set\n",
    "\n",
    "## \"\"\"Parse a whole directory with multiple quantification files\"\"\"\n",
    "\n",
    "#### Dataset1: Healthy - Arabidopsis (Col-0)\n",
    "\n",
    "#### Cynthia Soto\n",
    "#### Fecha: 20 de Agosto 2020\n",
    "#### Datatype representation: expression levels CDS (gene_name) \n",
    "#### Data quantify with HTSeq (alignments done with STAR SA) \n",
    "\n",
    "Data quantifications produced with HTSeq are absolute counts. Thus need to be prepared and transformated for a further exploration data analysis.\n",
    "\n",
    "Workflow:\n",
    "1) Explore data to get the correct format (remove or add headers; remove not informative data, etc.)\n",
    "2) Get basic statics and count zero values.\n",
    "3) Plus 1 to zero values to avoid arithmetical error when making Log2 convertion (avoid div/0 error)\n",
    "3) Make Log2 convertions\n",
    "4) Get basic statics\n",
    "5) Save transformations and statistics in cvs file for further analysis. \n"
   ]
  },
  {
   "cell_type": "code",
   "execution_count": 31,
   "metadata": {},
   "outputs": [],
   "source": [
    "import pandas as pd\n",
    "import numpy as np\n",
    "import os \n",
    "import glob"
   ]
  },
  {
   "cell_type": "code",
   "execution_count": 53,
   "metadata": {},
   "outputs": [
    {
     "name": "stdout",
     "output_type": "stream",
     "text": [
      "Directory changed\n",
      "/home/cyntsc/Proyectos/athal1_htseq-counts\n"
     ]
    }
   ],
   "source": [
    "try:\n",
    "    # Change the current working Directory to the quantification dir    \n",
    "    os.chdir(\"/home/cyntsc/Proyectos/athal1_htseq-counts/\")\n",
    "    print(\"Directory changed\")\n",
    "except OSError:\n",
    "    print(\"Can't change the Current Working Directory\")     \n",
    "s_path=os.getcwd()    \n",
    "print(s_path)"
   ]
  },
  {
   "cell_type": "code",
   "execution_count": 54,
   "metadata": {},
   "outputs": [
    {
     "data": {
      "text/plain": [
       "['all_log2_3_ceros.csv',\n",
       " 'all_log2_6_ceros.csv',\n",
       " 'SRR6283145',\n",
       " 'all_genesIDs_3cero',\n",
       " 'SRR3383640_Log2.csv',\n",
       " 'SRR6283144',\n",
       " 'SRR3383821_Log2.csv',\n",
       " 'all_log2_counter_cero.csv',\n",
       " 'all_log2_dropped5ceros.csv',\n",
       " 'SRR3383640',\n",
       " 'SRR3383782_Log2.csv',\n",
       " 'SRR6283145_Log2.csv',\n",
       " 'all_log2_dropped7ceros.csv',\n",
       " 'all_log2_dropped4ceros.csv',\n",
       " 'SRR3383641_Log2.csv',\n",
       " 'SRR3383783_Log2.csv',\n",
       " 'all_log2_7_ceros.csv',\n",
       " 'SRR3383783',\n",
       " 'all_genesIDs_4cero',\n",
       " 'all_log2_dropped6ceros.csv',\n",
       " 'SRR3383822_Log2.csv',\n",
       " 'SRR3383782',\n",
       " 'all_genesIDs_cero',\n",
       " 'all_log2_8_ceros.csv',\n",
       " 'SRR3383822',\n",
       " 'all_log2_dropped8ceros.csv',\n",
       " 'all_log2_5_ceros.csv',\n",
       " 'all_log2_4_ceros.csv',\n",
       " 'SRR6283144_Log2.csv',\n",
       " 'SRR3383641',\n",
       " 'all_genesIDs_7cero',\n",
       " 'all_genesIDs_5cero',\n",
       " 'all_genesIDs_6cero',\n",
       " 'all_log2_dropped3ceros.csv',\n",
       " 'SRR3383821']"
      ]
     },
     "execution_count": 54,
     "metadata": {},
     "output_type": "execute_result"
    }
   ],
   "source": [
    "#print(os.listdir(os.getcwd()) # list files in Dir\n",
    "os.listdir(os.getcwd())"
   ]
  },
  {
   "cell_type": "code",
   "execution_count": 55,
   "metadata": {},
   "outputs": [],
   "source": [
    " ## CODE TO TRANSFORM DATA FROM ABS.VALS TO LOG2.VALS\n",
    "\n",
    "for file in os.listdir(os.getcwd()):  \n",
    "    #print(file)\n",
    "    df= pd.read_csv(file, sep='\\t', header=None)\n",
    "    # Add column-names \n",
    "    \n",
    "    try:     \n",
    "        \n",
    "        df.columns = [\"Genes\",\"Counts\"]\n",
    "        #print(df.head(3))\n",
    "        #print(df.shape)\n",
    "        #print(df.tail(5))\n",
    "        df.drop(df.tail(5).index,inplace=True) # drop last n rows (refering statistics of HTSeq)\n",
    "        #print(df.tail(5))\n",
    "        #print (df.describe())\n",
    "        ##Check for zeros, if there are, so need to plus 1 to vales to avoid div/0 error\n",
    "        #print(df.isin([0]).sum())\n",
    "        ## Plus 1 to avoid arithmetical error in Log2 transformation (avoid error div/0)\n",
    "        df[\"Counts\"] += 1\n",
    "        ## check no more zero values\n",
    "        #print(df.isin([0]).sum())\n",
    "        ## Apply Log2 numpy function to absolute values and add a column\n",
    "        df['log2_value'] = np.log2(df['Counts'])\n",
    "        #print(df.head(3))       \n",
    "        ## Send df t_Log2.csv to a statistics file for further analysis\n",
    "        #df.to_csv(str(file)+'_Log2.csv', sep='\\t', index=True)\n",
    "        \n",
    "        ## CODE TO STORE STATISTICS IN CVS FILE             \n",
    "        #print (df.describe())        \n",
    "        #df.describe().to_csv('../athal1_stats/'+str(file)+'_stats.csv', sep='\\t')\n",
    "          \n",
    "    except:\n",
    "        pass # doing nothing on exception, not processed because it is already pre-processed\"\n",
    "        "
   ]
  },
  {
   "cell_type": "code",
   "execution_count": 56,
   "metadata": {},
   "outputs": [
    {
     "name": "stdout",
     "output_type": "stream",
     "text": [
      "Path to retrieve data: /home/cyntsc/Proyectos/athal1_htseq-counts\n",
      "Directory changed\n",
      "Path to store cvs stats: /home/cyntsc/Proyectos/athal1_stats/\n"
     ]
    }
   ],
   "source": [
    "\n",
    "print(\"Path to retrieve data:\", s_path)\n",
    "try:\n",
    "    # Change the current working Directory    \n",
    "    os.chdir(\"../athal1_stats/\")\n",
    "    print(\"Directory changed\")\n",
    "except OSError:\n",
    "    print(\"Can't change the Current Working Directory\")     \n",
    "    \n",
    "s_path_to_store = str(os.getcwd())+'/'\n",
    "print(\"Path to store cvs stats:\", s_path_to_store)"
   ]
  },
  {
   "cell_type": "code",
   "execution_count": 68,
   "metadata": {},
   "outputs": [],
   "source": [
    "## Prepare data for get basic statistic to explore the data \n",
    "s_path1=s_path_to_store+\"allsample_stats.csv\"\n",
    "df=pd.read_csv(s_path1, sep='\\t', header=0) \n",
    "df\n",
    "is_log2=df['Metric']=='log2_value'\n",
    "is_log2\n",
    "df=df[is_log2]\n",
    "df_plot=df"
   ]
  },
  {
   "cell_type": "code",
   "execution_count": 72,
   "metadata": {},
   "outputs": [
    {
     "data": {
      "text/html": [
       "<div>\n",
       "<style scoped>\n",
       "    .dataframe tbody tr th:only-of-type {\n",
       "        vertical-align: middle;\n",
       "    }\n",
       "\n",
       "    .dataframe tbody tr th {\n",
       "        vertical-align: top;\n",
       "    }\n",
       "\n",
       "    .dataframe thead th {\n",
       "        text-align: right;\n",
       "    }\n",
       "</style>\n",
       "<table border=\"1\" class=\"dataframe\">\n",
       "  <thead>\n",
       "    <tr style=\"text-align: right;\">\n",
       "      <th></th>\n",
       "      <th>sample</th>\n",
       "      <th>mean</th>\n",
       "      <th>std</th>\n",
       "      <th>25%</th>\n",
       "      <th>50%</th>\n",
       "      <th>75%</th>\n",
       "      <th>max</th>\n",
       "      <th>Zeros</th>\n",
       "    </tr>\n",
       "  </thead>\n",
       "  <tbody>\n",
       "    <tr>\n",
       "      <th>1</th>\n",
       "      <td>SRR3383640</td>\n",
       "      <td>4.919</td>\n",
       "      <td>3.791</td>\n",
       "      <td>0.0</td>\n",
       "      <td>5.728</td>\n",
       "      <td>8.140</td>\n",
       "      <td>17.227</td>\n",
       "      <td>7396</td>\n",
       "    </tr>\n",
       "    <tr>\n",
       "      <th>3</th>\n",
       "      <td>SRR3383821</td>\n",
       "      <td>5.118</td>\n",
       "      <td>3.944</td>\n",
       "      <td>0.0</td>\n",
       "      <td>5.954</td>\n",
       "      <td>8.459</td>\n",
       "      <td>17.179</td>\n",
       "      <td>7360</td>\n",
       "    </tr>\n",
       "    <tr>\n",
       "      <th>5</th>\n",
       "      <td>SRR3383782</td>\n",
       "      <td>5.701</td>\n",
       "      <td>4.243</td>\n",
       "      <td>1.0</td>\n",
       "      <td>6.741</td>\n",
       "      <td>9.248</td>\n",
       "      <td>19.334</td>\n",
       "      <td>6888</td>\n",
       "    </tr>\n",
       "    <tr>\n",
       "      <th>7</th>\n",
       "      <td>SRR6283145</td>\n",
       "      <td>5.307</td>\n",
       "      <td>4.182</td>\n",
       "      <td>0.0</td>\n",
       "      <td>6.190</td>\n",
       "      <td>8.913</td>\n",
       "      <td>17.106</td>\n",
       "      <td>7688</td>\n",
       "    </tr>\n",
       "    <tr>\n",
       "      <th>9</th>\n",
       "      <td>SRR3383641</td>\n",
       "      <td>5.620</td>\n",
       "      <td>4.207</td>\n",
       "      <td>0.0</td>\n",
       "      <td>6.728</td>\n",
       "      <td>9.197</td>\n",
       "      <td>18.265</td>\n",
       "      <td>7039</td>\n",
       "    </tr>\n",
       "    <tr>\n",
       "      <th>11</th>\n",
       "      <td>SRR3383783</td>\n",
       "      <td>4.942</td>\n",
       "      <td>3.892</td>\n",
       "      <td>0.0</td>\n",
       "      <td>5.700</td>\n",
       "      <td>8.248</td>\n",
       "      <td>18.268</td>\n",
       "      <td>7627</td>\n",
       "    </tr>\n",
       "    <tr>\n",
       "      <th>13</th>\n",
       "      <td>SRR3383822</td>\n",
       "      <td>4.672</td>\n",
       "      <td>3.706</td>\n",
       "      <td>0.0</td>\n",
       "      <td>5.358</td>\n",
       "      <td>7.814</td>\n",
       "      <td>16.796</td>\n",
       "      <td>7702</td>\n",
       "    </tr>\n",
       "    <tr>\n",
       "      <th>15</th>\n",
       "      <td>SRR6283144</td>\n",
       "      <td>5.270</td>\n",
       "      <td>4.198</td>\n",
       "      <td>0.0</td>\n",
       "      <td>6.000</td>\n",
       "      <td>8.877</td>\n",
       "      <td>18.067</td>\n",
       "      <td>7700</td>\n",
       "    </tr>\n",
       "  </tbody>\n",
       "</table>\n",
       "</div>"
      ],
      "text/plain": [
       "        sample   mean    std  25%    50%    75%     max  Zeros\n",
       "1   SRR3383640  4.919  3.791  0.0  5.728  8.140  17.227   7396\n",
       "3   SRR3383821  5.118  3.944  0.0  5.954  8.459  17.179   7360\n",
       "5   SRR3383782  5.701  4.243  1.0  6.741  9.248  19.334   6888\n",
       "7   SRR6283145  5.307  4.182  0.0  6.190  8.913  17.106   7688\n",
       "9   SRR3383641  5.620  4.207  0.0  6.728  9.197  18.265   7039\n",
       "11  SRR3383783  4.942  3.892  0.0  5.700  8.248  18.268   7627\n",
       "13  SRR3383822  4.672  3.706  0.0  5.358  7.814  16.796   7702\n",
       "15  SRR6283144  5.270  4.198  0.0  6.000  8.877  18.067   7700"
      ]
     },
     "execution_count": 72,
     "metadata": {},
     "output_type": "execute_result"
    }
   ],
   "source": [
    "#df_plot['mean'].round(decimals=3)\n",
    "df_plot=df.filter(['sample','mean','std','25%','50%','75%','max','Zeros']).round(decimals=3)\n",
    "df_plot"
   ]
  },
  {
   "cell_type": "code",
   "execution_count": 84,
   "metadata": {
    "scrolled": false
   },
   "outputs": [
    {
     "name": "stdout",
     "output_type": "stream",
     "text": [
      "        sample   mean    std  25%    50%    75%     max  Zeros\n",
      "1   SRR3383640  4.919  3.791  0.0  5.728  8.140  17.227   7396\n",
      "3   SRR3383821  5.118  3.944  0.0  5.954  8.459  17.179   7360\n",
      "5   SRR3383782  5.701  4.243  1.0  6.741  9.248  19.334   6888\n",
      "7   SRR6283145  5.307  4.182  0.0  6.190  8.913  17.106   7688\n",
      "9   SRR3383641  5.620  4.207  0.0  6.728  9.197  18.265   7039\n",
      "11  SRR3383783  4.942  3.892  0.0  5.700  8.248  18.268   7627\n",
      "13  SRR3383822  4.672  3.706  0.0  5.358  7.814  16.796   7702\n",
      "15  SRR6283144  5.270  4.198  0.0  6.000  8.877  18.067   7700\n"
     ]
    },
    {
     "name": "stderr",
     "output_type": "stream",
     "text": [
      "/home/cyntsc/Proyectos/tesis-code/jn_tesis_env/lib/python3.6/site-packages/pandas/plotting/_matplotlib/core.py:1192: UserWarning: FixedFormatter should only be used together with FixedLocator\n",
      "  ax.set_xticklabels(xticklabels)\n"
     ]
    },
    {
     "data": {
      "image/png": "[encoded data removed]",
      "text/plain": [
       "<Figure size 432x288 with 1 Axes>"
      ]
     },
     "metadata": {
      "needs_background": "light"
     },
     "output_type": "display_data"
    }
   ],
   "source": [
    "import matplotlib.pyplot as plt\n",
    "\n",
    "# Plot data to explore variance between samples\n",
    "print(df_plot)\n",
    "#plt.figure(figsize=(20,10))\n",
    "\n",
    "df_plot.plot(x='sample', y=['mean','std','25%','50%','75%','max'])   #kind='bar'\n",
    "\n",
    "plt.xlabel('#ID: Sample')\n",
    "plt.xticks(rotation=45)\n",
    "plt.ylabel('Log2 values')\n",
    "plt.title('Dataset A.thaliana1 (control): basic statistics', fontsize=14)\n",
    "plt.legend()\n",
    "plt.show()\n",
    "#plt.savefig(\"athal1_basic_statics.png\")\n"
   ]
  },
  {
   "cell_type": "code",
   "execution_count": 93,
   "metadata": {},
   "outputs": [
    {
     "data": {
      "image/png": "[encoded data removed]",
      "text/plain": [
       "<Figure size 432x288 with 1 Axes>"
      ]
     },
     "metadata": {
      "needs_background": "light"
     },
     "output_type": "display_data"
    },
    {
     "data": {
      "text/plain": [
       "<Figure size 432x288 with 0 Axes>"
      ]
     },
     "metadata": {},
     "output_type": "display_data"
    }
   ],
   "source": [
    "# More plots\n",
    "\n",
    "df_plot.plot(x='sample', y='Zeros', kind='bar', color='green')\n",
    "plt.xlabel('#ID: Sample')\n",
    "plt.xticks(rotation=45)\n",
    "plt.ylabel('#genes with cero counts')\n",
    "plt.title('Dataset A.thaliana1 (control): genes with cero counts.', fontsize=14)\n",
    "plt.legend(loc=7)\n",
    "plt.show()\n",
    "plt.savefig(\"athal1_zeroLog2_counts.png\")"
   ]
  },
  {
   "cell_type": "code",
   "execution_count": null,
   "metadata": {},
   "outputs": [],
   "source": []
  }
 ],
 "metadata": {
  "kernelspec": {
   "display_name": "Python 3",
   "language": "python",
   "name": "python3"
  },
  "language_info": {
   "codemirror_mode": {
    "name": "ipython",
    "version": 3
   },
   "file_extension": ".py",
   "mimetype": "text/x-python",
   "name": "python",
   "nbconvert_exporter": "python",
   "pygments_lexer": "ipython3",
   "version": "3.6.9"
  }
 },
 "nbformat": 4,
 "nbformat_minor": 4
}
