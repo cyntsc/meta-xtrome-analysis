{
 "cells": [
  {
   "cell_type": "markdown",
   "metadata": {},
   "source": [
    "# Code for preparing control data set of Genes related with the plant's defense mechanisms\n",
    "\n",
    "1.- Data where consulted and retrieved from Uniprot database based on:\n",
    "    a) 11 Gene classes previousy selected see list below)\n",
    "             Gene_Class (e.g: BAK1, FLS2, etc\n",
    "    b) Plants resource database\n",
    "    c) Reviewed: swiss-prot database\n",
    "    \n",
    "    E.g query: BAK1+plats+reviewed; cdpks plants AND reviewed:yes\n",
    "                 \n",
    "2.- Structure of the data downloaded: (In this order as tab-separated file)\n",
    "    Uniprot: Entry_name+Gene_name(primary)+Protein_names+Length\n",
    "    \n",
    "Summary: \n",
    "11 datasets where recovery on March 2020"
   ]
  },
  {
   "cell_type": "code",
   "execution_count": 1,
   "metadata": {
    "scrolled": true
   },
   "outputs": [],
   "source": [
    "import pandas as pd\n",
    "import os"
   ]
  },
  {
   "cell_type": "code",
   "execution_count": 2,
   "metadata": {
    "scrolled": true
   },
   "outputs": [
    {
     "data": {
      "text/plain": [
       "'/home/cynthia/xtrome-main'"
      ]
     },
     "execution_count": 2,
     "metadata": {},
     "output_type": "execute_result"
    }
   ],
   "source": [
    "pwd"
   ]
  },
  {
   "cell_type": "markdown",
   "metadata": {},
   "source": [
    "## Inserting 'protein class' meta-data into each of the files recovered\n",
    "### Personalized classification\n"
   ]
  },
  {
   "cell_type": "code",
   "execution_count": 3,
   "metadata": {},
   "outputs": [
    {
     "name": "stdout",
     "output_type": "stream",
     "text": [
      "Protein predifined meta-data class\n",
      "2:BIK1\n",
      "3:CC\n",
      "4:CDPKs\n",
      "5:FLS2\n",
      "6:MAPKs\n",
      "7:NB-LRR\n",
      "8:PRR\n",
      "9:RKs\n",
      "10:RLKs\n",
      "11:TIR\n"
     ]
    }
   ],
   "source": [
    "# Preparing dictionary of classes\n",
    "\n",
    "dict_uniprot = {'2': 'BIK1', '3': 'CC','4': 'CDPKs', '5': 'FLS2', '6': 'MAPKs', '7': 'NB-LRR', '8': 'PRR', '9': 'RKs','10': 'RLKs', '11': 'TIR'}\n",
    "\n",
    "# Class 1: 'BAK1' is not in the dict_uniprot due it is created when initialized the Uniprot_defense_related.csv file \n",
    "print('Protein predifined meta-data class')\n",
    "\n",
    "for keys,values in dict_uniprot.items():\n",
    "    print(keys+':'+values)\n",
    "    #print(values)"
   ]
  },
  {
   "cell_type": "markdown",
   "metadata": {},
   "source": [
    "# Creating csv file Uniprot_defense_related.csv\n",
    "### Meta-data of genes related with defense recovered from Uniprot DB\n",
    "Fist class defined: BAK 1"
   ]
  },
  {
   "cell_type": "code",
   "execution_count": 5,
   "metadata": {
    "scrolled": true
   },
   "outputs": [
    {
     "name": "stdout",
     "output_type": "stream",
     "text": [
      "Uniprot DB recovery on: March-2020\n",
      "Meta-Data related to plant-defense genes was recovery\n",
      "Classes consulted:\n",
      "1.   BAK1:\n",
      "====================================\n",
      "Example of the class BAK1:\n"
     ]
    },
    {
     "data": {
      "text/html": [
       "<div>\n",
       "<style scoped>\n",
       "    .dataframe tbody tr th:only-of-type {\n",
       "        vertical-align: middle;\n",
       "    }\n",
       "\n",
       "    .dataframe tbody tr th {\n",
       "        vertical-align: top;\n",
       "    }\n",
       "\n",
       "    .dataframe thead th {\n",
       "        text-align: right;\n",
       "    }\n",
       "</style>\n",
       "<table border=\"1\" class=\"dataframe\">\n",
       "  <thead>\n",
       "    <tr style=\"text-align: right;\">\n",
       "      <th></th>\n",
       "      <th>Entry</th>\n",
       "      <th>Entry_name</th>\n",
       "      <th>Gene_name</th>\n",
       "      <th>Lng</th>\n",
       "      <th>Protein_name</th>\n",
       "    </tr>\n",
       "  </thead>\n",
       "  <tbody>\n",
       "    <tr>\n",
       "      <th>0</th>\n",
       "      <td>Q6Z4U4</td>\n",
       "      <td>BAK1_ORYSJ</td>\n",
       "      <td>BAK1</td>\n",
       "      <td>624</td>\n",
       "      <td>LRR_receptor_kinase</td>\n",
       "    </tr>\n",
       "    <tr>\n",
       "      <th>1</th>\n",
       "      <td>Q94F62</td>\n",
       "      <td>BAK1_ARATH</td>\n",
       "      <td>BAK1</td>\n",
       "      <td>615</td>\n",
       "      <td>BRASSINOSTEROID_INSENSITIVE_1-associated</td>\n",
       "    </tr>\n",
       "    <tr>\n",
       "      <th>2</th>\n",
       "      <td>Q942F3</td>\n",
       "      <td>BRI1_ORYSJ</td>\n",
       "      <td>BRI1</td>\n",
       "      <td>1121</td>\n",
       "      <td>Brassinosteroid_LRR_receptor</td>\n",
       "    </tr>\n",
       "    <tr>\n",
       "      <th>3</th>\n",
       "      <td>Q9FL28</td>\n",
       "      <td>FLS2_ARATH</td>\n",
       "      <td>FLS2</td>\n",
       "      <td>1173</td>\n",
       "      <td>LRR_receptor-like_serine/threonine-protein</td>\n",
       "    </tr>\n",
       "    <tr>\n",
       "      <th>4</th>\n",
       "      <td>O48814</td>\n",
       "      <td>BIK1_ARATH</td>\n",
       "      <td>BIK1</td>\n",
       "      <td>395</td>\n",
       "      <td>Serine/threonine-protein_kinase_BIK1</td>\n",
       "    </tr>\n",
       "  </tbody>\n",
       "</table>\n",
       "</div>"
      ],
      "text/plain": [
       "    Entry  Entry_name Gene_name   Lng  \\\n",
       "0  Q6Z4U4  BAK1_ORYSJ      BAK1   624   \n",
       "1  Q94F62  BAK1_ARATH      BAK1   615   \n",
       "2  Q942F3  BRI1_ORYSJ      BRI1  1121   \n",
       "3  Q9FL28  FLS2_ARATH      FLS2  1173   \n",
       "4  O48814  BIK1_ARATH      BIK1   395   \n",
       "\n",
       "                                 Protein_name  \n",
       "0                         LRR_receptor_kinase  \n",
       "1    BRASSINOSTEROID_INSENSITIVE_1-associated  \n",
       "2                Brassinosteroid_LRR_receptor  \n",
       "3  LRR_receptor-like_serine/threonine-protein  \n",
       "4        Serine/threonine-protein_kinase_BIK1  "
      ]
     },
     "execution_count": 5,
     "metadata": {},
     "output_type": "execute_result"
    }
   ],
   "source": [
    "df_gene_meta_data = pd.read_csv(\n",
    "  '/home/cynthia/xtrome-main/Uniprot_defense_data/bak1_pd.tab',\n",
    "  sep = ' '\n",
    ")\n",
    "print(\"Uniprot DB recovery on: March-2020\")\n",
    "print(\"Meta-Data related to plant-defense genes was recovery\")\n",
    "print(\"Classes consulted:\")\n",
    "print(\"1.   BAK1:\")\n",
    "\n",
    "print('====================================')\n",
    "print(\"Example of the class BAK1:\")\n",
    "#df_gene_meta_data.head(5)\n",
    "\n",
    "#Fields-Heders correspond as follow:\n",
    "#Entry: Unique an stable ID\n",
    "#Entry_name: UniprotKB Entry (Mnemonic)\n",
    "#Gene_name: gene name primary\n",
    "#Lng: gene length\n",
    "#Protein_name: protein name "
   ]
  },
  {
   "cell_type": "code",
   "execution_count": 96,
   "metadata": {
    "scrolled": true
   },
   "outputs": [],
   "source": [
    "# inserting column with static value in data frame for identify the class of the protein \n",
    "\n",
    "#df_gene_meta_data.insert(1,'Uniprot_Class', int, allowed_duplicates= False)\n",
    "df_gene_meta_data.insert(0,'Uniprot_Class', 1)"
   ]
  },
  {
   "cell_type": "code",
   "execution_count": 7,
   "metadata": {
    "scrolled": true
   },
   "outputs": [
    {
     "data": {
      "text/html": [
       "<div>\n",
       "<style scoped>\n",
       "    .dataframe tbody tr th:only-of-type {\n",
       "        vertical-align: middle;\n",
       "    }\n",
       "\n",
       "    .dataframe tbody tr th {\n",
       "        vertical-align: top;\n",
       "    }\n",
       "\n",
       "    .dataframe thead th {\n",
       "        text-align: right;\n",
       "    }\n",
       "</style>\n",
       "<table border=\"1\" class=\"dataframe\">\n",
       "  <thead>\n",
       "    <tr style=\"text-align: right;\">\n",
       "      <th></th>\n",
       "      <th>Entry</th>\n",
       "      <th>Entry_name</th>\n",
       "      <th>Gene_name</th>\n",
       "      <th>Lng</th>\n",
       "      <th>Protein_name</th>\n",
       "    </tr>\n",
       "  </thead>\n",
       "  <tbody>\n",
       "    <tr>\n",
       "      <th>19</th>\n",
       "      <td>Q06BH3</td>\n",
       "      <td>SRF1_ARATH</td>\n",
       "      <td>SRF1</td>\n",
       "      <td>775</td>\n",
       "      <td>Protein_STRUBBELIG-RECEPTOR_FAMILY</td>\n",
       "    </tr>\n",
       "    <tr>\n",
       "      <th>20</th>\n",
       "      <td>Q9LVE2</td>\n",
       "      <td>2A5Z_ARATH</td>\n",
       "      <td>B'ZETA</td>\n",
       "      <td>546</td>\n",
       "      <td>Serine/threonine_protein_phosphatase</td>\n",
       "    </tr>\n",
       "    <tr>\n",
       "      <th>21</th>\n",
       "      <td>Q9LU89</td>\n",
       "      <td>2A5N_ARATH</td>\n",
       "      <td>B'ETA</td>\n",
       "      <td>510</td>\n",
       "      <td>Serine/threonine_protein_phosphatase</td>\n",
       "    </tr>\n",
       "    <tr>\n",
       "      <th>22</th>\n",
       "      <td>Q7XII4</td>\n",
       "      <td>REM41_ORYSJ</td>\n",
       "      <td>REM4.1</td>\n",
       "      <td>316</td>\n",
       "      <td>Remorin_4.1_(OsREM4.1)</td>\n",
       "    </tr>\n",
       "    <tr>\n",
       "      <th>23</th>\n",
       "      <td>Q41220</td>\n",
       "      <td>SAU15_ARATH</td>\n",
       "      <td>SAUR15</td>\n",
       "      <td>89</td>\n",
       "      <td>Auxin-responsive_protein_SAUR15</td>\n",
       "    </tr>\n",
       "  </tbody>\n",
       "</table>\n",
       "</div>"
      ],
      "text/plain": [
       "     Entry   Entry_name Gene_name  Lng                          Protein_name\n",
       "19  Q06BH3   SRF1_ARATH      SRF1  775    Protein_STRUBBELIG-RECEPTOR_FAMILY\n",
       "20  Q9LVE2   2A5Z_ARATH    B'ZETA  546  Serine/threonine_protein_phosphatase\n",
       "21  Q9LU89   2A5N_ARATH     B'ETA  510  Serine/threonine_protein_phosphatase\n",
       "22  Q7XII4  REM41_ORYSJ    REM4.1  316                Remorin_4.1_(OsREM4.1)\n",
       "23  Q41220  SAU15_ARATH    SAUR15   89       Auxin-responsive_protein_SAUR15"
      ]
     },
     "execution_count": 7,
     "metadata": {},
     "output_type": "execute_result"
    }
   ],
   "source": [
    "#df_gene_meta_data.head(5)\n",
    "df_gene_meta_data.tail(5)"
   ]
  },
  {
   "cell_type": "code",
   "execution_count": 98,
   "metadata": {
    "scrolled": true
   },
   "outputs": [],
   "source": [
    "# create and save the dataframe into defense_meta_data csv file\n",
    "df_gene_meta_data.to_csv('Uniprot_defense_related/Defense_genes_metadata.csv', index = False) "
   ]
  },
  {
   "cell_type": "markdown",
   "metadata": {},
   "source": [
    "### Append all records associated to each class pre-defined in the dict_uniprot"
   ]
  },
  {
   "cell_type": "code",
   "execution_count": 122,
   "metadata": {},
   "outputs": [
    {
     "name": "stdout",
     "output_type": "stream",
     "text": [
      "Directory where locate Uniprot_defense_related.csv file is: /home/cynthia/xtrome-main/Uniprot_defense_related\n",
      "\n",
      "Contains:\n",
      "\n",
      "/fls2_pd.tab\n",
      "/defense_x.csv\n",
      "/mapks_pd.tab\n",
      "/tir_pd.tab\n",
      "/rlks_pd.tab\n",
      "/cc_pd.tab\n",
      "/cdpks_pd.tab\n",
      "/bak1_pd.tab\n",
      "/rks_pd.tab\n",
      "/prr_pd.tab\n",
      "/bik1_pd.tab\n",
      "/nb-lrr_pd.tab\n",
      "/raw_uniprot_files\n",
      "/Defense_genes_metadata.csv\n"
     ]
    }
   ],
   "source": [
    "# Get the full list of fasta file (parameter sys.2) \n",
    "# pwd = str(pwd)\n",
    "# base_dir: /home/cynthia/xtrome-main\n",
    "s_dir = '/home/cynthia/xtrome-main/Uniprot_defense_related'     \n",
    "arr_fasta_f = os.listdir(s_dir)          # Folder name to open\n",
    "print('Directory where locate Uniprot_defense_related.csv file is:', s_dir)\n",
    "print('\\nContains:\\n')\n",
    "\n",
    "# Parse the csv iles into the directory to compose the meta_data class \n",
    "for fasta_f in (arr_fasta_f):\n",
    "    f_file = '/'+ fasta_f\n",
    "    print(f_file)                          \n",
    "\n",
    "#for keys,values in dict_uniprot.items():\n",
    "#    print(keys+':'+values)\n"
   ]
  },
  {
   "cell_type": "markdown",
   "metadata": {},
   "source": [
    "# TIR\n",
    "code 11\n"
   ]
  },
  {
   "cell_type": "code",
   "execution_count": 33,
   "metadata": {},
   "outputs": [],
   "source": [
    "# goal: cut protein names in a short description & rename columns in a fashion look\n",
    "\n",
    "# I M P O R T A N T     N O T E S: before to continue be sure to format a bit your raw file.\n",
    "# E.g. you canuse awk linux command as: awk '{prot_name=$5\"_\"$6\"_\"$7; print $1,$2,$3,$4,prot_name}' uniprot-bik1+plants.tab > bik1_pd.tab\n",
    "\n",
    "# load Uniprot raw data in csv format\n",
    "df_gene_meta_data = pd.read_csv(\n",
    "  '/home/cynthia/xtrome-main/Uniprot_defense_related/tir_pd.tab',\n",
    "  sep = ' '\n",
    ")\n",
    "# rename to columns to make them more intuitive\n",
    "df_gene_meta_data.rename(columns = {'Entry.1':'Entry_name', \"name\": \"Gene_name\", \"Gene\": \"Lng\", \"names_(primary_)\": \"Protein_name\"}, inplace = True) \n",
    "df_gene_meta_data.head(5)\n",
    "# insert the new meta-data control column (see Personalized classification above)\n",
    "df_gene_meta_data.insert(0,'Uniprot_Class', 11)\n",
    "df_gene_meta_data.head(5)\n",
    "#len(df_gene_meta_data)\n",
    "\n",
    "# Append the results to a the 'Defense_genes_metadata.csv' file   \n",
    "df_gene_meta_data.to_csv('Uniprot_defense_related/Defense_genes_metadata.csv', mode='a', index=False, sep=',', header=False)\n"
   ]
  },
  {
   "cell_type": "markdown",
   "metadata": {},
   "source": [
    "# RLKs\n",
    "code 10"
   ]
  },
  {
   "cell_type": "code",
   "execution_count": 34,
   "metadata": {},
   "outputs": [],
   "source": [
    "# goal: cut protein names in a short description & rename columns in a fashion look\n",
    "\n",
    "# I M P O R T A N T     N O T E S: before to continue be sure to format a bit your raw file.\n",
    "# E.g. you canuse awk linux command as: awk '{prot_name=$5\"_\"$6\"_\"$7; print $1,$2,$3,$4,prot_name}' uniprot-bik1+plants.tab > bik1_pd.tab\n",
    "\n",
    "# load Uniprot raw data in csv format\n",
    "df_gene_meta_data = pd.read_csv(\n",
    "  '/home/cynthia/xtrome-main/Uniprot_defense_related/rlks_pd.tab',\n",
    "  sep = ' '\n",
    ")\n",
    "# rename to columns to make them more intuitive\n",
    "df_gene_meta_data.rename(columns = {'Entry.1':'Entry_name', \"name\": \"Gene_name\", \"Gene\": \"Lng\", \"names_(primary_)\": \"Protein_name\"}, inplace = True) \n",
    "df_gene_meta_data.head(5)\n",
    "# insert the new meta-data control column (see Personalized classification above)\n",
    "df_gene_meta_data.insert(0,'Uniprot_Class', 10)\n",
    "df_gene_meta_data.head(5)\n",
    "#len(df_gene_meta_data)\n",
    "\n",
    "# Append the results to a the 'Defense_genes_metadata.csv' file   \n",
    "df_gene_meta_data.to_csv('Uniprot_defense_related/Defense_genes_metadata.csv', mode='a', index=False, sep=',', header=False)\n"
   ]
  },
  {
   "cell_type": "markdown",
   "metadata": {},
   "source": [
    "# RKs\n",
    "code 9\n"
   ]
  },
  {
   "cell_type": "code",
   "execution_count": 35,
   "metadata": {},
   "outputs": [],
   "source": [
    "# goal: cut protein names in a short description & rename columns in a fashion look\n",
    "\n",
    "# I M P O R T A N T     N O T E S: before to continue be sure to format a bit your raw file.\n",
    "# E.g. you canuse awk linux command as: awk '{prot_name=$5\"_\"$6\"_\"$7; print $1,$2,$3,$4,prot_name}' uniprot-bik1+plants.tab > bik1_pd.tab\n",
    "\n",
    "# load Uniprot raw data in csv format\n",
    "df_gene_meta_data = pd.read_csv(\n",
    "  '/home/cynthia/xtrome-main/Uniprot_defense_related/rks_pd.tab',\n",
    "  sep = ' '\n",
    ")\n",
    "# rename to columns to make them more intuitive\n",
    "df_gene_meta_data.rename(columns = {'Entry.1':'Entry_name', \"name\": \"Gene_name\", \"Gene\": \"Lng\", \"names_(primary_)\": \"Protein_name\"}, inplace = True) \n",
    "df_gene_meta_data.head(5)\n",
    "# insert the new meta-data control column (see Personalized classification above)\n",
    "df_gene_meta_data.insert(0,'Uniprot_Class', 9)\n",
    "df_gene_meta_data.head(5)\n",
    "#len(df_gene_meta_data)\n",
    "\n",
    "# Append the results to a the 'Defense_genes_metadata.csv' file   \n",
    "df_gene_meta_data.to_csv('Uniprot_defense_related/Defense_genes_metadata.csv', mode='a', index=False, sep=',', header=False)\n"
   ]
  },
  {
   "cell_type": "markdown",
   "metadata": {},
   "source": [
    "# PRR\n",
    "code 8"
   ]
  },
  {
   "cell_type": "code",
   "execution_count": 36,
   "metadata": {},
   "outputs": [],
   "source": [
    "# goal: cut protein names in a short description & rename columns in a fashion look\n",
    "\n",
    "# I M P O R T A N T     N O T E S: before to continue be sure to format a bit your raw file.\n",
    "# E.g. you canuse awk linux command as: awk '{prot_name=$5\"_\"$6\"_\"$7; print $1,$2,$3,$4,prot_name}' uniprot-bik1+plants.tab > bik1_pd.tab\n",
    "\n",
    "# load Uniprot raw data in csv format\n",
    "df_gene_meta_data = pd.read_csv(\n",
    "  '/home/cynthia/xtrome-main/Uniprot_defense_related/prr_pd.tab',\n",
    "  sep = ' '\n",
    ")\n",
    "# rename to columns to make them more intuitive\n",
    "df_gene_meta_data.rename(columns = {'Entry.1':'Entry_name', \"name\": \"Gene_name\", \"Gene\": \"Lng\", \"names_(primary_)\": \"Protein_name\"}, inplace = True) \n",
    "df_gene_meta_data.head(5)\n",
    "# insert the new meta-data control column (see Personalized classification above)\n",
    "df_gene_meta_data.insert(0,'Uniprot_Class', 8)\n",
    "df_gene_meta_data.head(5)\n",
    "#len(df_gene_meta_data)\n",
    "\n",
    "# Append the results to a the 'Defense_genes_metadata.csv' file   \n",
    "df_gene_meta_data.to_csv('Uniprot_defense_related/Defense_genes_metadata.csv', mode='a', index=False, sep=',', header=False)\n"
   ]
  },
  {
   "cell_type": "markdown",
   "metadata": {},
   "source": [
    "# NB-LRR\n",
    "code 7\n"
   ]
  },
  {
   "cell_type": "code",
   "execution_count": 37,
   "metadata": {},
   "outputs": [],
   "source": [
    "# goal: cut protein names in a short description & rename columns in a fashion look\n",
    "\n",
    "# I M P O R T A N T     N O T E S: before to continue be sure to format a bit your raw file.\n",
    "# E.g. you canuse awk linux command as: awk '{prot_name=$5\"_\"$6\"_\"$7; print $1,$2,$3,$4,prot_name}' uniprot-bik1+plants.tab > bik1_pd.tab\n",
    "\n",
    "# load Uniprot raw data in csv format\n",
    "df_gene_meta_data = pd.read_csv(\n",
    "  '/home/cynthia/xtrome-main/Uniprot_defense_related/nb-lrr_pd.tab',\n",
    "  sep = ' '\n",
    ")\n",
    "# rename to columns to make them more intuitive\n",
    "df_gene_meta_data.rename(columns = {'Entry.1':'Entry_name', \"name\": \"Gene_name\", \"Gene\": \"Lng\", \"names_(primary_)\": \"Protein_name\"}, inplace = True) \n",
    "df_gene_meta_data.head(5)\n",
    "# insert the new meta-data control column (see Personalized classification above)\n",
    "df_gene_meta_data.insert(0,'Uniprot_Class', 7)\n",
    "df_gene_meta_data.head(5)\n",
    "#len(df_gene_meta_data)\n",
    "\n",
    "# Append the results to a the 'Defense_genes_metadata.csv' file   \n",
    "df_gene_meta_data.to_csv('Uniprot_defense_related/Defense_genes_metadata.csv', mode='a', index=False, sep=',', header=False)\n"
   ]
  },
  {
   "cell_type": "markdown",
   "metadata": {},
   "source": [
    "# MAPKs\n",
    "code 6\n"
   ]
  },
  {
   "cell_type": "code",
   "execution_count": 38,
   "metadata": {},
   "outputs": [],
   "source": [
    "# goal: cut protein names in a short description & rename columns in a fashion look\n",
    "\n",
    "# I M P O R T A N T     N O T E S: before to continue be sure to format a bit your raw file.\n",
    "# E.g. you canuse awk linux command as: awk '{prot_name=$5\"_\"$6\"_\"$7; print $1,$2,$3,$4,prot_name}' uniprot-bik1+plants.tab > bik1_pd.tab\n",
    "\n",
    "# load Uniprot raw data in csv format\n",
    "df_gene_meta_data = pd.read_csv(\n",
    "  '/home/cynthia/xtrome-main/Uniprot_defense_related/mapks_pd.tab',\n",
    "  sep = ' '\n",
    ")\n",
    "# rename to columns to make them more intuitive\n",
    "df_gene_meta_data.rename(columns = {'Entry.1':'Entry_name', \"name\": \"Gene_name\", \"Gene\": \"Lng\", \"names_(primary_)\": \"Protein_name\"}, inplace = True) \n",
    "df_gene_meta_data.head(5)\n",
    "# insert the new meta-data control column (see Personalized classification above)\n",
    "df_gene_meta_data.insert(0,'Uniprot_Class', 6)\n",
    "df_gene_meta_data.head(5)\n",
    "#len(df_gene_meta_data)\n",
    "\n",
    "# Append the results to a the 'Defense_genes_metadata.csv' file   \n",
    "df_gene_meta_data.to_csv('Uniprot_defense_related/Defense_genes_metadata.csv', mode='a', index=False, sep=',', header=False)\n"
   ]
  },
  {
   "cell_type": "markdown",
   "metadata": {},
   "source": [
    "# FLS2\n",
    "code 5"
   ]
  },
  {
   "cell_type": "code",
   "execution_count": 39,
   "metadata": {},
   "outputs": [],
   "source": [
    "# goal: cut protein names in a short description & rename columns in a fashion look\n",
    "\n",
    "# I M P O R T A N T     N O T E S: before to continue be sure to format a bit your raw file.\n",
    "# E.g. you canuse awk linux command as: awk '{prot_name=$5\"_\"$6\"_\"$7; print $1,$2,$3,$4,prot_name}' uniprot-bik1+plants.tab > bik1_pd.tab\n",
    "\n",
    "# load Uniprot raw data in csv format\n",
    "df_gene_meta_data = pd.read_csv(\n",
    "  '/home/cynthia/xtrome-main/Uniprot_defense_related/fls2_pd.tab',\n",
    "  sep = ' '\n",
    ")\n",
    "# rename to columns to make them more intuitive\n",
    "df_gene_meta_data.rename(columns = {'Entry.1':'Entry_name', \"name\": \"Gene_name\", \"Gene\": \"Lng\", \"names_(primary_)\": \"Protein_name\"}, inplace = True) \n",
    "df_gene_meta_data.head(5)\n",
    "# insert the new meta-data control column (see Personalized classification above)\n",
    "df_gene_meta_data.insert(0,'Uniprot_Class', 5)\n",
    "df_gene_meta_data.head(5)\n",
    "#len(df_gene_meta_data)\n",
    "\n",
    "# Append the results to a the 'Defense_genes_metadata.csv' file   \n",
    "df_gene_meta_data.to_csv('Uniprot_defense_related/Defense_genes_metadata.csv', mode='a', index=False, sep=',', header=False)\n"
   ]
  },
  {
   "cell_type": "markdown",
   "metadata": {},
   "source": [
    "# CDPKs\n",
    "code 4\n"
   ]
  },
  {
   "cell_type": "code",
   "execution_count": 40,
   "metadata": {},
   "outputs": [],
   "source": [
    "# goal: cut protein names in a short description & rename columns in a fashion look\n",
    "\n",
    "# I M P O R T A N T     N O T E S: before to continue be sure to format a bit your raw file.\n",
    "# E.g. you canuse awk linux command as: awk '{prot_name=$5\"_\"$6\"_\"$7; print $1,$2,$3,$4,prot_name}' uniprot-bik1+plants.tab > bik1_pd.tab\n",
    "\n",
    "# load Uniprot raw data in csv format\n",
    "df_gene_meta_data = pd.read_csv(\n",
    "  '/home/cynthia/xtrome-main/Uniprot_defense_related/cdpks_pd.tab',\n",
    "  sep = ' '\n",
    ")\n",
    "# rename to columns to make them more intuitive\n",
    "df_gene_meta_data.rename(columns = {'Entry.1':'Entry_name', \"name\": \"Gene_name\", \"Gene\": \"Lng\", \"names_(primary_)\": \"Protein_name\"}, inplace = True) \n",
    "df_gene_meta_data.head(5)\n",
    "# insert the new meta-data control column (see Personalized classification above)\n",
    "df_gene_meta_data.insert(0,'Uniprot_Class', 4)\n",
    "df_gene_meta_data.head(5)\n",
    "#len(df_gene_meta_data)\n",
    "\n",
    "# Append the results to a the 'Defense_genes_metadata.csv' file   \n",
    "df_gene_meta_data.to_csv('Uniprot_defense_related/Defense_genes_metadata.csv', mode='a', index=False, sep=',', header=False)\n"
   ]
  },
  {
   "cell_type": "markdown",
   "metadata": {},
   "source": [
    "# CC\n",
    "code 3"
   ]
  },
  {
   "cell_type": "code",
   "execution_count": 41,
   "metadata": {},
   "outputs": [],
   "source": [
    "# goal: cut protein names in a short description & rename columns in a fashion look\n",
    "\n",
    "# I M P O R T A N T     N O T E S: before to continue be sure to format a bit your raw file.\n",
    "# E.g. you canuse awk linux command as: awk '{prot_name=$5\"_\"$6\"_\"$7; print $1,$2,$3,$4,prot_name}' uniprot-bik1+plants.tab > bik1_pd.tab\n",
    "\n",
    "# load Uniprot raw data in csv format\n",
    "df_gene_meta_data = pd.read_csv(\n",
    "  '/home/cynthia/xtrome-main/Uniprot_defense_related/cc_pd.tab',\n",
    "  sep = ' '\n",
    ")\n",
    "# rename to columns to make them more intuitive\n",
    "df_gene_meta_data.rename(columns = {'Entry.1':'Entry_name', \"name\": \"Gene_name\", \"Gene\": \"Lng\", \"names_(primary_)\": \"Protein_name\"}, inplace = True) \n",
    "df_gene_meta_data.head(5)\n",
    "# insert the new meta-data control column (see Personalized classification above)\n",
    "df_gene_meta_data.insert(0,'Uniprot_Class', 3)\n",
    "df_gene_meta_data.head(5)\n",
    "#len(df_gene_meta_data)\n",
    "\n",
    "# Append the results to a the 'Defense_genes_metadata.csv' file   \n",
    "df_gene_meta_data.to_csv('Uniprot_defense_related/Defense_genes_metadata.csv', mode='a', index=False, sep=',', header=False)\n"
   ]
  },
  {
   "cell_type": "markdown",
   "metadata": {},
   "source": [
    "# BIK1\n",
    "code 2"
   ]
  },
  {
   "cell_type": "code",
   "execution_count": 42,
   "metadata": {},
   "outputs": [
    {
     "data": {
      "text/html": [
       "<div>\n",
       "<style scoped>\n",
       "    .dataframe tbody tr th:only-of-type {\n",
       "        vertical-align: middle;\n",
       "    }\n",
       "\n",
       "    .dataframe tbody tr th {\n",
       "        vertical-align: top;\n",
       "    }\n",
       "\n",
       "    .dataframe thead th {\n",
       "        text-align: right;\n",
       "    }\n",
       "</style>\n",
       "<table border=\"1\" class=\"dataframe\">\n",
       "  <thead>\n",
       "    <tr style=\"text-align: right;\">\n",
       "      <th></th>\n",
       "      <th>Uniprot_Class</th>\n",
       "      <th>Entry</th>\n",
       "      <th>Entry_name</th>\n",
       "      <th>Gene_name</th>\n",
       "      <th>Lng</th>\n",
       "      <th>Protein_name</th>\n",
       "    </tr>\n",
       "  </thead>\n",
       "  <tbody>\n",
       "    <tr>\n",
       "      <th>0</th>\n",
       "      <td>2</td>\n",
       "      <td>O48814</td>\n",
       "      <td>BIK1_ARATH</td>\n",
       "      <td>BIK1</td>\n",
       "      <td>395</td>\n",
       "      <td>Serine/threonine-protein_kinase_BIK1</td>\n",
       "    </tr>\n",
       "    <tr>\n",
       "      <th>1</th>\n",
       "      <td>2</td>\n",
       "      <td>Q9FIJ0</td>\n",
       "      <td>RBOHD_ARATH</td>\n",
       "      <td>RBOHD</td>\n",
       "      <td>921</td>\n",
       "      <td>Respiratory_burst_oxidase</td>\n",
       "    </tr>\n",
       "    <tr>\n",
       "      <th>2</th>\n",
       "      <td>2</td>\n",
       "      <td>Q9FL28</td>\n",
       "      <td>FLS2_ARATH</td>\n",
       "      <td>FLS2</td>\n",
       "      <td>1173</td>\n",
       "      <td>LRR_receptor-like_serine/threonine-protein</td>\n",
       "    </tr>\n",
       "    <tr>\n",
       "      <th>3</th>\n",
       "      <td>2</td>\n",
       "      <td>Q94F62</td>\n",
       "      <td>BAK1_ARATH</td>\n",
       "      <td>BAK1</td>\n",
       "      <td>615</td>\n",
       "      <td>BRASSINOSTEROID_INSENSITIVE_1-associated</td>\n",
       "    </tr>\n",
       "    <tr>\n",
       "      <th>4</th>\n",
       "      <td>2</td>\n",
       "      <td>Q52430</td>\n",
       "      <td>AVRP3_PSESH</td>\n",
       "      <td>avrPph3</td>\n",
       "      <td>267</td>\n",
       "      <td>Cysteine_protease_avirulence</td>\n",
       "    </tr>\n",
       "  </tbody>\n",
       "</table>\n",
       "</div>"
      ],
      "text/plain": [
       "   Uniprot_Class   Entry   Entry_name Gene_name   Lng  \\\n",
       "0              2  O48814   BIK1_ARATH      BIK1   395   \n",
       "1              2  Q9FIJ0  RBOHD_ARATH     RBOHD   921   \n",
       "2              2  Q9FL28   FLS2_ARATH      FLS2  1173   \n",
       "3              2  Q94F62   BAK1_ARATH      BAK1   615   \n",
       "4              2  Q52430  AVRP3_PSESH   avrPph3   267   \n",
       "\n",
       "                                 Protein_name  \n",
       "0        Serine/threonine-protein_kinase_BIK1  \n",
       "1                   Respiratory_burst_oxidase  \n",
       "2  LRR_receptor-like_serine/threonine-protein  \n",
       "3    BRASSINOSTEROID_INSENSITIVE_1-associated  \n",
       "4                Cysteine_protease_avirulence  "
      ]
     },
     "execution_count": 42,
     "metadata": {},
     "output_type": "execute_result"
    }
   ],
   "source": [
    "# goal: cut protein names in a short description & rename columns in a fashion look\n",
    "\n",
    "# Important Notes: before to continue be sure to format a bit your raw file.\n",
    "# E.g. you canuse awk linux command as: awk '{prot_name=$5\"_\"$6\"_\"$7; print $1,$2,$3,$4,prot_name}' uniprot-bik1+plants.tab > bik1_pd.tab\n",
    "\n",
    "# load Uniprot raw data in csv format\n",
    "df_gene_meta_data = pd.read_csv(\n",
    "  '/home/cynthia/xtrome-main/Uniprot_defense_related/bik1_pd.tab',\n",
    "  sep = ' '\n",
    ")\n",
    "# rename to columns to make them more intuitive\n",
    "df_gene_meta_data.rename(columns = {'Entry.1':'Entry_name', \"name\": \"Gene_name\", \"Gene\": \"Lng\", \"names_(primary_)\": \"Protein_name\"}, inplace = True) \n",
    "df_gene_meta_data.head(5)\n",
    "# insert the new meta-data control column (see Personalized classification above)\n",
    "df_gene_meta_data.insert(0,'Uniprot_Class', 2)\n",
    "df_gene_meta_data.head(5)\n",
    "#len(df_gene_meta_data)"
   ]
  },
  {
   "cell_type": "code",
   "execution_count": 43,
   "metadata": {
    "scrolled": true
   },
   "outputs": [],
   "source": [
    "# Append the results to a the 'Defense_genes_metadata.csv' file\n",
    "      \n",
    "df_gene_meta_data.to_csv('Uniprot_defense_related/Defense_genes_metadata.csv', mode='a', index=False, sep=',', header=False)\n",
    "\n",
    "#def appendDFToCSV_void(df, csvFilePath, sep=\",\"):\n",
    "#    import os\n",
    "#    if not os.path.isfile(csvFilePath):\n",
    "#        df.to_csv(csvFilePath, mode='a', index=False, sep=sep)\n",
    "#    elif len(df.columns) != len(pd.read_csv(csvFilePath, nrows=1, sep=sep).columns):\n",
    "#        raise Exception(\"Columns do not match!! Dataframe has \" + str(len(df.columns)) + \" columns. CSV file has \" + str(len(pd.read_csv(csvFilePath, nrows=1, sep=sep).columns)) + \" columns.\")\n",
    "#    elif not (df.columns == pd.read_csv(csvFilePath, nrows=1, sep=sep).columns).all():\n",
    "#        raise Exception(\"Columns and column order of dataframe and csv file do not match!!\")\n",
    "#    else:\n",
    "#        df.to_csv(csvFilePath, mode='a', index=False, sep=sep, header=False)"
   ]
  },
  {
   "cell_type": "code",
   "execution_count": null,
   "metadata": {},
   "outputs": [],
   "source": []
  },
  {
   "cell_type": "markdown",
   "metadata": {},
   "source": [
    "## A bit on the exploration of the datasets"
   ]
  },
  {
   "cell_type": "code",
   "execution_count": 44,
   "metadata": {},
   "outputs": [],
   "source": [
    "# load Uniprot raw data in csv format\n",
    "df_gene_meta_data = pd.read_csv(\n",
    "  '/home/cynthia/xtrome-main/Uniprot_defense_related/Defense_genes_metadata.csv',\n",
    "  sep = ','\n",
    ")\n",
    "df_gene_meta_data.head() \n",
    "df_gene_meta_data.tail()"
   ]
  },
  {
   "cell_type": "markdown",
   "metadata": {},
   "source": [
    "## Essential classification based on several criterias\n"
   ]
  },
  {
   "cell_type": "code",
   "execution_count": 65,
   "metadata": {},
   "outputs": [
    {
     "name": "stdout",
     "output_type": "stream",
     "text": [
      "Uniprot DB recovery on: March-2020\n",
      "Criteria: filtered data by reviewed\n",
      "====================================\n",
      "\n",
      "Número de genes (primary_associated) en las clases BAK1, BIK1, CC, CDPKs, FLS2, MAPKs, NB-LRR, PRR, RKs, RLKs, TIR: 216 \n",
      "\n",
      "Agrupado por meta-clase:11\n",
      "Agrupado por identificador unico en bd (estable):189\n",
      "Agrupado por Protein_name:110\n",
      "Agrupado por Gene_name:179\n"
     ]
    }
   ],
   "source": [
    "# Overview of data\n",
    "\n",
    "# print('Data dimensions:', df_gene_meta_data.shape, '\\n')\n",
    "# print(df_gene_meta_data.dtypes)\n",
    "print(\"Uniprot DB recovery on: March-2020\")\n",
    "print(\"Criteria: filtered data by reviewed\")\n",
    "print('====================================\\n')\n",
    "print('Número de genes (primary_associated) en las clases BAK1, BIK1, CC, CDPKs, FLS2, MAPKs, NB-LRR, PRR, RKs, RLKs, TIR:', df_gene_meta_data['Uniprot_Class'].count(),'\\n')\n",
    "# print(len(df_gene_meta_data))\n",
    "\n",
    "\n",
    "# Based in Uniprot Class pre-defined\n",
    "df_grp = df_gene_meta_data.groupby(['Uniprot_Class'])\n",
    "i = str(len(df_grp))\n",
    "print('Agrupado por meta-clase:'+ i)\n",
    "\n",
    "# Based in the 'Entry' Class field pre-defined\n",
    "df_grp = df_gene_meta_data.groupby(['Entry'])\n",
    "i = str(len(df_grp))\n",
    "print('Agrupado por identificador unico en bd (estable):'+ i)\n",
    "\n",
    "# Based in the 'Protein_name' Class field pre-defined\n",
    "df_grp = df_gene_meta_data.groupby(['Protein_name'])\n",
    "i = str(len(df_grp))\n",
    "print('Agrupado por Protein_name:'+ i)\n",
    "\n",
    "# Based in the 'Gene_name' Class field pre-defined\n",
    "df_grp = df_gene_meta_data.groupby(['Gene_name'])\n",
    "i = str(len(df_grp))\n",
    "print('Agrupado por Gene_name:'+ i)"
   ]
  },
  {
   "cell_type": "code",
   "execution_count": 88,
   "metadata": {
    "scrolled": true
   },
   "outputs": [
    {
     "name": "stdout",
     "output_type": "stream",
     "text": [
      "How to interpret this result:\n",
      "\n",
      "Basically you are showing a group by gene_name dataset. The # in the Uniprot_class column implies that exist n equal gene_names with different proteins definitions.\n",
      "\n",
      "Total members gruped by Gene_name class: Entry           11\n",
      "Entry_name      11\n",
      "Gene_name       11\n",
      "Lng             11\n",
      "Protein_name    11\n",
      "dtype: int64\n"
     ]
    }
   ],
   "source": [
    "# Getting a protein description associated to the primary_gene name \n",
    "\n",
    "df_grp_sum = df_gene_meta_data.groupby(['Uniprot_Class']).sum()\n",
    "\n",
    "print('How to interpret this result:\\n')\n",
    "print('Basically you are showing a group by gene_name dataset. The # in the Uniprot_class column implies that exist n equal gene_names with different proteins definitions.\\n')\n",
    "print('Total members gruped by Gene_name class:', df_grp_sum.count())\n",
    "#df_grp_sum.head(5)\n"
   ]
  },
  {
   "cell_type": "code",
   "execution_count": 87,
   "metadata": {
    "scrolled": true
   },
   "outputs": [
    {
     "ename": "SyntaxError",
     "evalue": "invalid syntax (<ipython-input-87-2d914ce507e6>, line 7)",
     "output_type": "error",
     "traceback": [
      "\u001b[0;36m  File \u001b[0;32m\"<ipython-input-87-2d914ce507e6>\"\u001b[0;36m, line \u001b[0;32m7\u001b[0m\n\u001b[0;31m    for Uniprot_Class=='2' in df_grp:\u001b[0m\n\u001b[0m                     ^\u001b[0m\n\u001b[0;31mSyntaxError\u001b[0m\u001b[0;31m:\u001b[0m invalid syntax\n"
     ]
    }
   ],
   "source": [
    "# For details about the grouped category\n",
    "# Ejm: based on the 'Uniprot_Class' Class field pre-defined\n",
    "df_grp = df_gene_meta_data.groupby(['Uniprot_Class'])\n",
    "i = str(len(df_grp))\n",
    "print('Agrupado por:'+ df_grp  + i)\n",
    "\n",
    "for Uniprot_Class=='2' in df_grp:\n",
    "    #print(Uniprot_Class)\n",
    "    print(Gene_name)    "
   ]
  },
  {
   "cell_type": "code",
   "execution_count": null,
   "metadata": {
    "scrolled": true
   },
   "outputs": [],
   "source": [
    "# Getting a protein description associated to the primary_gene name \n",
    "\n",
    "df_grp2 = df_gene_meta_data.groupby(['Gene_name','Protein_name']).sum()\n",
    "\n",
    "print('How to interpret this result:\\n')\n",
    "print('Basically you are showing a group by gene_name & protein_name dataset. The # in the Uniprot_class column implies that exist n equal gene_names with the same protein definition.\\n')\n",
    "print('Total members after gruping class by gene_name & protein_name:', df_grp2.count())\n",
    "df_grp3.head(10)"
   ]
  },
  {
   "cell_type": "code",
   "execution_count": null,
   "metadata": {
    "scrolled": true
   },
   "outputs": [],
   "source": []
  }
 ],
 "metadata": {
  "kernelspec": {
   "display_name": "Python 3",
   "language": "python",
   "name": "python3"
  },
  "language_info": {
   "codemirror_mode": {
    "name": "ipython",
    "version": 3
   },
   "file_extension": ".py",
   "mimetype": "text/x-python",
   "name": "python",
   "nbconvert_exporter": "python",
   "pygments_lexer": "ipython3",
   "version": "3.8.1"
  }
 },
 "nbformat": 4,
 "nbformat_minor": 2
}
